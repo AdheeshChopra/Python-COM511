{
 "cells": [
  {
   "cell_type": "markdown",
   "id": "c4f6bd85-8a2b-4c4e-9486-55d4da5956c9",
   "metadata": {},
   "source": [
    "## Write a program that inputs a text file the program should print all the unique words in the file in alphabetical order."
   ]
  },
  {
   "cell_type": "code",
   "execution_count": null,
   "id": "d4b4c531-518b-433e-991f-ba77075c53de",
   "metadata": {},
   "outputs": [],
   "source": []
  }
 ],
 "metadata": {
  "kernelspec": {
   "display_name": "Python 3 (ipykernel)",
   "language": "python",
   "name": "python3"
  },
  "language_info": {
   "codemirror_mode": {
    "name": "ipython",
    "version": 3
   },
   "file_extension": ".py",
   "mimetype": "text/x-python",
   "name": "python",
   "nbconvert_exporter": "python",
   "pygments_lexer": "ipython3",
   "version": "3.12.4"
  }
 },
 "nbformat": 4,
 "nbformat_minor": 5
}
