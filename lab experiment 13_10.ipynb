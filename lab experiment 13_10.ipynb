{
 "cells": [
  {
   "cell_type": "markdown",
   "id": "c4f6bd85-8a2b-4c4e-9486-55d4da5956c9",
   "metadata": {},
   "source": [
    "## Write a program that inputs a text file the program should print all the unique words in the file in alphabetical order."
   ]
  },
  {
   "cell_type": "code",
   "execution_count": 4,
   "id": "d4b4c531-518b-433e-991f-ba77075c53de",
   "metadata": {},
   "outputs": [
    {
     "name": "stdout",
     "output_type": "stream",
     "text": [
      "'a'\n",
      "'r'\n",
      "'w'\n",
      "=\n",
      "Basic\n",
      "File\n",
      "Handling\n",
      "In\n",
      "Mode\n",
      "This\n",
      "Using\n",
      "a\n",
      "allowed\n",
      "append\n",
      "basic\n",
      "getting\n",
      "how\n",
      "learn\n",
      "mode\n",
      "of\n",
      "open('file_name','mode')\n",
      "python\n",
      "r\n",
      "read\n",
      "so\n",
      "syntax\n",
      "text\n",
      "text.file\n",
      "u\n",
      "used\n",
      "variable_name\n",
      "write\n"
     ]
    }
   ],
   "source": [
    "file=open(\"abc.txt\",\"r\")\n",
    "f=file.readlines()\n",
    "k=[]\n",
    "for i in f:\n",
    "    for j in i.split():\n",
    "        k.append(j)\n",
    "\n",
    "k.sort()\n",
    "for h in k:\n",
    "    if k.count(h)==1:\n",
    "        print(h)\n",
    "file.close()"
   ]
  },
  {
   "cell_type": "code",
   "execution_count": null,
   "id": "c076b13e-78f2-4a9a-a3f8-70fc8700e7e2",
   "metadata": {},
   "outputs": [],
   "source": []
  }
 ],
 "metadata": {
  "kernelspec": {
   "display_name": "Python 3 (ipykernel)",
   "language": "python",
   "name": "python3"
  },
  "language_info": {
   "codemirror_mode": {
    "name": "ipython",
    "version": 3
   },
   "file_extension": ".py",
   "mimetype": "text/x-python",
   "name": "python",
   "nbconvert_exporter": "python",
   "pygments_lexer": "ipython3",
   "version": "3.12.4"
  }
 },
 "nbformat": 4,
 "nbformat_minor": 5
}
