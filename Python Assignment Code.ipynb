{
 "cells": [
  {
   "cell_type": "code",
   "execution_count": 1,
   "id": "517e8f42-c7e2-4c5e-93fd-bbb08922dc4a",
   "metadata": {},
   "outputs": [
    {
     "name": "stdout",
     "output_type": "stream",
     "text": [
      "   4 \n",
      "  3 4 5 \n",
      " 2 3 4 5 6 \n",
      "1 2 3 4 5 6 7 \n"
     ]
    }
   ],
   "source": [
    "def print_pattern(n):\n",
    "    for i in range(n, 0, -1):\n",
    "        # Print leading spaces\n",
    "        print(\" \" * (i - 1), end=\"\")\n",
    "\n",
    "        # Print increasing numbers\n",
    "        for j in range(i, n + (n - i) + 1):\n",
    "            print(j, end=\" \")\n",
    "\n",
    "        print()  # Move to the next line\n",
    "\n",
    "# Call the function with n=4\n",
    "print_pattern(4)"
   ]
  },
  {
   "cell_type": "code",
   "execution_count": 6,
   "id": "40ed71df-a550-4525-ab14-0e39081265df",
   "metadata": {},
   "outputs": [
    {
     "name": "stdout",
     "output_type": "stream",
     "text": [
      "num = 4879\n",
      "Reversed number: 9784\n"
     ]
    }
   ],
   "source": [
    "# Input number\n",
    "num = 4879\n",
    "print(\"num = 4879\")\n",
    "\n",
    "# Initialize the reversed number to 0\n",
    "reversed_num = 0\n",
    "\n",
    "# While loop to reverse the digits\n",
    "while num > 0:\n",
    "    remainder = num % 10        # Get the last digit\n",
    "    reversed_num = reversed_num * 10 + remainder  # Append the digit to the reversed number\n",
    "    num = num // 10             # Remove the last digit from the original number\n",
    "\n",
    "# Output the result\n",
    "print(\"Reversed number:\", reversed_num)"
   ]
  },
  {
   "cell_type": "code",
   "execution_count": null,
   "id": "57dbd318-09d1-4c41-8c04-6f13f33a9d83",
   "metadata": {},
   "outputs": [],
   "source": []
  }
 ],
 "metadata": {
  "kernelspec": {
   "display_name": "Python 3 (ipykernel)",
   "language": "python",
   "name": "python3"
  },
  "language_info": {
   "codemirror_mode": {
    "name": "ipython",
    "version": 3
   },
   "file_extension": ".py",
   "mimetype": "text/x-python",
   "name": "python",
   "nbconvert_exporter": "python",
   "pygments_lexer": "ipython3",
   "version": "3.12.4"
  }
 },
 "nbformat": 4,
 "nbformat_minor": 5
}
