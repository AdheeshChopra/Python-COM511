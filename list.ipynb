{
 "cells": [
  {
   "cell_type": "code",
   "execution_count": 3,
   "id": "f4e130e0-fc8a-4ffe-b31f-b7b83a9a2707",
   "metadata": {},
   "outputs": [],
   "source": [
    "w = [0,1,2,3,8,9,6,4,2,3,5,6]"
   ]
  },
  {
   "cell_type": "code",
   "execution_count": 4,
   "id": "e5b8d2e5-cec1-43df-97b5-8479220dbcb1",
   "metadata": {},
   "outputs": [
    {
     "data": {
      "text/plain": [
       "[0, 1, 2, 3, 8, 9, 6, 4, 2, 3, 5, 6]"
      ]
     },
     "execution_count": 4,
     "metadata": {},
     "output_type": "execute_result"
    }
   ],
   "source": [
    "w"
   ]
  },
  {
   "cell_type": "code",
   "execution_count": 5,
   "id": "3d2c1f5c-95e3-4ffd-81a3-e2b4a6f4350b",
   "metadata": {},
   "outputs": [
    {
     "data": {
      "text/plain": [
       "12"
      ]
     },
     "execution_count": 5,
     "metadata": {},
     "output_type": "execute_result"
    }
   ],
   "source": [
    "len(w)"
   ]
  },
  {
   "cell_type": "code",
   "execution_count": 6,
   "id": "b3f746fd-d276-4ee0-bb0f-b0544ac06a79",
   "metadata": {},
   "outputs": [
    {
     "data": {
      "text/plain": [
       "2"
      ]
     },
     "execution_count": 6,
     "metadata": {},
     "output_type": "execute_result"
    }
   ],
   "source": [
    "w.count(6)"
   ]
  },
  {
   "cell_type": "code",
   "execution_count": 7,
   "id": "1fea750e-f793-4057-b21a-697d8fd23f8f",
   "metadata": {},
   "outputs": [],
   "source": [
    "w.append(89)"
   ]
  },
  {
   "cell_type": "code",
   "execution_count": 8,
   "id": "e23d1187-2324-4577-9912-3f030f8dfc28",
   "metadata": {},
   "outputs": [
    {
     "data": {
      "text/plain": [
       "[0, 1, 2, 3, 8, 9, 6, 4, 2, 3, 5, 6, 89]"
      ]
     },
     "execution_count": 8,
     "metadata": {},
     "output_type": "execute_result"
    }
   ],
   "source": [
    "w"
   ]
  },
  {
   "cell_type": "code",
   "execution_count": 9,
   "id": "5e6054b1-e791-4b3e-bc92-d94ffa19c585",
   "metadata": {},
   "outputs": [
    {
     "data": {
      "text/plain": [
       "89"
      ]
     },
     "execution_count": 9,
     "metadata": {},
     "output_type": "execute_result"
    }
   ],
   "source": [
    "w.pop()"
   ]
  },
  {
   "cell_type": "code",
   "execution_count": 10,
   "id": "797a81a9-73b7-401c-8f4d-a2d58f4b94e0",
   "metadata": {},
   "outputs": [
    {
     "data": {
      "text/plain": [
       "[0, 1, 2, 3, 8, 9, 6, 4, 2, 3, 5, 6]"
      ]
     },
     "execution_count": 10,
     "metadata": {},
     "output_type": "execute_result"
    }
   ],
   "source": [
    "w"
   ]
  },
  {
   "cell_type": "code",
   "execution_count": 11,
   "id": "13aeeacf-ff76-487b-81d1-076957142935",
   "metadata": {},
   "outputs": [
    {
     "data": {
      "text/plain": [
       "9"
      ]
     },
     "execution_count": 11,
     "metadata": {},
     "output_type": "execute_result"
    }
   ],
   "source": [
    "w.pop(5)"
   ]
  },
  {
   "cell_type": "code",
   "execution_count": 12,
   "id": "27a8933e-8574-494c-ae41-75759f5906d0",
   "metadata": {},
   "outputs": [
    {
     "data": {
      "text/plain": [
       "[0, 1, 2, 3, 8, 6, 4, 2, 3, 5, 6]"
      ]
     },
     "execution_count": 12,
     "metadata": {},
     "output_type": "execute_result"
    }
   ],
   "source": [
    "w"
   ]
  },
  {
   "cell_type": "code",
   "execution_count": 13,
   "id": "42a6593d-4e92-4b7e-89f4-2654e5035904",
   "metadata": {},
   "outputs": [],
   "source": [
    "w.insert(2, 5000)"
   ]
  },
  {
   "cell_type": "code",
   "execution_count": 14,
   "id": "e0f43f6f-248b-416e-835f-11558a0c6c53",
   "metadata": {},
   "outputs": [
    {
     "data": {
      "text/plain": [
       "[0, 1, 5000, 2, 3, 8, 6, 4, 2, 3, 5, 6]"
      ]
     },
     "execution_count": 14,
     "metadata": {},
     "output_type": "execute_result"
    }
   ],
   "source": [
    "w"
   ]
  },
  {
   "cell_type": "code",
   "execution_count": 15,
   "id": "523abdd9-810e-48d4-b5bb-efad2347cb3c",
   "metadata": {},
   "outputs": [
    {
     "data": {
      "text/plain": [
       "6"
      ]
     },
     "execution_count": 15,
     "metadata": {},
     "output_type": "execute_result"
    }
   ],
   "source": [
    "w.index(6,6)"
   ]
  },
  {
   "cell_type": "code",
   "execution_count": 45,
   "id": "415ec9ec-83ef-4ed3-9165-a9360f0729af",
   "metadata": {},
   "outputs": [],
   "source": [
    "# Question 1\n",
    "k=[45,12,58,96,36,[45,11,10,22,45],\"string\",\"There\"]"
   ]
  },
  {
   "cell_type": "code",
   "execution_count": 46,
   "id": "3e605460-12e2-442a-a7b9-f0fa508d54ca",
   "metadata": {},
   "outputs": [
    {
     "name": "stdout",
     "output_type": "stream",
     "text": [
      "[36, [45, 11, 10, 22, 45], 'string']\n"
     ]
    }
   ],
   "source": [
    "print(k[4:7])"
   ]
  },
  {
   "cell_type": "code",
   "execution_count": 47,
   "id": "154e9bac-4a16-426a-8f6e-a8581994a485",
   "metadata": {},
   "outputs": [
    {
     "data": {
      "text/plain": [
       "10"
      ]
     },
     "execution_count": 47,
     "metadata": {},
     "output_type": "execute_result"
    }
   ],
   "source": [
    "k[5][2]"
   ]
  },
  {
   "cell_type": "code",
   "execution_count": 48,
   "id": "0d2a605e-28fc-4af6-8d0f-e0bae57962a8",
   "metadata": {},
   "outputs": [
    {
     "data": {
      "text/plain": [
       "'ring'"
      ]
     },
     "execution_count": 48,
     "metadata": {},
     "output_type": "execute_result"
    }
   ],
   "source": [
    "k[6][2:6]"
   ]
  },
  {
   "cell_type": "code",
   "execution_count": 54,
   "id": "ae2ce8ad-a385-4dcf-9a7f-1a2e0ab0e118",
   "metadata": {},
   "outputs": [],
   "source": [
    "k[5][1] = 100"
   ]
  },
  {
   "cell_type": "code",
   "execution_count": 55,
   "id": "63578ca0-5292-46ea-9034-213007c2d878",
   "metadata": {},
   "outputs": [
    {
     "data": {
      "text/plain": [
       "[45, 12, 58, 96, 36, [45, 100, 10, 22, 45], 'string', 'There']"
      ]
     },
     "execution_count": 55,
     "metadata": {},
     "output_type": "execute_result"
    }
   ],
   "source": [
    "k"
   ]
  },
  {
   "cell_type": "code",
   "execution_count": 61,
   "id": "441f0d13-b537-41f7-9c88-857632dbef82",
   "metadata": {},
   "outputs": [],
   "source": [
    "k[6]=k[6].replace(\"i\", \"a\")"
   ]
  },
  {
   "cell_type": "code",
   "execution_count": 62,
   "id": "2dec90b0-99e0-41bf-9ec0-ae57d124df79",
   "metadata": {},
   "outputs": [
    {
     "data": {
      "text/plain": [
       "[45, 12, 58, 96, 36, [45, 100, 10, 22, 45], 'strang', 'There']"
      ]
     },
     "execution_count": 62,
     "metadata": {},
     "output_type": "execute_result"
    }
   ],
   "source": [
    "k"
   ]
  },
  {
   "cell_type": "code",
   "execution_count": null,
   "id": "c206cbc8-d6da-494d-8651-fc9803250b30",
   "metadata": {},
   "outputs": [],
   "source": []
  }
 ],
 "metadata": {
  "kernelspec": {
   "display_name": "Python 3 (ipykernel)",
   "language": "python",
   "name": "python3"
  },
  "language_info": {
   "codemirror_mode": {
    "name": "ipython",
    "version": 3
   },
   "file_extension": ".py",
   "mimetype": "text/x-python",
   "name": "python",
   "nbconvert_exporter": "python",
   "pygments_lexer": "ipython3",
   "version": "3.12.4"
  }
 },
 "nbformat": 4,
 "nbformat_minor": 5
}
