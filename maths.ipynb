{
 "cells": [
  {
   "cell_type": "code",
   "execution_count": 4,
   "id": "fc4e6ffb-efd8-4a72-9427-2f3615aa6300",
   "metadata": {},
   "outputs": [],
   "source": [
    "file = open(\"ds.text\",\"w\")\n",
    "file.write(\"Data science is important because it combines tools,methods, and technology to generate \\n\")\n",
    "file.write(\"meaning from data.Modern organization are inundated with data; \\n\")\n",
    "file.write(\"there is proliferation of devices that can automatically collect and store information\")\n",
    "file.write(\"online system and payment portals capture more data in the field of e commerce, medicine,finance \\n\")\n",
    "file.write(\" \\n\")\n",
    "file.close()"
   ]
  },
  {
   "cell_type": "code",
   "execution_count": 5,
   "id": "f552bf57-4e9c-4c97-9ba5-9727800aafd9",
   "metadata": {},
   "outputs": [],
   "source": [
    "file = open(\"ds.text\",\"a\")\n",
    "file.write(\"and every other aspect of human life. We have text,audio,video, and image data available in vast quantities \\n\")\n",
    "file.close()"
   ]
  },
  {
   "cell_type": "code",
   "execution_count": 6,
   "id": "b1cfb9a8-4ee9-48ae-869f-b671af19751f",
   "metadata": {},
   "outputs": [
    {
     "data": {
      "text/plain": [
       "110"
      ]
     },
     "execution_count": 6,
     "metadata": {},
     "output_type": "execute_result"
    }
   ],
   "source": [
    "file = open(\"ds.text\" , \"a\")\n",
    "file.write(\"and every other aspect of human life. We have text , audio , video and image data available in vast quantities\")"
   ]
  },
  {
   "cell_type": "code",
   "execution_count": 8,
   "id": "bae6ebdf-45f2-4d0b-9eab-dd7899a9c624",
   "metadata": {},
   "outputs": [
    {
     "name": "stdout",
     "output_type": "stream",
     "text": [
      "Data science is important because it combines tools,methods, and technology to generate \n",
      "meaning from data.Modern organization are inundated with data; \n",
      "there is proliferation of devices that can automatically collect and store informationonline system and payment portals capture more data in the field of e commerce, medicine,finance \n",
      " \n",
      "and every other aspect of human life. We have text,audio,video, and image data available in vast quantities \n",
      "and every other aspect of human life. We have text , audio , video and image data available in vast quantities\n"
     ]
    }
   ],
   "source": [
    "file = open(\"ds.text\" , \"r\")\n",
    "print(file.read())\n",
    "file.close()"
   ]
  },
  {
   "cell_type": "code",
   "execution_count": 9,
   "id": "aae254ad-05bc-4f70-8f83-5b2a4e148ff3",
   "metadata": {},
   "outputs": [],
   "source": [
    "# return 3rd and 5th line of the file\n",
    "# convert first and last line of the file in uppercase\n",
    "# add line number at the start of the line\n",
    "# convert first letter of each line in uppercase\n",
    "# delete \"medicine\",\"finance\" after \"e-commerce\" in 4th line of the file\n",
    "# convert \"text\",\"video\" into \"TEXT\",\"VIDEO\""
   ]
  },
  {
   "cell_type": "code",
   "execution_count": 14,
   "id": "38a66bbb-6579-478b-8147-9a7781657763",
   "metadata": {},
   "outputs": [],
   "source": [
    "# return 3rd and 5th line of the file\n",
    "file = open(\"ds.text\", \"r\")\n",
    "f = file.readlines()\n",
    "third_line = f[2].replace(\"\\n\" , \"\")\n",
    "fifth_line = f[4].replace(\"\\n\" , \"\")"
   ]
  },
  {
   "cell_type": "code",
   "execution_count": 15,
   "id": "5ee10eef-b6d2-4e9e-b246-e59e502679e7",
   "metadata": {},
   "outputs": [
    {
     "name": "stdout",
     "output_type": "stream",
     "text": [
      "3rd Line: there is proliferation of devices that can automatically collect and store informationonline system and payment portals capture more data in the field of e commerce, medicine,finance \n",
      "5th Line: and every other aspect of human life. We have text,audio,video, and image data available in vast quantities \n"
     ]
    }
   ],
   "source": [
    "print(\"3rd Line:\", third_line)\n",
    "print(\"5th Line:\", fifth_line)"
   ]
  },
  {
   "cell_type": "code",
   "execution_count": 16,
   "id": "429ffa23-f252-4c34-9e59-43fd60b4c02f",
   "metadata": {},
   "outputs": [],
   "source": [
    "file.close()"
   ]
  },
  {
   "cell_type": "code",
   "execution_count": 17,
   "id": "abb0294c-f67d-4e02-9a33-4dceeec495e3",
   "metadata": {},
   "outputs": [],
   "source": [
    "# convert \"text\",\"video\" into \"TEXT\",\"VIDEO\"\n",
    "file = open(\"ds.text\" , \"r\")\n",
    "f[4] = f[4].replace(\"text\" , \"TEXT\")\n",
    "f[4] = f[4].replace(\"video\" , \"VIDEO\")\n",
    "file = open(\"ds.text\" , \"w\")\n",
    "for i in f:\n",
    "  file.write(i)\n",
    "file.close()"
   ]
  },
  {
   "cell_type": "code",
   "execution_count": null,
   "id": "d8b711ce-d758-45cf-9abe-a45ad345ba49",
   "metadata": {},
   "outputs": [],
   "source": [
    "# delete \"medicine\",\"finance\" after \"e-commerce\" in 4th line of the file\n",
    "file=open(\"ds.text\",\"r\")\n",
    "f=file.readlines()\n",
    "f[3]=f[3].replace(\"medicine,finance,\",\" \")\n",
    "file=open"
   ]
  }
 ],
 "metadata": {
  "kernelspec": {
   "display_name": "Python 3 (ipykernel)",
   "language": "python",
   "name": "python3"
  },
  "language_info": {
   "codemirror_mode": {
    "name": "ipython",
    "version": 3
   },
   "file_extension": ".py",
   "mimetype": "text/x-python",
   "name": "python",
   "nbconvert_exporter": "python",
   "pygments_lexer": "ipython3",
   "version": "3.12.4"
  }
 },
 "nbformat": 4,
 "nbformat_minor": 5
}
