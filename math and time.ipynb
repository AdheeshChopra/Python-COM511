{
 "cells": [
  {
   "cell_type": "code",
   "execution_count": 2,
   "id": "e6072b84-a870-4110-85ec-1848e1a7b22d",
   "metadata": {},
   "outputs": [
    {
     "ename": "NameError",
     "evalue": "name 'k' is not defined",
     "output_type": "error",
     "traceback": [
      "\u001b[1;31m---------------------------------------------------------------------------\u001b[0m",
      "\u001b[1;31mNameError\u001b[0m                                 Traceback (most recent call last)",
      "Cell \u001b[1;32mIn[2], line 1\u001b[0m\n\u001b[1;32m----> 1\u001b[0m \u001b[38;5;28mord\u001b[39m(\u001b[43mk\u001b[49m)\n",
      "\u001b[1;31mNameError\u001b[0m: name 'k' is not defined"
     ]
    }
   ],
   "source": [
    "ord(k)"
   ]
  },
  {
   "cell_type": "code",
   "execution_count": 2,
   "id": "c65b725b-4bd6-41b7-be6e-f1c7b99ddb09",
   "metadata": {},
   "outputs": [],
   "source": [
    "k = \"hello\""
   ]
  },
  {
   "cell_type": "code",
   "execution_count": 3,
   "id": "144bbc10-fc4b-4c5f-addd-2515780e6b54",
   "metadata": {},
   "outputs": [
    {
     "data": {
      "text/plain": [
       "'hell'"
      ]
     },
     "execution_count": 3,
     "metadata": {},
     "output_type": "execute_result"
    }
   ],
   "source": [
    "k[0:4]"
   ]
  },
  {
   "cell_type": "code",
   "execution_count": 4,
   "id": "c9f87c2e-2722-49b5-883e-1b61548c2e8b",
   "metadata": {},
   "outputs": [
    {
     "data": {
      "text/plain": [
       "'teeaemn epe'"
      ]
     },
     "execution_count": 4,
     "metadata": {},
     "output_type": "execute_result"
    }
   ],
   "source": [
    "d=\"there are many people\"\n",
    "d[0:25:2]"
   ]
  },
  {
   "cell_type": "code",
   "execution_count": 5,
   "id": "e6c47c00-088a-42d3-8365-e9e0a166c9b8",
   "metadata": {},
   "outputs": [],
   "source": [
    "import math as mt"
   ]
  },
  {
   "cell_type": "code",
   "execution_count": 6,
   "id": "00f6b4ac-a535-4e08-916d-490d9546967a",
   "metadata": {},
   "outputs": [
    {
     "data": {
      "text/plain": [
       "['__doc__',\n",
       " '__loader__',\n",
       " '__name__',\n",
       " '__package__',\n",
       " '__spec__',\n",
       " 'acos',\n",
       " 'acosh',\n",
       " 'asin',\n",
       " 'asinh',\n",
       " 'atan',\n",
       " 'atan2',\n",
       " 'atanh',\n",
       " 'cbrt',\n",
       " 'ceil',\n",
       " 'comb',\n",
       " 'copysign',\n",
       " 'cos',\n",
       " 'cosh',\n",
       " 'degrees',\n",
       " 'dist',\n",
       " 'e',\n",
       " 'erf',\n",
       " 'erfc',\n",
       " 'exp',\n",
       " 'exp2',\n",
       " 'expm1',\n",
       " 'fabs',\n",
       " 'factorial',\n",
       " 'floor',\n",
       " 'fmod',\n",
       " 'frexp',\n",
       " 'fsum',\n",
       " 'gamma',\n",
       " 'gcd',\n",
       " 'hypot',\n",
       " 'inf',\n",
       " 'isclose',\n",
       " 'isfinite',\n",
       " 'isinf',\n",
       " 'isnan',\n",
       " 'isqrt',\n",
       " 'lcm',\n",
       " 'ldexp',\n",
       " 'lgamma',\n",
       " 'log',\n",
       " 'log10',\n",
       " 'log1p',\n",
       " 'log2',\n",
       " 'modf',\n",
       " 'nan',\n",
       " 'nextafter',\n",
       " 'perm',\n",
       " 'pi',\n",
       " 'pow',\n",
       " 'prod',\n",
       " 'radians',\n",
       " 'remainder',\n",
       " 'sin',\n",
       " 'sinh',\n",
       " 'sqrt',\n",
       " 'sumprod',\n",
       " 'tan',\n",
       " 'tanh',\n",
       " 'tau',\n",
       " 'trunc',\n",
       " 'ulp']"
      ]
     },
     "execution_count": 6,
     "metadata": {},
     "output_type": "execute_result"
    }
   ],
   "source": [
    "dir(mt)"
   ]
  },
  {
   "cell_type": "code",
   "execution_count": 7,
   "id": "b070eab4-b01c-417c-9c57-ad53d5d052ea",
   "metadata": {},
   "outputs": [
    {
     "data": {
      "text/plain": [
       "66"
      ]
     },
     "execution_count": 7,
     "metadata": {},
     "output_type": "execute_result"
    }
   ],
   "source": [
    "len(dir(mt))"
   ]
  },
  {
   "cell_type": "code",
   "execution_count": 8,
   "id": "7ae122cc-8dda-434b-9647-ea1c838aafb2",
   "metadata": {},
   "outputs": [
    {
     "data": {
      "text/plain": [
       "10.0"
      ]
     },
     "execution_count": 8,
     "metadata": {},
     "output_type": "execute_result"
    }
   ],
   "source": [
    "#return the sqrt of m1\n",
    "mt.sqrt(100)"
   ]
  },
  {
   "cell_type": "code",
   "execution_count": 9,
   "id": "b13ed2dd-b194-48d0-bb47-b7856e01075e",
   "metadata": {},
   "outputs": [
    {
     "data": {
      "text/plain": [
       "3.141592653589793"
      ]
     },
     "execution_count": 9,
     "metadata": {},
     "output_type": "execute_result"
    }
   ],
   "source": [
    "#return the value of p1\n",
    "mt.pi"
   ]
  },
  {
   "cell_type": "code",
   "execution_count": 10,
   "id": "e2f14c92-8983-4d14-afb4-c70666eaeacb",
   "metadata": {},
   "outputs": [
    {
     "data": {
      "text/plain": [
       "36.0"
      ]
     },
     "execution_count": 10,
     "metadata": {},
     "output_type": "execute_result"
    }
   ],
   "source": [
    "#return x**y (x to the power of y)\n",
    "mt.pow(6,2)"
   ]
  },
  {
   "cell_type": "code",
   "execution_count": 11,
   "id": "f0314577-7e2d-457b-a3cf-48ae6ad3553d",
   "metadata": {},
   "outputs": [
    {
     "data": {
      "text/plain": [
       "5"
      ]
     },
     "execution_count": 11,
     "metadata": {},
     "output_type": "execute_result"
    }
   ],
   "source": [
    "mt.ceil(4.3333)"
   ]
  },
  {
   "cell_type": "code",
   "execution_count": 12,
   "id": "d9c38691-0f98-4659-8a06-ef9c31b4d47f",
   "metadata": {},
   "outputs": [
    {
     "data": {
      "text/plain": [
       "9"
      ]
     },
     "execution_count": 12,
     "metadata": {},
     "output_type": "execute_result"
    }
   ],
   "source": [
    "mt.floor(9.99999)"
   ]
  },
  {
   "cell_type": "code",
   "execution_count": 13,
   "id": "8798a76c-e18e-45b1-8e32-a683d93d23ee",
   "metadata": {},
   "outputs": [
    {
     "data": {
      "text/plain": [
       "2.718281828459045"
      ]
     },
     "execution_count": 13,
     "metadata": {},
     "output_type": "execute_result"
    }
   ],
   "source": [
    "mt.e"
   ]
  },
  {
   "cell_type": "code",
   "execution_count": 14,
   "id": "826aafa8-4f63-449c-af07-b00dba93028f",
   "metadata": {},
   "outputs": [
    {
     "data": {
      "text/plain": [
       "7.38905609893065"
      ]
     },
     "execution_count": 14,
     "metadata": {},
     "output_type": "execute_result"
    }
   ],
   "source": [
    "mt.exp(2)"
   ]
  },
  {
   "cell_type": "code",
   "execution_count": 15,
   "id": "8778e0f4-eddf-4c8f-b47e-474afd2b1cc3",
   "metadata": {},
   "outputs": [
    {
     "data": {
      "text/plain": [
       "20.085536923187668"
      ]
     },
     "execution_count": 15,
     "metadata": {},
     "output_type": "execute_result"
    }
   ],
   "source": [
    "mt.exp(3)"
   ]
  },
  {
   "cell_type": "code",
   "execution_count": 16,
   "id": "ead09aed-ce65-4e67-b609-7718a043e97f",
   "metadata": {},
   "outputs": [
    {
     "data": {
      "text/plain": [
       "1.0"
      ]
     },
     "execution_count": 16,
     "metadata": {},
     "output_type": "execute_result"
    }
   ],
   "source": [
    "mt.exp(0)"
   ]
  },
  {
   "cell_type": "code",
   "execution_count": 17,
   "id": "5b4c33a2-5f38-42f9-9daa-516ae5866e4d",
   "metadata": {},
   "outputs": [
    {
     "data": {
      "text/plain": [
       "2.730717679880512"
      ]
     },
     "execution_count": 17,
     "metadata": {},
     "output_type": "execute_result"
    }
   ],
   "source": [
    "mt.log(20.085536923187668,3)"
   ]
  },
  {
   "cell_type": "code",
   "execution_count": 18,
   "id": "c80dbcd3-e337-4074-9ec9-24cbd96fe3e1",
   "metadata": {},
   "outputs": [
    {
     "data": {
      "text/plain": [
       "\u001b[1;31mSignature:\u001b[0m \u001b[0mmt\u001b[0m\u001b[1;33m.\u001b[0m\u001b[0mfsum\u001b[0m\u001b[1;33m(\u001b[0m\u001b[0mseq\u001b[0m\u001b[1;33m,\u001b[0m \u001b[1;33m/\u001b[0m\u001b[1;33m)\u001b[0m\u001b[1;33m\u001b[0m\u001b[1;33m\u001b[0m\u001b[0m\n",
       "\u001b[1;31mDocstring:\u001b[0m\n",
       "Return an accurate floating point sum of values in the iterable seq.\n",
       "\n",
       "Assumes IEEE-754 floating point arithmetic.\n",
       "\u001b[1;31mType:\u001b[0m      builtin_function_or_method"
      ]
     },
     "metadata": {},
     "output_type": "display_data"
    }
   ],
   "source": [
    "?mt.fsum"
   ]
  },
  {
   "cell_type": "code",
   "execution_count": 19,
   "id": "b08172e0-98c3-49d9-b35e-48737db8016b",
   "metadata": {},
   "outputs": [
    {
     "data": {
      "text/plain": [
       "15"
      ]
     },
     "execution_count": 19,
     "metadata": {},
     "output_type": "execute_result"
    }
   ],
   "source": [
    "sum([1,2,3,4,5])"
   ]
  },
  {
   "cell_type": "code",
   "execution_count": 20,
   "id": "7dee5fb6-2d93-4553-ab2a-33a67f6b36d9",
   "metadata": {},
   "outputs": [
    {
     "data": {
      "text/plain": [
       "1729488221.7553613"
      ]
     },
     "execution_count": 20,
     "metadata": {},
     "output_type": "execute_result"
    }
   ],
   "source": [
    "import time\n",
    "time.time()"
   ]
  },
  {
   "cell_type": "code",
   "execution_count": 21,
   "id": "97f95fdc-bc9b-4647-85ab-a17ee453c6fa",
   "metadata": {},
   "outputs": [
    {
     "data": {
      "text/plain": [
       "54.0"
      ]
     },
     "execution_count": 21,
     "metadata": {},
     "output_type": "execute_result"
    }
   ],
   "source": [
    "((((1729487176.490336//60)//60)//24)//365)"
   ]
  },
  {
   "cell_type": "code",
   "execution_count": 22,
   "id": "31e058ad-ee10-4876-9b62-660ad6577707",
   "metadata": {},
   "outputs": [
    {
     "data": {
      "text/plain": [
       "'Mon Oct 21 10:53:42 2024'"
      ]
     },
     "execution_count": 22,
     "metadata": {},
     "output_type": "execute_result"
    }
   ],
   "source": [
    "time.ctime()"
   ]
  },
  {
   "cell_type": "code",
   "execution_count": 23,
   "id": "364c3ee8-2c17-4496-a827-de6e094c1754",
   "metadata": {},
   "outputs": [
    {
     "data": {
      "text/plain": [
       "('India Standard Time', 'India Daylight Time')"
      ]
     },
     "execution_count": 23,
     "metadata": {},
     "output_type": "execute_result"
    }
   ],
   "source": [
    "time.tzname"
   ]
  },
  {
   "cell_type": "code",
   "execution_count": 24,
   "id": "ac66aa47-97d8-4dce-bdfc-5b4c186fd05d",
   "metadata": {},
   "outputs": [
    {
     "name": "stdout",
     "output_type": "stream",
     "text": [
      "hello how are you\n",
      "hello how are you\n",
      "hello how are you\n",
      "hello how are you\n",
      "hello how are you\n",
      "hello how are you\n",
      "hello how are you\n",
      "hello how are you\n",
      "hello how are you\n",
      "hello how are you\n",
      "hello how are you\n",
      "hello how are you\n",
      "hello how are you\n",
      "hello how are you\n",
      "hello how are you\n",
      "hello how are you\n",
      "hello how are you\n",
      "hello how are you\n",
      "hello how are you\n",
      "hello how are you\n",
      "hello how are you\n",
      "hello how are you\n",
      "hello how are you\n",
      "hello how are you\n",
      "hello how are you\n",
      "hello how are you\n",
      "hello how are you\n",
      "hello how are you\n",
      "hello how are you\n",
      "hello how are you\n",
      "hello how are you\n",
      "hello how are you\n",
      "hello how are you\n",
      "hello how are you\n",
      "hello how are you\n",
      "hello how are you\n",
      "hello how are you\n",
      "hello how are you\n",
      "hello how are you\n",
      "hello how are you\n",
      "hello how are you\n",
      "hello how are you\n",
      "hello how are you\n",
      "hello how are you\n",
      "hello how are you\n",
      "hello how are you\n",
      "hello how are you\n",
      "hello how are you\n",
      "hello how are you\n",
      "hello how are you\n",
      "hello how are you\n",
      "hello how are you\n",
      "hello how are you\n",
      "hello how are you\n",
      "hello how are you\n",
      "hello how are you\n",
      "hello how are you\n",
      "hello how are you\n",
      "hello how are you\n",
      "hello how are you\n",
      "hello how are you\n",
      "hello how are you\n",
      "hello how are you\n",
      "hello how are you\n",
      "hello how are you\n",
      "hello how are you\n",
      "hello how are you\n",
      "hello how are you\n",
      "hello how are you\n",
      "hello how are you\n",
      "hello how are you\n",
      "hello how are you\n",
      "hello how are you\n",
      "hello how are you\n",
      "hello how are you\n",
      "hello how are you\n",
      "hello how are you\n",
      "hello how are you\n",
      "hello how are you\n",
      "hello how are you\n",
      "hello how are you\n",
      "hello how are you\n",
      "hello how are you\n",
      "hello how are you\n",
      "hello how are you\n",
      "hello how are you\n",
      "hello how are you\n",
      "hello how are you\n",
      "hello how are you\n",
      "hello how are you\n",
      "hello how are you\n",
      "hello how are you\n",
      "hello how are you\n",
      "hello how are you\n",
      "hello how are you\n",
      "hello how are you\n",
      "hello how are you\n",
      "hello how are you\n",
      "hello how are you\n",
      "hello how are you\n",
      "hello how are you\n",
      "hello how are you\n",
      "hello how are you\n",
      "hello how are you\n",
      "hello how are you\n",
      "hello how are you\n",
      "hello how are you\n",
      "hello how are you\n",
      "hello how are you\n",
      "hello how are you\n",
      "hello how are you\n",
      "hello how are you\n",
      "hello how are you\n",
      "hello how are you\n",
      "hello how are you\n",
      "hello how are you\n",
      "hello how are you\n",
      "hello how are you\n",
      "hello how are you\n",
      "hello how are you\n",
      "hello how are you\n",
      "hello how are you\n",
      "hello how are you\n",
      "hello how are you\n",
      "hello how are you\n",
      "hello how are you\n",
      "hello how are you\n",
      "hello how are you\n",
      "hello how are you\n",
      "hello how are you\n",
      "hello how are you\n",
      "hello how are you\n",
      "hello how are you\n",
      "hello how are you\n",
      "hello how are you\n",
      "hello how are you\n",
      "hello how are you\n",
      "hello how are you\n",
      "hello how are you\n",
      "hello how are you\n",
      "hello how are you\n",
      "hello how are you\n",
      "hello how are you\n",
      "hello how are you\n",
      "hello how are you\n",
      "hello how are you\n",
      "hello how are you\n",
      "hello how are you\n",
      "hello how are you\n",
      "hello how are you\n",
      "hello how are you\n",
      "hello how are you\n",
      "hello how are you\n",
      "hello how are you\n",
      "hello how are you\n",
      "hello how are you\n",
      "hello how are you\n",
      "hello how are you\n",
      "hello how are you\n",
      "hello how are you\n",
      "hello how are you\n",
      "hello how are you\n",
      "hello how are you\n",
      "hello how are you\n",
      "hello how are you\n",
      "hello how are you\n",
      "hello how are you\n",
      "hello how are you\n",
      "hello how are you\n",
      "hello how are you\n",
      "hello how are you\n",
      "hello how are you\n",
      "hello how are you\n",
      "hello how are you\n",
      "hello how are you\n",
      "hello how are you\n",
      "hello how are you\n",
      "hello how are you\n",
      "hello how are you\n",
      "hello how are you\n",
      "hello how are you\n",
      "hello how are you\n",
      "hello how are you\n",
      "hello how are you\n",
      "hello how are you\n",
      "hello how are you\n",
      "hello how are you\n",
      "hello how are you\n",
      "hello how are you\n",
      "hello how are you\n",
      "hello how are you\n",
      "hello how are you\n",
      "hello how are you\n",
      "hello how are you\n",
      "hello how are you\n",
      "hello how are you\n",
      "hello how are you\n",
      "hello how are you\n",
      "hello how are you\n",
      "hello how are you\n",
      "start 1729488224.1609285\n",
      "duration 0.01132512092590332\n"
     ]
    }
   ],
   "source": [
    "start=time.time()\n",
    "for i in range(0,200):\n",
    "    print (\"hello how are you\")\n",
    "print(\"start\",start)\n",
    "print(\"duration\",time.time()-start)"
   ]
  },
  {
   "cell_type": "code",
   "execution_count": 30,
   "id": "fc46a7a0-b23e-4b84-b126-9e1116ff4452",
   "metadata": {},
   "outputs": [],
   "source": [
    "k=[[\"a\",10],[\"b\",20],[\"c\",30]]"
   ]
  },
  {
   "cell_type": "code",
   "execution_count": 31,
   "id": "920fbaf2-bf0e-41ac-8233-395b08d11369",
   "metadata": {},
   "outputs": [],
   "source": [
    "k.sort()"
   ]
  },
  {
   "cell_type": "code",
   "execution_count": 32,
   "id": "cf233dba-6de0-4df8-a302-926bf6016e99",
   "metadata": {},
   "outputs": [
    {
     "data": {
      "text/plain": [
       "[['a', 10], ['b', 20], ['c', 30]]"
      ]
     },
     "execution_count": 32,
     "metadata": {},
     "output_type": "execute_result"
    }
   ],
   "source": [
    "k"
   ]
  },
  {
   "cell_type": "code",
   "execution_count": 34,
   "id": "ce5f395c-2fbd-4e1a-a5f7-f99963a92679",
   "metadata": {},
   "outputs": [
    {
     "name": "stdout",
     "output_type": "stream",
     "text": [
      "a\n",
      "10\n",
      "b\n",
      "20\n",
      "c\n",
      "30\n"
     ]
    }
   ],
   "source": [
    "# return the name of second highest element\n",
    "def sehst(k):\n",
    "    for i in k:\n",
    "        for j in i:\n",
    "            print(j"
   ]
  },
  {
   "cell_type": "code",
   "execution_count": null,
   "id": "3865eb2a-c013-427e-8703-a83f55420e5d",
   "metadata": {},
   "outputs": [],
   "source": []
  }
 ],
 "metadata": {
  "kernelspec": {
   "display_name": "Python 3 (ipykernel)",
   "language": "python",
   "name": "python3"
  },
  "language_info": {
   "codemirror_mode": {
    "name": "ipython",
    "version": 3
   },
   "file_extension": ".py",
   "mimetype": "text/x-python",
   "name": "python",
   "nbconvert_exporter": "python",
   "pygments_lexer": "ipython3",
   "version": "3.12.4"
  }
 },
 "nbformat": 4,
 "nbformat_minor": 5
}
