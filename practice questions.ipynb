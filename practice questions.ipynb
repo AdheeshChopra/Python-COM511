{
 "cells": [
  {
   "cell_type": "markdown",
   "id": "10898f4f-8bda-4236-b691-c3023ab037c5",
   "metadata": {},
   "source": [
    "q1 calculate the square of 86\n",
    "q2 calculate the cuberoot of 785\n",
    "q3 15908 min convert those min into hours and min\n",
    "q4 154783 hours convert those hours into days hours\n",
    "q5 h= \"95\" change the data type of h into (int or float)\n",
    "q7 use user input to assign float value "
   ]
  },
  {
   "cell_type": "code",
   "execution_count": 3,
   "id": "23bc9e9e-b159-4b76-a683-b5f6bd4e0ab9",
   "metadata": {},
   "outputs": [
    {
     "name": "stdout",
     "output_type": "stream",
     "text": [
      "square of 86 is 7396\n"
     ]
    }
   ],
   "source": [
    "print(\"square of 86 is\", 86**2)"
   ]
  },
  {
   "cell_type": "code",
   "execution_count": 4,
   "id": "15e5f7c9-6e80-4e82-9814-eb42bee5233c",
   "metadata": {},
   "outputs": [
    {
     "name": "stdout",
     "output_type": "stream",
     "text": [
      "cuberoot of 785 is 9.224791357467582\n"
     ]
    }
   ],
   "source": [
    "print(\"cuberoot of 785 is\", 785**(1/3))"
   ]
  },
  {
   "cell_type": "code",
   "execution_count": 5,
   "id": "39106a3f-8ea4-4482-bdef-57a6ffd3922e",
   "metadata": {},
   "outputs": [],
   "source": [
    "# q4\n",
    "hr = 154783"
   ]
  },
  {
   "cell_type": "code",
   "execution_count": 6,
   "id": "3f46c49b-0922-4cc2-b424-20a8fea83044",
   "metadata": {},
   "outputs": [
    {
     "name": "stdout",
     "output_type": "stream",
     "text": [
      "6449 days and 7 hours\n"
     ]
    }
   ],
   "source": [
    "print(\"{} days and {} hours\". format(hr//24, hr%24))"
   ]
  },
  {
   "cell_type": "code",
   "execution_count": 7,
   "id": "5e0ca018-f179-440e-a74d-2efeb89f1f65",
   "metadata": {},
   "outputs": [
    {
     "name": "stdin",
     "output_type": "stream",
     "text": [
      " 5\n"
     ]
    }
   ],
   "source": [
    "# q7\n",
    "t=float(input())"
   ]
  },
  {
   "cell_type": "code",
   "execution_count": 8,
   "id": "09e15fff-4e94-4319-9883-59504ac079e4",
   "metadata": {},
   "outputs": [
    {
     "data": {
      "text/plain": [
       "float"
      ]
     },
     "execution_count": 8,
     "metadata": {},
     "output_type": "execute_result"
    }
   ],
   "source": [
    "type(t)"
   ]
  },
  {
   "cell_type": "code",
   "execution_count": 15,
   "id": "3832a635-c810-412a-87d1-952074d2556e",
   "metadata": {},
   "outputs": [],
   "source": [
    "q8 = 784569324"
   ]
  },
  {
   "cell_type": "code",
   "execution_count": 16,
   "id": "31628ea6-c589-47f1-80ae-99b08697705b",
   "metadata": {},
   "outputs": [],
   "source": [
    "hr = (q8//60)//60"
   ]
  },
  {
   "cell_type": "code",
   "execution_count": 18,
   "id": "142b0fb3-e6bd-4dc6-84b6-fc871752d70a",
   "metadata": {},
   "outputs": [],
   "source": [
    "mi=(q8//60)%60"
   ]
  },
  {
   "cell_type": "code",
   "execution_count": 20,
   "id": "281d2d88-ca31-4ccc-b5b2-84b140513af3",
   "metadata": {},
   "outputs": [],
   "source": [
    "sec=q8%60"
   ]
  },
  {
   "cell_type": "code",
   "execution_count": 22,
   "id": "a3e6a986-21c0-4fb7-8d6b-1fe9f944a4b0",
   "metadata": {},
   "outputs": [
    {
     "name": "stdout",
     "output_type": "stream",
     "text": [
      "217935 hrs 55 min and 24 sec\n"
     ]
    }
   ],
   "source": [
    "print(\"{} hrs {} min and {} sec\".format(hr, mi, sec))"
   ]
  },
  {
   "cell_type": "code",
   "execution_count": 41,
   "id": "7516a0f6-d8db-41ed-875e-d2ba23a00f92",
   "metadata": {},
   "outputs": [],
   "source": [
    "q9_min = 14754698"
   ]
  },
  {
   "cell_type": "code",
   "execution_count": 42,
   "id": "0980fc6d-674b-49f8-87f1-bbc7774cd30b",
   "metadata": {},
   "outputs": [],
   "source": [
    "m1=14754698"
   ]
  },
  {
   "cell_type": "code",
   "execution_count": 44,
   "id": "b8aebadf-921e-45e4-bf49-3e013267c3ee",
   "metadata": {},
   "outputs": [],
   "source": [
    "days = (m1//60)//24"
   ]
  },
  {
   "cell_type": "code",
   "execution_count": 46,
   "id": "62d369e4-9736-4b4a-b71d-bd9e7263c936",
   "metadata": {},
   "outputs": [],
   "source": [
    "hr = (m1//60)%24"
   ]
  },
  {
   "cell_type": "code",
   "execution_count": 47,
   "id": "e281dc17-d173-4d67-90fb-24d0cd776a40",
   "metadata": {},
   "outputs": [],
   "source": [
    "mn = m1%60"
   ]
  },
  {
   "cell_type": "code",
   "execution_count": 48,
   "id": "868d91d5-fb82-4b1e-95b2-9c924d633996",
   "metadata": {},
   "outputs": [
    {
     "name": "stdout",
     "output_type": "stream",
     "text": [
      "10246 days 7 hrs and 38 min\n"
     ]
    }
   ],
   "source": [
    "print(\"{} days {} hrs and {} min\".format(days, hr, mn))"
   ]
  },
  {
   "cell_type": "code",
   "execution_count": 49,
   "id": "2be53212-9c22-482a-af0d-1321e08abfef",
   "metadata": {},
   "outputs": [],
   "source": [
    "h1 = 478569"
   ]
  },
  {
   "cell_type": "code",
   "execution_count": 56,
   "id": "6276cdb2-6d65-4376-9c8a-7a12f4b49675",
   "metadata": {},
   "outputs": [],
   "source": [
    "months = (h1//24)//30"
   ]
  },
  {
   "cell_type": "code",
   "execution_count": 57,
   "id": "aa4ae801-4bca-4769-a9dc-0a00eccdab45",
   "metadata": {},
   "outputs": [],
   "source": [
    "days = (h1//24)%24"
   ]
  },
  {
   "cell_type": "code",
   "execution_count": 58,
   "id": "0b83702b-ad81-44da-a479-684bcbeb19f8",
   "metadata": {},
   "outputs": [],
   "source": [
    "hrs = h1%60"
   ]
  },
  {
   "cell_type": "code",
   "execution_count": 59,
   "id": "5ce6cde0-6a8f-449b-a895-d4bbdb931cf4",
   "metadata": {},
   "outputs": [
    {
     "name": "stdout",
     "output_type": "stream",
     "text": [
      "664 months 20 days and 9 hrs\n"
     ]
    }
   ],
   "source": [
    "print(\"{} months {} days and {} hrs\".format(months, days, hrs))"
   ]
  },
  {
   "cell_type": "code",
   "execution_count": null,
   "id": "7b9296de-e5ad-49eb-87e9-f053540e90f2",
   "metadata": {},
   "outputs": [],
   "source": []
  }
 ],
 "metadata": {
  "kernelspec": {
   "display_name": "Python 3 (ipykernel)",
   "language": "python",
   "name": "python3"
  },
  "language_info": {
   "codemirror_mode": {
    "name": "ipython",
    "version": 3
   },
   "file_extension": ".py",
   "mimetype": "text/x-python",
   "name": "python",
   "nbconvert_exporter": "python",
   "pygments_lexer": "ipython3",
   "version": "3.12.4"
  }
 },
 "nbformat": 4,
 "nbformat_minor": 5
}
