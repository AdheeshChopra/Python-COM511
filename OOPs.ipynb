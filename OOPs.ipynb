{
 "cells": [
  {
   "cell_type": "code",
   "execution_count": 1,
   "id": "1499ccb2-23eb-440b-a321-05a90b28f5b6",
   "metadata": {},
   "outputs": [],
   "source": [
    "# Create a python class book with attributes title, author, and pages and a method display_info() to display the book's information solution."
   ]
  },
  {
   "cell_type": "code",
   "execution_count": 6,
   "id": "270753cd-8e7c-4bba-960b-1f120502de38",
   "metadata": {},
   "outputs": [],
   "source": [
    "class Book:\n",
    "    def __init__(self, title, author, pages):\n",
    "        self.title=title\n",
    "        self.author=author\n",
    "        self.pages=pages\n",
    "    def display_info(self):\n",
    "        print(\"Title\", self.title)\n",
    "        print(\"Author\", self.author)\n",
    "        print(\"Pages\", self.pages)"
   ]
  },
  {
   "cell_type": "code",
   "execution_count": 7,
   "id": "5f06cd3b-84cf-40d0-b247-2d232f1d7fc2",
   "metadata": {},
   "outputs": [],
   "source": [
    "b=Book(\"Rich Dad Poor Dad\", \"Adheesh\", 69)"
   ]
  },
  {
   "cell_type": "code",
   "execution_count": 8,
   "id": "0ebf8a11-b622-4fa4-8c94-1f2133e553f9",
   "metadata": {},
   "outputs": [
    {
     "name": "stdout",
     "output_type": "stream",
     "text": [
      "Title Rich Dad Poor Dad\n",
      "Author Adheesh\n",
      "Pages 69\n"
     ]
    }
   ],
   "source": [
    "b.display_info()"
   ]
  },
  {
   "cell_type": "markdown",
   "id": "6f636424-457e-46a8-b6b9-2116cb23a251",
   "metadata": {},
   "source": [
    "**Inheritance**"
   ]
  },
  {
   "cell_type": "code",
   "execution_count": 9,
   "id": "7a79685c-46f5-4f46-8e3b-026d760df3b4",
   "metadata": {},
   "outputs": [],
   "source": [
    "class GrandFather:\n",
    "    def height(self):\n",
    "        return \"height\""
   ]
  },
  {
   "cell_type": "code",
   "execution_count": null,
   "id": "1fcbb53f-4126-46aa-8020-7308eaf95b70",
   "metadata": {},
   "outputs": [],
   "source": [
    "class Father(GrandFather):\n",
    "    def xyz(self):"
   ]
  },
  {
   "cell_type": "code",
   "execution_count": null,
   "id": "62e949b3-f319-4ff1-b860-a34beaccbec3",
   "metadata": {},
   "outputs": [],
   "source": []
  },
  {
   "cell_type": "code",
   "execution_count": 1,
   "id": "6395996d-88e8-4ae6-8139-3a4b462966e9",
   "metadata": {},
   "outputs": [],
   "source": [
    "class A:\n",
    "\n",
    "  name =\"AAM\"\n",
    "\n",
    "  age =44\n",
    "\n",
    "  hieght =\"6 feet\""
   ]
  },
  {
   "cell_type": "code",
   "execution_count": 2,
   "id": "47bfcffa-90fa-414f-ad5f-8343abb32d0d",
   "metadata": {},
   "outputs": [],
   "source": [
    "a=A()"
   ]
  },
  {
   "cell_type": "code",
   "execution_count": 3,
   "id": "fda4e3f2-226c-493a-aa4e-4964712e16d0",
   "metadata": {},
   "outputs": [],
   "source": [
    "class B(A):\n",
    "\n",
    "  a=10\n",
    "\n",
    "  b=20"
   ]
  },
  {
   "cell_type": "code",
   "execution_count": 4,
   "id": "00f1179f-e97e-42f8-b6d1-879d3ccd30ec",
   "metadata": {},
   "outputs": [],
   "source": [
    "b=B()"
   ]
  },
  {
   "cell_type": "code",
   "execution_count": 6,
   "id": "3ca468fc-bf63-4174-b5be-41d171b75a85",
   "metadata": {},
   "outputs": [
    {
     "name": "stdout",
     "output_type": "stream",
     "text": [
      "AAM\n",
      "44\n",
      "6 feet\n"
     ]
    }
   ],
   "source": [
    "print(b.name)\n",
    "\n",
    "print(b.age)\n",
    "\n",
    "print(b.hieght)"
   ]
  },
  {
   "cell_type": "code",
   "execution_count": 7,
   "id": "63cfbf6e-f5a6-4508-b651-6a4a0209a720",
   "metadata": {},
   "outputs": [],
   "source": [
    "class C(B):\n",
    "\n",
    "  d=\"Ram\"\n",
    "\n",
    "  e=22"
   ]
  },
  {
   "cell_type": "code",
   "execution_count": 8,
   "id": "16105b75-467c-4780-ac15-b3c2fea2979f",
   "metadata": {},
   "outputs": [],
   "source": [
    "c=C()"
   ]
  },
  {
   "cell_type": "code",
   "execution_count": 10,
   "id": "825983e4-f3d7-4516-a986-2dfc3bef2bcc",
   "metadata": {},
   "outputs": [
    {
     "name": "stdout",
     "output_type": "stream",
     "text": [
      "AAM\n",
      "6 feet\n",
      "10\n",
      "20\n",
      "Ram\n",
      "22\n"
     ]
    }
   ],
   "source": [
    "print(c.name)\n",
    "print(c.hieght)\n",
    "print(c.a)\n",
    "print(c.b)\n",
    "print(c.d)\n",
    "print(c.e)"
   ]
  },
  {
   "cell_type": "code",
   "execution_count": 11,
   "id": "23e3ecf5-103b-4806-84ef-384bc80bb49f",
   "metadata": {},
   "outputs": [],
   "source": [
    "class GrandFather:\n",
    "    surname=\"Chopra\""
   ]
  },
  {
   "cell_type": "code",
   "execution_count": 13,
   "id": "2e1cd756-0186-4e19-b367-9a68c1966da8",
   "metadata": {},
   "outputs": [],
   "source": [
    "class Father:\n",
    "\n",
    "  hieght=\"5 feet\"\n",
    "\n",
    "class Child(GrandFather,Father):\n",
    "\n",
    "  r=45"
   ]
  },
  {
   "cell_type": "code",
   "execution_count": 14,
   "id": "91992ed5-8fe5-47f3-b64a-11c04e61486c",
   "metadata": {},
   "outputs": [
    {
     "data": {
      "text/plain": [
       "'5 feet'"
      ]
     },
     "execution_count": 14,
     "metadata": {},
     "output_type": "execute_result"
    }
   ],
   "source": [
    "c=Child()\n",
    "\n",
    "c.hieght"
   ]
  },
  {
   "cell_type": "code",
   "execution_count": 15,
   "id": "5464e3f1-cc0e-4043-b172-a7dad9a813da",
   "metadata": {},
   "outputs": [],
   "source": [
    "class Student():\n",
    "\n",
    "  def info(self, name, age, roll_no):\n",
    "\n",
    "    self.name = name\n",
    "\n",
    "    self.age = age\n",
    "\n",
    "    self.roll_no = roll_no  "
   ]
  },
  {
   "cell_type": "code",
   "execution_count": 16,
   "id": "ebd1518c-fa47-426a-abcb-8464e1a52348",
   "metadata": {},
   "outputs": [],
   "source": [
    "class Details(Student):\n",
    "\n",
    "  def show_details(self):\n",
    "\n",
    "    print(self.name)\n",
    "\n",
    "    print(self.age)\n",
    "\n",
    "    print(self.roll_no)"
   ]
  },
  {
   "cell_type": "code",
   "execution_count": 17,
   "id": "340caaf2-4e6e-4389-9282-5c7d9a266ffa",
   "metadata": {},
   "outputs": [],
   "source": [
    "d=Student()"
   ]
  },
  {
   "cell_type": "code",
   "execution_count": 18,
   "id": "0b58450f-6b0d-4768-ac85-2006d9810788",
   "metadata": {},
   "outputs": [],
   "source": [
    "d.info(\"RAM\",20,1)"
   ]
  },
  {
   "cell_type": "code",
   "execution_count": 19,
   "id": "0e100fcc-7229-42c4-acb0-822ecd2b1c30",
   "metadata": {},
   "outputs": [
    {
     "data": {
      "text/plain": [
       "'RAM'"
      ]
     },
     "execution_count": 19,
     "metadata": {},
     "output_type": "execute_result"
    }
   ],
   "source": [
    "d.name"
   ]
  },
  {
   "cell_type": "code",
   "execution_count": 20,
   "id": "9c7253ae-5478-4f8d-9916-220472d10c5d",
   "metadata": {},
   "outputs": [],
   "source": [
    "class Student:\n",
    "\n",
    "  def __init__(self, a, b, c, d):  \n",
    "\n",
    "    self.a = a\n",
    "\n",
    "    self.b = b\n",
    "\n",
    "    self.c = c\n",
    "\n",
    "    self.d = d"
   ]
  },
  {
   "cell_type": "code",
   "execution_count": 21,
   "id": "b00094e2-76ca-41b1-9624-60096151a83c",
   "metadata": {},
   "outputs": [],
   "source": [
    "def show(self):  \n",
    "\n",
    "    return [self.a, self.b, self.c, self.d] # Changed to square brackets to create a list"
   ]
  },
  {
   "cell_type": "code",
   "execution_count": 1,
   "id": "b16fa04b-2dd4-4b5c-b7cb-36243afe3904",
   "metadata": {},
   "outputs": [],
   "source": [
    "# cylinder\n",
    "# in 1st class add 2 methods(Total_surface, curve_surface)\n",
    "# class 2 name it as cylinder\n",
    "# in 2nd class add 1 methode(volume)"
   ]
  },
  {
   "cell_type": "code",
   "execution_count": 2,
   "id": "18e86956-9506-407d-a9dd-2890e5299b8d",
   "metadata": {},
   "outputs": [],
   "source": [
    "class Cylinder1:\n",
    "\n",
    "  def __init__ (self,r,h,pi):\n",
    "\n",
    "    self.r = r\n",
    "\n",
    "    self.h = h\n",
    "\n",
    "    self.pi = pi\n",
    "\n",
    "  def tot_sa(self):\n",
    "\n",
    "    return (2*self.pi*self.r*(self.r+self.h))\n",
    "\n",
    "  def cu_sa(self):\n",
    "\n",
    "    return (2*self.pi*self.r*self.h)"
   ]
  },
  {
   "cell_type": "code",
   "execution_count": 3,
   "id": "4f720f81-0ac3-4309-a6ec-45086ce7be98",
   "metadata": {},
   "outputs": [
    {
     "name": "stdout",
     "output_type": "stream",
     "text": [
      "12\n",
      "24\n"
     ]
    }
   ],
   "source": [
    "class A:\n",
    "\n",
    "  def __init__(self, teacher, teacher1):\n",
    "\n",
    "    self.teacher = teacher\n",
    "\n",
    "    self.teacher1 = teacher1\n",
    "\n",
    "  def sh(self):\n",
    "\n",
    "    return self.teacher + self.teacher1\n",
    "\n",
    "class B(A):\n",
    "\n",
    "  def __init__(self, teacher, teacher1, student, student1):\n",
    "\n",
    "    super().__init__(teacher, teacher1)\n",
    "\n",
    "    self.student = student\n",
    "\n",
    "    self.student1 = student1\n",
    "\n",
    "  def sh1(self):\n",
    "\n",
    "    return self.student + self.student1\n",
    "\n",
    "b = B(1, 11, 2, 22)\n",
    "\n",
    "print(b.sh()) # This will return the sum of teacher and teacher1\n",
    "\n",
    "print(b.sh1()) # This will return the sum of student and student1"
   ]
  },
  {
   "cell_type": "code",
   "execution_count": 4,
   "id": "4c8bc20e-fa1d-4384-9bf4-f76a5b0babe4",
   "metadata": {},
   "outputs": [
    {
     "name": "stdout",
     "output_type": "stream",
     "text": [
      "12\n",
      "24\n",
      "40000.0\n"
     ]
    }
   ],
   "source": [
    "class A:\n",
    "\n",
    "  def __init__(self, teacher, teacher1, teacher_salary):\n",
    "\n",
    "    self.teacher = teacher\n",
    "\n",
    "    self.teacher1 = teacher1\n",
    "\n",
    "    self.teacher_salary = teacher_salary\n",
    "\n",
    "  def sh(self):\n",
    "\n",
    "    return self.teacher + self.teacher1\n",
    "\n",
    "class B(A):\n",
    "\n",
    "  def __init__(self, teacher, teacher1, teacher_salary, student, student1, student_salary):\n",
    "\n",
    "    super().__init__(teacher, teacher1, teacher_salary)\n",
    "\n",
    "    self.student = student\n",
    "\n",
    "    self.student1 = student1\n",
    "\n",
    "    self.student_salary = student_salary\n",
    "\n",
    "  def sh1(self):\n",
    "\n",
    "    return self.student + self.student1\n",
    "\n",
    "  def avg_salary(self):\n",
    "\n",
    "    return (self.teacher_salary + self.student_salary) / 2\n",
    "\n",
    "# Example usage\n",
    "\n",
    "b = B(1, 11, 50000, 2, 22, 30000)\n",
    "\n",
    "print(b.sh()) # Sum of teacher and teacher1\n",
    "\n",
    "print(b.sh1()) # Sum of student and student1\n",
    "\n",
    "print(b.avg_salary()) # Average of teacher_salary and student_salary"
   ]
  },
  {
   "cell_type": "code",
   "execution_count": 5,
   "id": "bfd1e15c-df81-4622-a86b-12ac0408e177",
   "metadata": {},
   "outputs": [],
   "source": [
    "# create a class calculator with attributes hours, minutes, seconds then create 2 methods total_minutes and total_hours"
   ]
  },
  {
   "cell_type": "code",
   "execution_count": 6,
   "id": "222402b2-b3a3-4cca-bc4e-3a85717b1e62",
   "metadata": {},
   "outputs": [],
   "source": [
    "# create  a class calculator1 withe attributes day, month the create 2 methods total_days and total_months"
   ]
  },
  {
   "cell_type": "code",
   "execution_count": 11,
   "id": "10904cb3-ae18-4903-a2c1-1664d3e4207a",
   "metadata": {},
   "outputs": [],
   "source": [
    "class Calculator:\n",
    "\n",
    "  def __init__(self, hours, minutes, seconds):\n",
    "\n",
    "    self.hours = hours\n",
    "\n",
    "    self.minutes = minutes\n",
    "\n",
    "    self.seconds = seconds\n",
    "\n",
    "\n",
    "\n",
    "  def total_minutes(self):\n",
    "\n",
    "    return self.hours * 60 + self.minutes + self.seconds / 60\n",
    "\n",
    "\n",
    "\n",
    "  def total_hours(self):\n",
    "\n",
    "    return self.hours + self.minutes / 60 + self.seconds / 3600"
   ]
  },
  {
   "cell_type": "code",
   "execution_count": 12,
   "id": "8ddc266a-0259-42b0-9eaf-8cc18ee0f67c",
   "metadata": {},
   "outputs": [
    {
     "name": "stdout",
     "output_type": "stream",
     "text": [
      "Total minutes: 165.5\n",
      "Total hours: 2.7583333333333333\n"
     ]
    }
   ],
   "source": [
    "calc = Calculator(2, 45, 30)\n",
    "\n",
    "print(\"Total minutes:\", calc.total_minutes())\n",
    "\n",
    "print(\"Total hours:\", calc.total_hours())"
   ]
  },
  {
   "cell_type": "code",
   "execution_count": 13,
   "id": "15701ec9-e39c-4626-8263-8c98b21b4c06",
   "metadata": {},
   "outputs": [],
   "source": [
    "class Calculator1:\n",
    "\n",
    "  def __init__(self, day, month):\n",
    "\n",
    "    self.day = day\n",
    "\n",
    "    self.month = month\n",
    "\n",
    "\n",
    "\n",
    "  def total_days(self):\n",
    "\n",
    "    return self.day + self.month * 30  \n",
    "\n",
    "\n",
    "\n",
    "  def total_months(self):\n",
    "\n",
    "    return self.month + self.day / 30 "
   ]
  },
  {
   "cell_type": "code",
   "execution_count": 14,
   "id": "729d50ab-5639-4b50-8c9e-a5ef8dd7e855",
   "metadata": {},
   "outputs": [
    {
     "name": "stdout",
     "output_type": "stream",
     "text": [
      "Total days: 165\n",
      "Total months: 5.5\n"
     ]
    }
   ],
   "source": [
    "calc1 = Calculator1(15, 5)\n",
    "\n",
    "print(\"Total days:\", calc1.total_days())\n",
    "\n",
    "print(\"Total months:\", calc1.total_months())"
   ]
  },
  {
   "cell_type": "code",
   "execution_count": 1,
   "id": "c31e3fc4-5cbc-4e03-a98b-e18e3600dbf7",
   "metadata": {},
   "outputs": [],
   "source": [
    "class A:\n",
    "    def total(self):\n",
    "        return 500\n",
    "    def total2(self):\n",
    "        return 600+A.total(self)"
   ]
  },
  {
   "cell_type": "code",
   "execution_count": 2,
   "id": "b495c64e-12ea-4a56-abfe-11fa8cd67ef8",
   "metadata": {},
   "outputs": [],
   "source": [
    "a=A()"
   ]
  },
  {
   "cell_type": "code",
   "execution_count": 3,
   "id": "9ea6ceb9-80d8-4fa6-a59f-43c231019db0",
   "metadata": {},
   "outputs": [
    {
     "data": {
      "text/plain": [
       "500"
      ]
     },
     "execution_count": 3,
     "metadata": {},
     "output_type": "execute_result"
    }
   ],
   "source": [
    "a.total()"
   ]
  },
  {
   "cell_type": "code",
   "execution_count": 5,
   "id": "aa555f34-20d2-425f-a968-af91e0d420be",
   "metadata": {},
   "outputs": [
    {
     "data": {
      "text/plain": [
       "1100"
      ]
     },
     "execution_count": 5,
     "metadata": {},
     "output_type": "execute_result"
    }
   ],
   "source": [
    "a.total2()"
   ]
  },
  {
   "cell_type": "code",
   "execution_count": null,
   "id": "f809b610-7be3-4551-8027-328ad2b1fa0e",
   "metadata": {},
   "outputs": [],
   "source": [
    "# create a class college with attributes building floor room and create a method show_info()\n",
    "# then create 2nd class college2 with attributes teachers students and fees and create a method to print whole information"
   ]
  },
  {
   "cell_type": "code",
   "execution_count": 6,
   "id": "32b0fcd1-3be4-4233-9f5a-4091ef58ca90",
   "metadata": {},
   "outputs": [],
   "source": [
    "class College:\n",
    "    def __init__(self, building, floor, room):\n",
    "        self.building=building\n",
    "        self.floor=floor\n",
    "        self.room=room\n",
    "    def show_info(self):\n",
    "        print(\"Building\", self.building)\n",
    "        print(\"Floor\", self.floor)\n",
    "        print(\"Room\", self.room)\n",
    "\n",
    "class College1(College):\n",
    "    def __init__(self, building, floor, room, teacher, student, fees):\n",
    "        super().__init__(building, floor, room)\n",
    "        self.teacher=teacher\n",
    "        self.student=student\n",
    "        self.fees=fees\n",
    "    def full_info(self):\n",
    "        College.show_info(self)\n",
    "        print(\"teacher\", self.teacher)\n",
    "        print(\"student\", self.student)\n",
    "        print(\"fees\", self.fees)"
   ]
  },
  {
   "cell_type": "code",
   "execution_count": null,
   "id": "4c96814d-96a8-4348-a225-865f5e6cf925",
   "metadata": {},
   "outputs": [],
   "source": []
  }
 ],
 "metadata": {
  "kernelspec": {
   "display_name": "Python 3 (ipykernel)",
   "language": "python",
   "name": "python3"
  },
  "language_info": {
   "codemirror_mode": {
    "name": "ipython",
    "version": 3
   },
   "file_extension": ".py",
   "mimetype": "text/x-python",
   "name": "python",
   "nbconvert_exporter": "python",
   "pygments_lexer": "ipython3",
   "version": "3.12.4"
  }
 },
 "nbformat": 4,
 "nbformat_minor": 5
}
