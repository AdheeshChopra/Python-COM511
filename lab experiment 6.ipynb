{
 "cells": [
  {
   "cell_type": "code",
   "execution_count": 1,
   "id": "bab64556-5002-46c6-bfd3-9a759fa469cd",
   "metadata": {},
   "outputs": [],
   "source": [
    "def student_records():\n",
    "    students = []\n",
    "    n = int(input(\"Enter the number of students: \"))\n",
    "\n",
    "    for i in range(n):\n",
    "        student = {}\n",
    "        student['id'] = input(f\"Enter ID for student {i+1}: \")\n",
    "        student['name'] = input(f\"Enter name for student {i+1}: \")\n",
    "        student['age'] = int(input(f\"Enter age for student {i+1}: \"))\n",
    "        student['grade'] = input(f\"Enter grade for student {i+1}: \")\n",
    "        students.append(student)\n",
    "        \n",
    "    student_dict = {student['id']: student for student in students}\n",
    "    search_id = input(\"Enter the ID of student to search: \")\n",
    "    if search_id in student_dict:\n",
    "        print(\"Student record found:\")\n",
    "        print(f\"ID: {student_dict[search_id]['id']}\")\n",
    "        print(f\"Name: {student_dict[search_id]['name']}\")\n",
    "        print(f\"Age: {student_dict[search_id]['age']}\")\n",
    "        print(f\"Grade: {student_dict[search_id]['grade']}\")\n",
    "    else:\n",
    "        print(\"Student record not found.\")\n",
    "\n",
    "    return students"
   ]
  },
  {
   "cell_type": "code",
   "execution_count": 2,
   "id": "d569feef-24a7-42cc-920e-6f0996d5e67a",
   "metadata": {},
   "outputs": [
    {
     "name": "stdin",
     "output_type": "stream",
     "text": [
      "Enter the number of students:  1\n",
      "Enter ID for student 1:  43\n",
      "Enter name for student 1:  adheesh\n",
      "Enter age for student 1:  20\n",
      "Enter grade for student 1:  99\n",
      "Enter the ID of student to search:  43\n"
     ]
    },
    {
     "name": "stdout",
     "output_type": "stream",
     "text": [
      "Student record found:\n",
      "ID: 43\n",
      "Name: adheesh\n",
      "Age: 20\n",
      "Grade: 99\n"
     ]
    },
    {
     "data": {
      "text/plain": [
       "[{'id': '43', 'name': 'adheesh', 'age': 20, 'grade': '99'}]"
      ]
     },
     "execution_count": 2,
     "metadata": {},
     "output_type": "execute_result"
    }
   ],
   "source": [
    "student_records()"
   ]
  },
  {
   "cell_type": "code",
   "execution_count": null,
   "id": "702581ac-0868-4e0f-81e9-c17d7f097d3d",
   "metadata": {},
   "outputs": [],
   "source": []
  }
 ],
 "metadata": {
  "kernelspec": {
   "display_name": "Python 3 (ipykernel)",
   "language": "python",
   "name": "python3"
  },
  "language_info": {
   "codemirror_mode": {
    "name": "ipython",
    "version": 3
   },
   "file_extension": ".py",
   "mimetype": "text/x-python",
   "name": "python",
   "nbconvert_exporter": "python",
   "pygments_lexer": "ipython3",
   "version": "3.12.4"
  }
 },
 "nbformat": 4,
 "nbformat_minor": 5
}
