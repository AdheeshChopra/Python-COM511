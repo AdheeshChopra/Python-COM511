{
 "cells": [
  {
   "cell_type": "markdown",
   "id": "129ae0ba-cf80-4bc1-a0c7-ab88463c7104",
   "metadata": {},
   "source": [
    "__IF ELSE__"
   ]
  },
  {
   "cell_type": "markdown",
   "id": "8b4187b1-1918-48d2-9957-d2cdc748800c",
   "metadata": {},
   "source": [
    "if condition:\n",
    "    print\"Statement1\"\n",
    "elseif condition 2:\n",
    "    print\"Statement 2\"\n",
    "else:\n",
    "    print \"Statement 3\""
   ]
  },
  {
   "cell_type": "code",
   "execution_count": 2,
   "id": "ce7a8ba7-edd4-45d2-98c7-5d7be68d268f",
   "metadata": {},
   "outputs": [],
   "source": [
    "#check if the x is more than 0 or not"
   ]
  },
  {
   "cell_type": "code",
   "execution_count": 3,
   "id": "d06a19ad-f003-42b0-9acd-e1166c1521b5",
   "metadata": {},
   "outputs": [
    {
     "name": "stdout",
     "output_type": "stream",
     "text": [
      "no\n"
     ]
    }
   ],
   "source": [
    "x=0\n",
    "if x>0:\n",
    "    print(\"yes\")\n",
    "else:\n",
    "    print(\"no\")"
   ]
  },
  {
   "cell_type": "code",
   "execution_count": 4,
   "id": "666a1f2d-06e8-4910-b4ce-5e66e21a6bae",
   "metadata": {},
   "outputs": [],
   "source": [
    "#check if x is less more than or equals to 0"
   ]
  },
  {
   "cell_type": "code",
   "execution_count": 6,
   "id": "cbef1c0b-ee20-4714-a264-0ed04331585b",
   "metadata": {},
   "outputs": [
    {
     "name": "stdin",
     "output_type": "stream",
     "text": [
      "Enter the no 4\n"
     ]
    },
    {
     "name": "stdout",
     "output_type": "stream",
     "text": [
      "NO\n"
     ]
    }
   ],
   "source": [
    "x=float(input(\"Enter the no\"))\n",
    "if x<0:\n",
    "    print(\"YES\")\n",
    "elif x==0:\n",
    "    print(\"EQUALS\")\n",
    "else:\n",
    "     print(\"NO\")"
   ]
  },
  {
   "cell_type": "code",
   "execution_count": 7,
   "id": "a069f1e1-3791-4917-ad06-f11c2c82f24b",
   "metadata": {},
   "outputs": [],
   "source": [
    "##check if x is less more than or equals to 100"
   ]
  },
  {
   "cell_type": "code",
   "execution_count": 8,
   "id": "f8cf3c2b-3220-49d1-92fb-54959b481f86",
   "metadata": {},
   "outputs": [
    {
     "name": "stdin",
     "output_type": "stream",
     "text": [
      "Enter the value in the question: 45\n"
     ]
    },
    {
     "name": "stdout",
     "output_type": "stream",
     "text": [
      "RESULT IS YES\n"
     ]
    }
   ],
   "source": [
    "x=float(input(\"Enter the value in the question:\"))\n",
    "if x<100:\n",
    "    print(\"RESULT IS YES\")\n",
    "elif x==100:\n",
    "    print(\"RESULT IS EQUALS\")\n",
    "else:\n",
    "     print(\"RESULT IS NO\")"
   ]
  },
  {
   "cell_type": "code",
   "execution_count": 9,
   "id": "61e7a67b-e724-48fc-8a57-1e4639545533",
   "metadata": {},
   "outputs": [
    {
     "name": "stdin",
     "output_type": "stream",
     "text": [
      "Enter the value in the question: 4\n"
     ]
    },
    {
     "name": "stdout",
     "output_type": "stream",
     "text": [
      "1.5874010519681994\n"
     ]
    }
   ],
   "source": [
    "x=float(input(\"Enter the value in the question:\"))\n",
    "if x<100:\n",
    "    print(x**(1/3))\n",
    "elif x==100:\n",
    "    print(x**(1/2))\n",
    "else:\n",
    "     print(x**2)"
   ]
  },
  {
   "cell_type": "code",
   "execution_count": 10,
   "id": "49cdcdf0-89c5-42ae-a3f9-79527a3d6ed1",
   "metadata": {},
   "outputs": [],
   "source": [
    "#check if x is even or odd"
   ]
  },
  {
   "cell_type": "code",
   "execution_count": 11,
   "id": "82a51072-03a6-4d2a-9954-bc7696b2fa64",
   "metadata": {},
   "outputs": [
    {
     "name": "stdin",
     "output_type": "stream",
     "text": [
      " 34\n"
     ]
    },
    {
     "name": "stdout",
     "output_type": "stream",
     "text": [
      "EVEN\n"
     ]
    }
   ],
   "source": [
    "x=float(input())\n",
    "if x%2==0:\n",
    "    print(\"EVEN\")\n",
    "else:\n",
    "    print(\"ODD\")\n"
   ]
  },
  {
   "cell_type": "code",
   "execution_count": 12,
   "id": "846d4fdd-760b-4eaa-983f-81a9eceae8a2",
   "metadata": {},
   "outputs": [],
   "source": [
    "#check if the given number is divided by both 2 and 3"
   ]
  },
  {
   "cell_type": "code",
   "execution_count": 13,
   "id": "9bdc44b6-c7e6-4c09-bcfb-55a97de00dbb",
   "metadata": {},
   "outputs": [
    {
     "name": "stdin",
     "output_type": "stream",
     "text": [
      "Enter the value in the question: 3\n"
     ]
    },
    {
     "name": "stdout",
     "output_type": "stream",
     "text": [
      "NO\n"
     ]
    }
   ],
   "source": [
    "x = float(input(\"Enter the value in the question:\"))\n",
    "if x % 2 == 0 and x % 3 == 0:\n",
    "    print(\"YES\")\n",
    "else:\n",
    "    print(\"NO\")\n"
   ]
  },
  {
   "cell_type": "code",
   "execution_count": 14,
   "id": "4b141c81-f05f-41ee-ba0d-3f3890a04da4",
   "metadata": {},
   "outputs": [
    {
     "name": "stdin",
     "output_type": "stream",
     "text": [
      " 56\n"
     ]
    },
    {
     "name": "stdout",
     "output_type": "stream",
     "text": [
      "NOPE\n"
     ]
    }
   ],
   "source": [
    "#2nd way\n",
    "x=float(input())\n",
    "if x%6==0:\n",
    "    print(\"YEP\")\n",
    "else:\n",
    "    print(\"NOPE\")\n"
   ]
  },
  {
   "cell_type": "code",
   "execution_count": 15,
   "id": "42b35eda-2b36-4809-ac69-47c9aa4b61ef",
   "metadata": {},
   "outputs": [],
   "source": [
    "#Check the datatype of the variable"
   ]
  },
  {
   "cell_type": "code",
   "execution_count": 16,
   "id": "9d852b2e-b3c7-41ed-8fab-324e90231f00",
   "metadata": {},
   "outputs": [
    {
     "name": "stdout",
     "output_type": "stream",
     "text": [
      "x is string\n"
     ]
    }
   ],
   "source": [
    "x = \"String\"\n",
    "\n",
    "if type(x) == int:\n",
    "    print(\"x is int\")\n",
    "elif type(x) == float:\n",
    "    print(\"x is float\")\n",
    "elif type(x) == str:\n",
    "    print(\"x is string\")\n",
    "else:\n",
    "    print(\"x is bool\")\n"
   ]
  },
  {
   "cell_type": "markdown",
   "id": "f80d8591-a5bb-4c50-aa13-7ecda72cdbbd",
   "metadata": {},
   "source": [
    "__STRING IF ELSE__"
   ]
  },
  {
   "cell_type": "code",
   "execution_count": 17,
   "id": "1282f38d-d05a-4591-909c-bcc310cea9c3",
   "metadata": {},
   "outputs": [],
   "source": [
    "#Check if there is \"a\" is in string or not"
   ]
  },
  {
   "cell_type": "code",
   "execution_count": 22,
   "id": "64b60623-cf18-4554-b1fe-845f2eded777",
   "metadata": {},
   "outputs": [
    {
     "name": "stdin",
     "output_type": "stream",
     "text": [
      "Enter the string adheesh\n"
     ]
    },
    {
     "name": "stdout",
     "output_type": "stream",
     "text": [
      "YES\n"
     ]
    }
   ],
   "source": [
    "x=input(\"Enter the string\")\n",
    "if \"a\" in x:\n",
    "    print(\"YES\")\n",
    "else:\n",
    "    print(\"No\")"
   ]
  },
  {
   "cell_type": "code",
   "execution_count": 19,
   "id": "c22b43e9-6c89-43db-a618-8a0f02c34cc8",
   "metadata": {},
   "outputs": [],
   "source": [
    "#Check if the first letter of the string is start with \"A\" or not or not"
   ]
  },
  {
   "cell_type": "code",
   "execution_count": 20,
   "id": "bac86189-9638-4651-bb24-91a54375cf20",
   "metadata": {},
   "outputs": [
    {
     "name": "stdin",
     "output_type": "stream",
     "text": [
      "Enter the string adheesh\n"
     ]
    },
    {
     "name": "stdout",
     "output_type": "stream",
     "text": [
      "No\n"
     ]
    }
   ],
   "source": [
    "x=input(\"Enter the string\")\n",
    "if  x[0]==\"A\":\n",
    "    print(\"YES\")\n",
    "else:\n",
    "    print(\"No\")"
   ]
  },
  {
   "cell_type": "code",
   "execution_count": 25,
   "id": "0076bf37-0b40-4bcc-97f7-c3dde667742b",
   "metadata": {},
   "outputs": [],
   "source": [
    "# check string starts with \"a\" and ends with \"r\""
   ]
  },
  {
   "cell_type": "code",
   "execution_count": 26,
   "id": "f7a1fee1-60a8-4800-b99c-34d7e648d51d",
   "metadata": {},
   "outputs": [
    {
     "name": "stdin",
     "output_type": "stream",
     "text": [
      "Enter the string adheesh\n"
     ]
    },
    {
     "name": "stdout",
     "output_type": "stream",
     "text": [
      "no\n"
     ]
    }
   ],
   "source": [
    "x=input(\"Enter the string\")\n",
    "if x[0]==\"a\" and x[-1]==\"r\":\n",
    "    print(\"yes starts with a and ends with r\")\n",
    "else:\n",
    "    print(\"no\")"
   ]
  },
  {
   "cell_type": "code",
   "execution_count": 27,
   "id": "056484b8-2cfe-4aee-bc5f-eacc329330c5",
   "metadata": {},
   "outputs": [],
   "source": [
    "# if type of x is int or float so check it is divided by 5 or not\n",
    "# if it is string the check the list later is a or \"A\""
   ]
  },
  {
   "cell_type": "code",
   "execution_count": 30,
   "id": "97ec5473-b30f-4f8a-90b8-bc7a017c3755",
   "metadata": {},
   "outputs": [
    {
     "name": "stdout",
     "output_type": "stream",
     "text": [
      "yes x is float or int divided by 5\n"
     ]
    }
   ],
   "source": [
    "x = 5\n",
    "if (type(x)==int and x%5==0) or (type(x)==float and x%5==0):\n",
    "    print(\"yes x is float or int divided by 5\")\n",
    "elif (type(x)==int and x%5!=0) or (type(x)==float and x%5!=0):\n",
    "    print(\"yes x is float or int but not divided by 5\")\n",
    "elif (type(x)==str and x[0]==\"a\") or (tyoe(x)==str and x[0]==\"A\"):\n",
    "    print(\"x is string and first letter is a or A\")\n",
    "elif (type(x)==str and \"a\" not in x[0]) or (tyoe(x)==str and \"A\" not in x[0]):\n",
    "    print(\"x is string but first letter is not a or A\")\n",
    "else:\n",
    "    print(\"there is not condition for your given input\")"
   ]
  },
  {
   "cell_type": "code",
   "execution_count": 31,
   "id": "15dbdb11-f86f-4d18-9a19-43a32000a865",
   "metadata": {},
   "outputs": [],
   "source": [
    "# check if there is any number in the string or not"
   ]
  },
  {
   "cell_type": "code",
   "execution_count": 32,
   "id": "feb1d100-4aa2-47f5-a332-f88108244cf0",
   "metadata": {},
   "outputs": [
    {
     "name": "stdin",
     "output_type": "stream",
     "text": [
      "enter the string xjhg\n"
     ]
    },
    {
     "name": "stdout",
     "output_type": "stream",
     "text": [
      "it is string\n"
     ]
    }
   ],
   "source": [
    "x=input(\"enter the string\")\n",
    "if x.isalpha():\n",
    "    print(\"it is string\")\n",
    "else:\n",
    "    print(\"there is a number in the string\")"
   ]
  },
  {
   "cell_type": "code",
   "execution_count": 33,
   "id": "19aab5d8-5828-4894-8644-4a96b0067db0",
   "metadata": {},
   "outputs": [],
   "source": [
    "# if income is more than 5 lakh and less than 10 lakh calculate 15% as a tax\n",
    "# if income is more than 10 lakh and less than 15 lakh calculate 20% as a tax\n",
    "# if income is more than 20 lakh calculate 30% as a tax"
   ]
  },
  {
   "cell_type": "code",
   "execution_count": null,
   "id": "2a8d4705-ffe6-4ae4-8590-a382eea27aee",
   "metadata": {},
   "outputs": [],
   "source": [
    "income = input(\"Enter the income\")\n",
    "if 500000<income<1000000:\n",
    "    tax = income*0.15"
   ]
  }
 ],
 "metadata": {
  "kernelspec": {
   "display_name": "Python 3 (ipykernel)",
   "language": "python",
   "name": "python3"
  },
  "language_info": {
   "codemirror_mode": {
    "name": "ipython",
    "version": 3
   },
   "file_extension": ".py",
   "mimetype": "text/x-python",
   "name": "python",
   "nbconvert_exporter": "python",
   "pygments_lexer": "ipython3",
   "version": "3.12.4"
  }
 },
 "nbformat": 4,
 "nbformat_minor": 5
}
