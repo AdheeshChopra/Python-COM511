{
 "cells": [
  {
   "cell_type": "code",
   "execution_count": 5,
   "id": "781092fc-10f2-404c-a2e6-653d2ed1e98d",
   "metadata": {},
   "outputs": [],
   "source": [
    "def greetings(x):\n",
    "    for i in x:\n",
    "        print(\"good morning\",i)"
   ]
  },
  {
   "cell_type": "code",
   "execution_count": 6,
   "id": "cdb22139-5464-4e97-9a14-fcd9657a1d50",
   "metadata": {},
   "outputs": [],
   "source": [
    "name=[\"a\",\"b\",\"c\"]"
   ]
  },
  {
   "cell_type": "code",
   "execution_count": 7,
   "id": "c742db8f-c369-470a-bf9f-6899cb14245d",
   "metadata": {},
   "outputs": [
    {
     "name": "stdout",
     "output_type": "stream",
     "text": [
      "good morning a\n",
      "good morning b\n",
      "good morning c\n"
     ]
    }
   ],
   "source": [
    "greetings(name)"
   ]
  },
  {
   "cell_type": "code",
   "execution_count": 10,
   "id": "78d27474-fe2e-4a29-a7c5-0426619045eb",
   "metadata": {},
   "outputs": [],
   "source": [
    "def greetings1(x):\n",
    "    t=input(\"enter [morning, evening, afternoon]:\")\n",
    "    for i in x:\n",
    "        if t.lower()==\"morning\":\n",
    "            print(\"good morning\", i)\n",
    "        elif t.lower()==\"evening\":\n",
    "            print(\"good evening\", i)\n",
    "        elif t.lower()==\"afternoon\":\n",
    "            print(\"good afternoon\", i)"
   ]
  },
  {
   "cell_type": "code",
   "execution_count": 11,
   "id": "c0ec9a51-b36b-4264-8efe-d8353df66b0e",
   "metadata": {},
   "outputs": [
    {
     "name": "stdin",
     "output_type": "stream",
     "text": [
      "enter [morning, evening, afternoon]: evening\n"
     ]
    },
    {
     "name": "stdout",
     "output_type": "stream",
     "text": [
      "good evening a\n",
      "good evening b\n",
      "good evening c\n"
     ]
    }
   ],
   "source": [
    "greetings1(name)"
   ]
  },
  {
   "cell_type": "code",
   "execution_count": 12,
   "id": "490cdec6-bd22-4a83-9bb0-284f7ac7515e",
   "metadata": {},
   "outputs": [],
   "source": [
    "# create a function to convert 1st 2 and last 2 letters in uppercase\n",
    "# after asking for the position"
   ]
  },
  {
   "cell_type": "code",
   "execution_count": 13,
   "id": "c69410c4-b310-4c63-9065-d73f1ea6a4d4",
   "metadata": {},
   "outputs": [],
   "source": [
    "def capital():\n",
    "    s=input(\"enter the string \")\n",
    "    po=input(\"enter the position \")\n",
    "    if po==\"2\":\n",
    "        return s[0:2].upper()+s[2:]\n",
    "    elif po==\"-2\":\n",
    "        return s[0:-2]+s[-2:].upper()"
   ]
  },
  {
   "cell_type": "code",
   "execution_count": 14,
   "id": "5a126d76-9acf-49e3-9396-338fe389a4cc",
   "metadata": {},
   "outputs": [
    {
     "name": "stdin",
     "output_type": "stream",
     "text": [
      "enter the string  hello how are you\n",
      "enter the position  -2\n"
     ]
    },
    {
     "data": {
      "text/plain": [
       "'hello how are yOU'"
      ]
     },
     "execution_count": 14,
     "metadata": {},
     "output_type": "execute_result"
    }
   ],
   "source": [
    "capital()"
   ]
  },
  {
   "cell_type": "code",
   "execution_count": 15,
   "id": "0bd13fd6-818b-4357-b40e-9d6bee6fa25b",
   "metadata": {},
   "outputs": [],
   "source": [
    "# create a function to calculate volume and area\n",
    "# volume of cube a**3\n",
    "# area of 6a**2"
   ]
  },
  {
   "cell_type": "code",
   "execution_count": 20,
   "id": "48cde2af-c565-48eb-a3dc-07c73d237866",
   "metadata": {},
   "outputs": [
    {
     "name": "stdin",
     "output_type": "stream",
     "text": [
      "enter the side of cube:  2.4\n"
     ]
    },
    {
     "name": "stdout",
     "output_type": "stream",
     "text": [
      "13.823999999999998\n",
      "34.56\n"
     ]
    }
   ],
   "source": [
    "a = float(input(\"enter the side of cube: \"))\n",
    "def volume():\n",
    "    volume = a**3\n",
    "    return volume\n",
    "def area():\n",
    "    area = 6*(a**2)\n",
    "    return area\n",
    "\n",
    "print(volume())\n",
    "print(area())"
   ]
  },
  {
   "cell_type": "code",
   "execution_count": 1,
   "id": "e0d53895-b958-4c4f-a88c-7fe21988775f",
   "metadata": {},
   "outputs": [],
   "source": [
    "# circle: area = pie * r**2\n",
    "#         circumference = 2 * pie * r\n",
    "# triangle: area = (1/2) * b * h\n",
    "#           perimeter = (a+b+c)\n",
    "# cylinder: volume = pie * r**2 * h\n",
    "#           surface area = 2 * pie * r(r+h)"
   ]
  },
  {
   "cell_type": "code",
   "execution_count": 16,
   "id": "9e00616f-a714-4bd6-bb83-3bff5a360570",
   "metadata": {},
   "outputs": [
    {
     "name": "stdin",
     "output_type": "stream",
     "text": [
      "Enter the entity[Circle, Triangle, Cylinder]:  circle\n",
      "Enter the radius of circle:  4\n",
      "Enter area or circumference you want to find:  area\n"
     ]
    },
    {
     "name": "stdout",
     "output_type": "stream",
     "text": [
      "The area of circle is: 50.24\n"
     ]
    }
   ],
   "source": [
    "x = input(\"Enter the entity[Circle, Triangle, Cylinder]: \")\n",
    "def shapes():\n",
    "    \n",
    "    if x.lower()==\"circle\":\n",
    "        r = float(input(\"Enter the radius of circle: \"))\n",
    "        f = input(\"Enter area or circumference you want to find: \")\n",
    "        if f.lower()==\"area\":\n",
    "            area = 3.14*(r**2)\n",
    "            print(\"The area of circle is:\", area)\n",
    "        elif f.lower()==\"circumference\":\n",
    "            circumference = 2*3.14*r\n",
    "            print(\"The circumference of circle is:\", circumference)\n",
    "        else:\n",
    "            print(\"Enter the valid input.\")\n",
    "\n",
    "    elif x.lower()==\"triangle\":\n",
    "        f = input(\"Enter area or perimeter you want to find: \")\n",
    "        if f.lower()==\"area\":\n",
    "            b=float(input(\"Enter the base of triangle: \"))\n",
    "            h=float(input(\"Enter the height of triangle: \"))\n",
    "            area = (1/2)*b*h\n",
    "            print(\"The area of triangle:\", area)\n",
    "        elif f.lower()==\"perimeter\":\n",
    "            a=float(input(\"Enter the first side of triangle: \"))\n",
    "            b=float(input(\"Enter the second side of triangle: \"))\n",
    "            c=float(input(\"Enter the third side of triangle: \"))\n",
    "            perimeter=a+b+c\n",
    "            print(\"The perimeter of triangle:\", perimeter)\n",
    "        else:\n",
    "            print(\"Enter the valid input.\")\n",
    "\n",
    "    elif x.lower()==\"cylinder\":\n",
    "        r=float(input(\"Enter the radius of cylinder: \"))\n",
    "        h=float(input(\"Enter the height of cylinder: \"))\n",
    "        f = input(\"Enter volume or surface area you want to find: \")\n",
    "        if f.lower()==\"volume\":\n",
    "            volume=3.14*(r**2)*h\n",
    "            print(\"The volume of cylinder is:\", volume)\n",
    "        elif f.lower()==\"surface area\":\n",
    "            surface_area=2*3.14*r(r+h)\n",
    "            print(\"The surface area of cylinder is:\", surface_area)\n",
    "        else:\n",
    "            print(\"Enter the valid input.\")\n",
    "\n",
    "    else:\n",
    "        print(\"Enter the valid input.\")\n",
    "\n",
    "shapes()"
   ]
  },
  {
   "cell_type": "code",
   "execution_count": null,
   "id": "47e5f60c-9454-47fb-913a-3c5e46d63332",
   "metadata": {},
   "outputs": [],
   "source": []
  }
 ],
 "metadata": {
  "kernelspec": {
   "display_name": "Python 3 (ipykernel)",
   "language": "python",
   "name": "python3"
  },
  "language_info": {
   "codemirror_mode": {
    "name": "ipython",
    "version": 3
   },
   "file_extension": ".py",
   "mimetype": "text/x-python",
   "name": "python",
   "nbconvert_exporter": "python",
   "pygments_lexer": "ipython3",
   "version": "3.12.4"
  }
 },
 "nbformat": 4,
 "nbformat_minor": 5
}
