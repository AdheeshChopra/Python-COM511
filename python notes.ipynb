{
 "cells": [
  {
   "cell_type": "markdown",
   "id": "1197bb3a-914d-42b9-812b-7b714cfe50f2",
   "metadata": {},
   "source": [
    "# **Python Rules**\n",
    "\n",
    "Python is case sensitive because PYTHON use UTT8(Uniform Transformation Formate)(A,a both are different)\n",
    "\n",
    "Variable can start with characters or _ only\n",
    "\n",
    "Variable/object can hold  only numerical, characters and code\n",
    "\n",
    "Variable can have any logical length\n",
    "\n",
    "Don’t use reserved key word as a variable like(with, is, or, else ,and)\n",
    "\n",
    " \n",
    "\n",
    "1. Indentation:\n",
    "\n",
    "Python uses identation to indicate blocks of code/ It is crucial for defining the scope of loops, functions, and conditional statements.\n",
    "\n",
    "2)Variables and aming Conventions:\n",
    "\n",
    "Variables names should be descriptive.\n",
    "\n",
    "Use lowercase with underscores for variable name (snake_case)\n",
    "\n",
    "Avoid using reserved words (e.g) if else, while, etc.) as variable names.\n",
    "\n",
    "3. Comments:\n",
    "\n",
    "Use # for single-comments and ‘’ or “”” “”” for multi line comments.\n",
    "\n",
    "4.  White Space:\n",
    "\n",
    "Use whitespace effectively for better readability avoid excessive spaces.\n",
    "\n",
    "Ex: A=5 #avoid\n",
    "\n",
    "A  = 5 #good\n"
   ]
  },
  {
   "cell_type": "markdown",
   "id": "15626662-7cd8-4a0d-8d7d-a5d93b982e08",
   "metadata": {},
   "source": [
    "**Index And Slicing:**\n",
    "\n",
    "*Indexing:*\n",
    "\n",
    "Indexing refers to accessing individual elements in a sequence using their position (index).  In python, indexing starts at 0. You can use square brackets [] to access elements at a specific index.\n",
    "\n",
    "*Slicing:*\n",
    "\n",
    "Slicing allows you to create a new sequence by extracting a portion of an existing sequence. It uses the format start:stop:step, where start is the index of the first element, stop is the index of the first element not to be included, and step is the step size."
   ]
  },
  {
   "cell_type": "markdown",
   "id": "0d93963b-ecff-4130-9b04-480feff5f2d2",
   "metadata": {},
   "source": [
    "**LIST**\n",
    "\n",
    "In python, a list is a built in data type used to store a collection of items. Lists are ordered, mutuable(modifiable) and can contain elements of different data types. They are one of the most versatile and commonly used data structures in Python.\n",
    "\n",
    "*Heterogenous Elements:*\n",
    "\n",
    "A list contain elements of different data types, including numbers, strings, booleans and even other lists.\n",
    "my_list=[5, 'world', 3.14, True, [9, 66, 789]]\n",
    "\n",
    "*In Build functions:*\n",
    "i.append() it will add an element at the end\n",
    "i.insert()\n",
    "i.extend()\n",
    "i.pop() it will remove last element\n",
    "i.clear()\n",
    "i.remove()\n",
    "i.sort()\n",
    "\n",
    "len():Returns the number of element x to the iterable(eg. list, tuple, string)\n",
    "append(x):Adds an element x to the end of the list.\n",
    "extend(iterable): Extens the list by appending elements from the iterable.\n",
    "insert(index, element):inserts an element x at the specified index in the list.\n",
    "remove(x):Removes the first occurence of element x from the list.\n",
    "pop((i)): Removes and return the element at index i. If i is not provided, it removes and returns the last element.\n",
    "count(x):Returns the number of occurence of element x in the list."
   ]
  },
  {
   "cell_type": "markdown",
   "id": "c538e70c-de37-4723-b4ae-b181fdc656b4",
   "metadata": {},
   "source": [
    "**Tuple:**\n",
    "\n",
    "A tuple\n",
    "\n",
    "*Some In Built Functions are:*\n",
    "count():returns the number of occurences of the specified element in the tuple.\n",
    "len(): returns length in the tuple.\n",
    "min():return the minimum value of the tuple\n",
    "max():return the maximum value of the tuple"
   ]
  },
  {
   "cell_type": "markdown",
   "id": "3deb7f34-ed1d-4d9a-a624-942f609e5d14",
   "metadata": {},
   "source": [
    "**SET:**\n",
    "\n",
    "In python, a set is an unordered collection of unique elememts. It is defined using curly braces{}, or the set() constructor. Sets do not allow duplicate elements and they are useful for tasks that involves testing membership and eliminating duplicate entries.\n",
    "\n",
    "*In Built Functions:*\n",
    "\n",
    "Union:In python, the union operation on sets is used to combine the elements of two or more sets into a new set. The resulting set contains all "
   ]
  }
 ],
 "metadata": {
  "kernelspec": {
   "display_name": "Python 3 (ipykernel)",
   "language": "python",
   "name": "python3"
  },
  "language_info": {
   "codemirror_mode": {
    "name": "ipython",
    "version": 3
   },
   "file_extension": ".py",
   "mimetype": "text/x-python",
   "name": "python",
   "nbconvert_exporter": "python",
   "pygments_lexer": "ipython3",
   "version": "3.12.4"
  }
 },
 "nbformat": 4,
 "nbformat_minor": 5
}
