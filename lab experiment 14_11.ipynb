{
 "cells": [
  {
   "cell_type": "code",
   "execution_count": 1,
   "id": "59c5043b-7e99-4d7c-a3bf-105ff23c2d63",
   "metadata": {},
   "outputs": [],
   "source": [
    "# create a text file \"myfile.txt\" in python and ask the user to write separate 3 lines with 3 input statements from the user."
   ]
  },
  {
   "cell_type": "code",
   "execution_count": 2,
   "id": "b1677d99-a679-4286-83d1-78beb52fbb84",
   "metadata": {},
   "outputs": [
    {
     "name": "stdin",
     "output_type": "stream",
     "text": [
      "Enter line 1:  line 1\n",
      "Enter line 2:  line 2\n",
      "Enter line 3:  line 3\n"
     ]
    },
    {
     "name": "stdout",
     "output_type": "stream",
     "text": [
      "Your input has been written to MyFile.txt.\n"
     ]
    }
   ],
   "source": [
    "with open(\"MyFile.txt\", \"w\") as file:\n",
    "  for i in range(3):\n",
    "    line = input(f\"Enter line {i+1}: \")  \n",
    "    file.write(line + \"\\n\")  \n",
    "\n",
    "print(\"Your input has been written to MyFile.txt.\")"
   ]
  },
  {
   "cell_type": "code",
   "execution_count": null,
   "id": "52662312-e79e-4249-b3aa-407fdc29faf4",
   "metadata": {},
   "outputs": [],
   "source": []
  }
 ],
 "metadata": {
  "kernelspec": {
   "display_name": "Python 3 (ipykernel)",
   "language": "python",
   "name": "python3"
  },
  "language_info": {
   "codemirror_mode": {
    "name": "ipython",
    "version": 3
   },
   "file_extension": ".py",
   "mimetype": "text/x-python",
   "name": "python",
   "nbconvert_exporter": "python",
   "pygments_lexer": "ipython3",
   "version": "3.12.4"
  }
 },
 "nbformat": 4,
 "nbformat_minor": 5
}
