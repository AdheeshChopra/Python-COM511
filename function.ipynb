{
 "cells": [
  {
   "cell_type": "code",
   "execution_count": 1,
   "id": "0f3ff257-a144-4997-8089-7b5a00bebf82",
   "metadata": {},
   "outputs": [],
   "source": [
    "def add(*x):\n",
    "    total = 0\n",
    "    for i in x:\n",
    "        total=total+i\n",
    "    return total"
   ]
  },
  {
   "cell_type": "code",
   "execution_count": 2,
   "id": "146001af-796b-48a9-89ed-b7b98d5c1963",
   "metadata": {},
   "outputs": [
    {
     "data": {
      "text/plain": [
       "30"
      ]
     },
     "execution_count": 2,
     "metadata": {},
     "output_type": "execute_result"
    }
   ],
   "source": [
    "add(7,8,9,6)"
   ]
  },
  {
   "cell_type": "code",
   "execution_count": 4,
   "id": "5570c17b-4f90-4e90-8196-4502322a6c88",
   "metadata": {},
   "outputs": [],
   "source": [
    "def add1(*s):\n",
    "    return s"
   ]
  },
  {
   "cell_type": "code",
   "execution_count": 6,
   "id": "16ef2001-6f9b-46b5-bdbd-cb688f31575f",
   "metadata": {},
   "outputs": [
    {
     "data": {
      "text/plain": [
       "30"
      ]
     },
     "execution_count": 6,
     "metadata": {},
     "output_type": "execute_result"
    }
   ],
   "source": [
    "add(4,5,6,7,8)"
   ]
  },
  {
   "cell_type": "code",
   "execution_count": 9,
   "id": "525112e2-b052-46a6-b444-0cda2ba9ed13",
   "metadata": {},
   "outputs": [],
   "source": [
    "def new_add(*y):\n",
    "    t=0\n",
    "    for i in y:\n",
    "        for j in i:\n",
    "            t+=j\n",
    "    return t"
   ]
  },
  {
   "cell_type": "code",
   "execution_count": 10,
   "id": "b30bd6da-c0ce-49a1-aecd-4190d91d93a4",
   "metadata": {},
   "outputs": [
    {
     "data": {
      "text/plain": [
       "270"
      ]
     },
     "execution_count": 10,
     "metadata": {},
     "output_type": "execute_result"
    }
   ],
   "source": [
    "new_add([1,2,3],[77,88,99])"
   ]
  },
  {
   "cell_type": "code",
   "execution_count": 11,
   "id": "87bb97f0-7956-4090-94bb-981c5a378125",
   "metadata": {},
   "outputs": [],
   "source": [
    "a =([1,2,3],[77,88,99])"
   ]
  },
  {
   "cell_type": "code",
   "execution_count": 12,
   "id": "0b5ad5e0-137e-41ab-bd2d-460b19a043d9",
   "metadata": {},
   "outputs": [
    {
     "name": "stdout",
     "output_type": "stream",
     "text": [
      "270\n"
     ]
    }
   ],
   "source": [
    "total=0\n",
    "for i in a:\n",
    "    for j in i:\n",
    "        total=total+j\n",
    "print(total)"
   ]
  },
  {
   "cell_type": "code",
   "execution_count": 13,
   "id": "4846b1b6-3d01-4506-ab4f-c4fcac06ed5c",
   "metadata": {},
   "outputs": [],
   "source": [
    "def sqrt(x):\n",
    "    return x**2"
   ]
  },
  {
   "cell_type": "code",
   "execution_count": 14,
   "id": "2feca834-8c99-4bf7-8013-6d91f9f8126f",
   "metadata": {},
   "outputs": [
    {
     "data": {
      "text/plain": [
       "\u001b[1;31mSignature:\u001b[0m \u001b[0msqrt\u001b[0m\u001b[1;33m(\u001b[0m\u001b[0mx\u001b[0m\u001b[1;33m)\u001b[0m\u001b[1;33m\u001b[0m\u001b[1;33m\u001b[0m\u001b[0m\n",
       "\u001b[1;31mDocstring:\u001b[0m <no docstring>\n",
       "\u001b[1;31mFile:\u001b[0m      c:\\users\\dell\\appdata\\local\\temp\\ipykernel_20592\\557636901.py\n",
       "\u001b[1;31mType:\u001b[0m      function"
      ]
     },
     "metadata": {},
     "output_type": "display_data"
    }
   ],
   "source": [
    "?sqrt"
   ]
  },
  {
   "cell_type": "code",
   "execution_count": null,
   "id": "c7c1148e-e79f-4c46-beb2-4ab36fe098ed",
   "metadata": {},
   "outputs": [],
   "source": [
    "sqrt()"
   ]
  },
  {
   "cell_type": "code",
   "execution_count": 19,
   "id": "3839b134-7d22-4cd5-8aa8-abc46c1c9dd6",
   "metadata": {},
   "outputs": [],
   "source": [
    "import pandas as pd"
   ]
  },
  {
   "cell_type": "code",
   "execution_count": 20,
   "id": "88d52549-139d-4801-b93a-c0f051b19db6",
   "metadata": {},
   "outputs": [],
   "source": [
    "d={\"name\":[\"a\",\"b\",\"c\",\"d\"],\n",
    "  \"salary\":[25000,45000,65000,95000]}"
   ]
  },
  {
   "cell_type": "code",
   "execution_count": 21,
   "id": "42211552-c04b-4beb-855c-224bdcf203b1",
   "metadata": {},
   "outputs": [],
   "source": [
    "df=pd.DataFrame(d)"
   ]
  },
  {
   "cell_type": "code",
   "execution_count": 22,
   "id": "666abe52-b43d-4cd8-b7e3-641aee2f15fb",
   "metadata": {},
   "outputs": [],
   "source": [
    "def cond(x):\n",
    "    if x>50000:\n",
    "        return \"high\"\n",
    "    else:\n",
    "        return \"Low\""
   ]
  },
  {
   "cell_type": "code",
   "execution_count": 23,
   "id": "805d25f1-07c7-421f-add8-3736c96e35e3",
   "metadata": {},
   "outputs": [],
   "source": [
    "df[\"condition\"]=df[\"salary\"].apply(cond)"
   ]
  },
  {
   "cell_type": "code",
   "execution_count": null,
   "id": "aaf4c64f-444b-4fc6-910d-6c55c1f8980d",
   "metadata": {},
   "outputs": [],
   "source": []
  }
 ],
 "metadata": {
  "kernelspec": {
   "display_name": "Python 3 (ipykernel)",
   "language": "python",
   "name": "python3"
  },
  "language_info": {
   "codemirror_mode": {
    "name": "ipython",
    "version": 3
   },
   "file_extension": ".py",
   "mimetype": "text/x-python",
   "name": "python",
   "nbconvert_exporter": "python",
   "pygments_lexer": "ipython3",
   "version": "3.12.4"
  }
 },
 "nbformat": 4,
 "nbformat_minor": 5
}
