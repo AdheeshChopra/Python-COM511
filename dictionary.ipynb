{
 "cells": [
  {
   "cell_type": "code",
   "execution_count": 1,
   "id": "2310cb9c-aa81-4b4b-b515-6de6b3c50539",
   "metadata": {},
   "outputs": [],
   "source": [
    "d={}"
   ]
  },
  {
   "cell_type": "code",
   "execution_count": 2,
   "id": "44ef9a35-15de-479d-82bb-cac26e1e9ebf",
   "metadata": {},
   "outputs": [
    {
     "data": {
      "text/plain": [
       "dict"
      ]
     },
     "execution_count": 2,
     "metadata": {},
     "output_type": "execute_result"
    }
   ],
   "source": [
    "type(d)"
   ]
  },
  {
   "cell_type": "code",
   "execution_count": 3,
   "id": "e62faa9c-6418-40db-91ea-76a9942bbed4",
   "metadata": {},
   "outputs": [],
   "source": [
    "d={\"name\":[\"a\",\"b\",\"c\"],\n",
    "  \"ID\":[1001,1002,1003,1004]}"
   ]
  },
  {
   "cell_type": "code",
   "execution_count": 4,
   "id": "5bf59b1e-6f6d-48b9-ac77-44e7f0e4a005",
   "metadata": {},
   "outputs": [
    {
     "data": {
      "text/plain": [
       "{'name': ['a', 'b', 'c'], 'ID': [1001, 1002, 1003, 1004]}"
      ]
     },
     "execution_count": 4,
     "metadata": {},
     "output_type": "execute_result"
    }
   ],
   "source": [
    "d"
   ]
  },
  {
   "cell_type": "code",
   "execution_count": 5,
   "id": "805e0e16-868d-40a5-80be-64515007c0fa",
   "metadata": {},
   "outputs": [],
   "source": [
    "d1={\"name\":(\"a\",\"b\",\"c\"),\n",
    "   \"ID\":(1001,1002,1003,1004)}"
   ]
  },
  {
   "cell_type": "code",
   "execution_count": 6,
   "id": "6beaacc2-d2aa-4405-93d4-d8d4078258b5",
   "metadata": {},
   "outputs": [
    {
     "data": {
      "text/plain": [
       "{'name': ('a', 'b', 'c'), 'ID': (1001, 1002, 1003, 1004)}"
      ]
     },
     "execution_count": 6,
     "metadata": {},
     "output_type": "execute_result"
    }
   ],
   "source": [
    "d1"
   ]
  },
  {
   "cell_type": "code",
   "execution_count": 13,
   "id": "e0db6629-e6c5-4df7-b5ce-0c449d8bbb70",
   "metadata": {},
   "outputs": [
    {
     "data": {
      "text/plain": [
       "dict_values([['a', 'b', 'c'], [1001, 1002, 1003, 1004]])"
      ]
     },
     "execution_count": 13,
     "metadata": {},
     "output_type": "execute_result"
    }
   ],
   "source": [
    "d.values()"
   ]
  },
  {
   "cell_type": "code",
   "execution_count": 14,
   "id": "cd27f289-99c8-4a1a-9144-df9b7fc15b94",
   "metadata": {},
   "outputs": [
    {
     "data": {
      "text/plain": [
       "dict_keys(['name', 'ID'])"
      ]
     },
     "execution_count": 14,
     "metadata": {},
     "output_type": "execute_result"
    }
   ],
   "source": [
    "d.keys()"
   ]
  },
  {
   "cell_type": "code",
   "execution_count": 15,
   "id": "abafadee-a2d1-48db-8d70-7df7f808fbd1",
   "metadata": {},
   "outputs": [
    {
     "data": {
      "text/plain": [
       "['a', 'b', 'c']"
      ]
     },
     "execution_count": 15,
     "metadata": {},
     "output_type": "execute_result"
    }
   ],
   "source": [
    "d[\"name\"]"
   ]
  },
  {
   "cell_type": "code",
   "execution_count": 16,
   "id": "f805df1d-bc13-47b3-a215-181506c60c9f",
   "metadata": {},
   "outputs": [
    {
     "data": {
      "text/plain": [
       "list"
      ]
     },
     "execution_count": 16,
     "metadata": {},
     "output_type": "execute_result"
    }
   ],
   "source": [
    "type(d[\"name\"])"
   ]
  },
  {
   "cell_type": "code",
   "execution_count": 17,
   "id": "a5aaa637-18eb-4055-89ac-96605e552aa3",
   "metadata": {},
   "outputs": [
    {
     "data": {
      "text/plain": [
       "tuple"
      ]
     },
     "execution_count": 17,
     "metadata": {},
     "output_type": "execute_result"
    }
   ],
   "source": [
    "type(d1[\"name\"])"
   ]
  },
  {
   "cell_type": "code",
   "execution_count": 21,
   "id": "201166ac-04e9-4e8e-b233-964463028615",
   "metadata": {},
   "outputs": [],
   "source": [
    "d[\"name\"][0]=\"A\""
   ]
  },
  {
   "cell_type": "code",
   "execution_count": 22,
   "id": "7ef6e969-2d8d-4ad5-8665-03b0c58c56e7",
   "metadata": {},
   "outputs": [
    {
     "data": {
      "text/plain": [
       "{'name': ['A', 'b', 'c'], 'ID': [1001, 1002, 1003, 1004]}"
      ]
     },
     "execution_count": 22,
     "metadata": {},
     "output_type": "execute_result"
    }
   ],
   "source": [
    "d"
   ]
  },
  {
   "cell_type": "code",
   "execution_count": 26,
   "id": "bb246cd2-43b0-4228-a4f0-4c2269dce430",
   "metadata": {},
   "outputs": [],
   "source": [
    "d[\"ID\"][0:2]=2001,2002"
   ]
  },
  {
   "cell_type": "code",
   "execution_count": 27,
   "id": "d5c89d9d-d489-471d-93fb-4e171537b7c2",
   "metadata": {},
   "outputs": [
    {
     "data": {
      "text/plain": [
       "{'name': ['A', 'b', 'c'], 'ID': [2001, 2002, 1003, 1004]}"
      ]
     },
     "execution_count": 27,
     "metadata": {},
     "output_type": "execute_result"
    }
   ],
   "source": [
    "d"
   ]
  },
  {
   "cell_type": "code",
   "execution_count": null,
   "id": "30c60164-ce65-4b17-a823-d7a47140abec",
   "metadata": {},
   "outputs": [],
   "source": []
  }
 ],
 "metadata": {
  "kernelspec": {
   "display_name": "Python 3 (ipykernel)",
   "language": "python",
   "name": "python3"
  },
  "language_info": {
   "codemirror_mode": {
    "name": "ipython",
    "version": 3
   },
   "file_extension": ".py",
   "mimetype": "text/x-python",
   "name": "python",
   "nbconvert_exporter": "python",
   "pygments_lexer": "ipython3",
   "version": "3.12.4"
  }
 },
 "nbformat": 4,
 "nbformat_minor": 5
}
