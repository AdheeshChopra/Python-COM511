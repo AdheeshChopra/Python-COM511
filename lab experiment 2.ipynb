{
 "cells": [
  {
   "cell_type": "code",
   "execution_count": 1,
   "id": "8519d28b-3792-4263-9499-69d0a04b8848",
   "metadata": {},
   "outputs": [
    {
     "name": "stdout",
     "output_type": "stream",
     "text": [
      "Iterating over a list:\n",
      "List item:  10\n",
      "List item:  20\n",
      "List item:  30\n",
      "List item:  40\n",
      "List item:  50\n",
      "\n",
      "Iterating over a dictionary (keys and values):\n",
      "Key: name, Value: User\n",
      "Key: age, Value: 20\n",
      "Key: city, Value: Jammu\n"
     ]
    }
   ],
   "source": [
    "my_list = [10, 20, 30, 40, 50]\n",
    "\n",
    "print(\"Iterating over a list:\")\n",
    "for item in my_list:\n",
    "    print(\"List item: \", item)\n",
    "\n",
    "my_dict = {\n",
    "    'name': 'User',\n",
    "    'age': 20,\n",
    "    'city': 'Jammu'\n",
    "}\n",
    "\n",
    "print(\"\\nIterating over a dictionary (keys and values):\")\n",
    "for key, value in my_dict.items():\n",
    "    print(f\"Key: {key}, Value: {value}\")"
   ]
  },
  {
   "cell_type": "code",
   "execution_count": null,
   "id": "62885274-0b7d-440b-8e30-37eecab5a6eb",
   "metadata": {},
   "outputs": [],
   "source": []
  }
 ],
 "metadata": {
  "kernelspec": {
   "display_name": "Python 3 (ipykernel)",
   "language": "python",
   "name": "python3"
  },
  "language_info": {
   "codemirror_mode": {
    "name": "ipython",
    "version": 3
   },
   "file_extension": ".py",
   "mimetype": "text/x-python",
   "name": "python",
   "nbconvert_exporter": "python",
   "pygments_lexer": "ipython3",
   "version": "3.12.4"
  }
 },
 "nbformat": 4,
 "nbformat_minor": 5
}
