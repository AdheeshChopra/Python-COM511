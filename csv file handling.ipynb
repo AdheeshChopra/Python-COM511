{
 "cells": [
  {
   "cell_type": "code",
   "execution_count": 1,
   "id": "d11d53d7-ee14-467b-bb53-f84e04a72650",
   "metadata": {},
   "outputs": [],
   "source": [
    "import csv"
   ]
  },
  {
   "cell_type": "code",
   "execution_count": 2,
   "id": "f4887626-5a40-449a-b1bb-33c68192ed33",
   "metadata": {},
   "outputs": [],
   "source": [
    "file = open(\"file.csv\",\"w\")\n",
    "\n",
    "file.write(\"1,25000,5\\n\")\n",
    "\n",
    "file.write(\"2,48000,5\\n\")\n",
    "\n",
    "file.write(\"3,70000,2\\n\")\n",
    "\n",
    "file.write(\"4,82000,5\\n\")\n",
    "\n",
    "file.close()"
   ]
  },
  {
   "cell_type": "code",
   "execution_count": 3,
   "id": "23f9addb-fd0d-42e7-a021-a3e1ecbc3f73",
   "metadata": {},
   "outputs": [
    {
     "name": "stdout",
     "output_type": "stream",
     "text": [
      "1,25000,5\n",
      "2,48000,5\n",
      "3,70000,2\n",
      "4,82000,5\n",
      "\n"
     ]
    }
   ],
   "source": [
    "file = open(\"file.csv\",\"r\")\n",
    "\n",
    "print(file.read())\n",
    "\n",
    "file.close()"
   ]
  },
  {
   "cell_type": "code",
   "execution_count": 4,
   "id": "a099f052-f3bc-4e84-a4f1-8e4b3a1fe8dd",
   "metadata": {},
   "outputs": [
    {
     "name": "stdout",
     "output_type": "stream",
     "text": [
      "2,48000,5\n",
      "3,70000,2\n"
     ]
    }
   ],
   "source": [
    "with open(\"file.csv\", \"r\") as file:\n",
    "\n",
    "  # Read all lines into a list\n",
    "\n",
    "  lines = file.readlines()\n",
    "\n",
    "# Print the 2nd and 3rd rows (index 1 and 2 in 0-based indexing)\n",
    "\n",
    "print(lines[1].strip()) # 2nd row\n",
    "\n",
    "print(lines[2].strip()) # 3rd row"
   ]
  },
  {
   "cell_type": "code",
   "execution_count": 5,
   "id": "a0031351-6fca-4097-8535-24f0ec51c13b",
   "metadata": {},
   "outputs": [],
   "source": [
    "file = open(\"file.csv\",\"a\")\n",
    "\n",
    "file.write(\"5,73000,10\\n\")\n",
    "\n",
    "file.write(\"6,99000,2\\n\")\n",
    "\n",
    "file.close()\n",
    "\n"
   ]
  },
  {
   "cell_type": "code",
   "execution_count": 6,
   "id": "14026cc9-e214-48d1-b675-a70a79e68a7a",
   "metadata": {},
   "outputs": [
    {
     "name": "stdout",
     "output_type": "stream",
     "text": [
      "['1', '25000', '5']\n",
      "['2', '48000', '5']\n",
      "['3', '70000', '2']\n",
      "['4', '82000', '5']\n",
      "['5', '73000', '10']\n",
      "['6', '99000', '2']\n"
     ]
    }
   ],
   "source": [
    "file = open(\"file.csv\",\"r\")\n",
    "\n",
    "f = csv.reader(file,delimiter=\",\")\n",
    "\n",
    "l = list(f)\n",
    "\n",
    "for i in l:\n",
    "\n",
    "  print(i)\n",
    "\n",
    "file.close()"
   ]
  },
  {
   "cell_type": "code",
   "execution_count": 7,
   "id": "f7bd1248-ebac-4ce7-8149-a3a2c05d1798",
   "metadata": {},
   "outputs": [
    {
     "name": "stdout",
     "output_type": "stream",
     "text": [
      "1 25000 5\n",
      "2 48000 5\n",
      "3 70000 2\n",
      "4 82000 5\n",
      "5 73000 10\n",
      "6 99000 2\n"
     ]
    }
   ],
   "source": [
    "file = open(\"file.csv\",\"r\")\n",
    "\n",
    "f = csv.reader(file,delimiter=\",\")\n",
    "\n",
    "l = list(f)\n",
    "\n",
    "for i in l:\n",
    "\n",
    "  print(i[0],i[1],i[2])\n",
    "\n",
    "file.close()"
   ]
  },
  {
   "cell_type": "markdown",
   "id": "dbeaa274-3322-46fc-aaa1-04f02761a26c",
   "metadata": {},
   "source": [
    "**4 december**"
   ]
  },
  {
   "cell_type": "code",
   "execution_count": 10,
   "id": "87bd70f3-a790-484c-8d85-2abe0b250749",
   "metadata": {},
   "outputs": [
    {
     "name": "stdout",
     "output_type": "stream",
     "text": [
      "ID | SALARY | MONTHS\n",
      "--------------------\n",
      "1  | 25000  | 5   \n",
      "2  | 48000  | 5   \n",
      "3  | 70000  | 2   \n",
      "4  | 82000  | 5   \n",
      "5  | 73000  | 10  \n",
      "6  | 99000  | 2   \n"
     ]
    }
   ],
   "source": [
    "file = open(\"file.csv\",\"r\")\n",
    "f = csv.reader(file,delimiter=\",\")\n",
    "l = list(f)\n",
    "print(\"ID | SALARY | MONTHS\")\n",
    "print(\"--------------------\")\n",
    "for i in l:\n",
    "  print(f\"{i[0]:<2} | {i[1]:<6} | {i[2]:<4}\")\n",
    "file.close()"
   ]
  },
  {
   "cell_type": "markdown",
   "id": "ec8bc27e-2a37-4286-8f93-667716889fc2",
   "metadata": {},
   "source": [
    "**Remove any row**"
   ]
  },
  {
   "cell_type": "code",
   "execution_count": 11,
   "id": "a1941576-8469-4c25-bbcc-ae27f51c25da",
   "metadata": {},
   "outputs": [
    {
     "name": "stdout",
     "output_type": "stream",
     "text": [
      "[['1', '25000', '5'], ['3', '70000', '2'], ['4', '82000', '5'], ['5', '73000', '10'], ['6', '99000', '2']]\n"
     ]
    }
   ],
   "source": [
    "file = open(\"file.csv\",\"r\")\n",
    "f = csv.reader(file,delimiter=\",\")\n",
    "l = list(f)\n",
    "row = 2\n",
    "l.pop(row-1)\n",
    "print(l)\n",
    "file.close()"
   ]
  },
  {
   "cell_type": "markdown",
   "id": "91f26236-06e1-4939-91e9-4c66e0a5405b",
   "metadata": {},
   "source": [
    "**Edit any row**"
   ]
  },
  {
   "cell_type": "code",
   "execution_count": 12,
   "id": "0a34e124-ebb5-4d1a-b2e9-9e992d647cc1",
   "metadata": {},
   "outputs": [
    {
     "name": "stdout",
     "output_type": "stream",
     "text": [
      "['1', '25000', '5']\n",
      "['2', '48000', '16']\n",
      "['3', '70000', '2']\n",
      "['400', '76500', '3']\n",
      "['5', '73000', '10']\n",
      "['6', '99000', '2']\n"
     ]
    }
   ],
   "source": [
    "file = open(\"file.csv\" ,\"r\")\n",
    "f = csv.reader(file,delimiter=',')\n",
    "l=list(f)\n",
    "l[1][2] = \"16\"\n",
    "l[3] = [\"400\" , \"76500\" , \"3\"]\n",
    "for i in l:\n",
    "  print(i)\n",
    "file.close()"
   ]
  },
  {
   "cell_type": "markdown",
   "id": "181a7311-a1ab-46e0-96fb-db6d4d339f7d",
   "metadata": {},
   "source": [
    "**apply any change**"
   ]
  },
  {
   "cell_type": "code",
   "execution_count": 19,
   "id": "74e3423f-4d19-4520-b39d-acc26ca2e307",
   "metadata": {},
   "outputs": [],
   "source": [
    "file = open(\"file.csv\", \"r\")  \n",
    "f = csv.reader(file, delimiter=\",\")\n",
    "l = list(f)\n",
    "file.close() \n",
    "file = open(\"file1.csv\", \"w\")\n",
    "for i in l:\n",
    "  file.write(f\"{i[0]},{i[1]},{i[2]}\\n\") \n",
    "file.close() "
   ]
  },
  {
   "cell_type": "code",
   "execution_count": 20,
   "id": "7221b04b-d993-444e-9eb9-809090724bf4",
   "metadata": {},
   "outputs": [
    {
     "name": "stdout",
     "output_type": "stream",
     "text": [
      "['1', '25000', '5']\n",
      "['2', '48000', '5']\n",
      "['3', '70000', '2']\n",
      "['4', '82000', '5']\n",
      "['5', '73000', '10']\n",
      "['6', '99000', '2']\n"
     ]
    }
   ],
   "source": [
    "file = open(\"file1.csv\", \"r\")  \n",
    "f = csv.reader(file, delimiter=\",\")\n",
    "l = list(f)\n",
    "file.close()\n",
    "for i in l:\n",
    "  print(i)\n",
    "file.close()"
   ]
  },
  {
   "cell_type": "code",
   "execution_count": 21,
   "id": "97d17248-7295-4a59-9097-e300c6c0d9b8",
   "metadata": {},
   "outputs": [
    {
     "name": "stdout",
     "output_type": "stream",
     "text": [
      "['1', '25000', '5', 125000.0]\n",
      "['2', '48000', '5', 240000.0]\n",
      "['3', '70000', '2', 140000.0]\n",
      "['4', '82000', '5', 410000.0]\n",
      "['5', '73000', '10', 730000.0]\n",
      "['6', '99000', '2', 198000.0]\n"
     ]
    }
   ],
   "source": [
    "file = open(\"file1.csv\", \"r\")  \n",
    "f = csv.reader(file, delimiter=\",\")\n",
    "l = list(f)\n",
    "file.close()\n",
    "for i in l:\n",
    "  try:\n",
    "    month = int(i[1])  \n",
    "    salary = float(i[2])  \n",
    "    multiplication_result = month * salary  \n",
    "    i.append(multiplication_result)  \n",
    "  except ValueError:\n",
    "    i.append(\"Invalid Data\")\n",
    "\n",
    "file = open(\"file1.csv\", \"w\", newline=\"\")\n",
    "writer = csv.writer(file)\n",
    "writer.writerows(l)\n",
    "file.close()\n",
    "\n",
    "for i in l:\n",
    "  print(i)"
   ]
  },
  {
   "cell_type": "code",
   "execution_count": null,
   "id": "39e983d5-29a4-4da1-b894-c188b335bbe3",
   "metadata": {},
   "outputs": [],
   "source": []
  }
 ],
 "metadata": {
  "kernelspec": {
   "display_name": "Python 3 (ipykernel)",
   "language": "python",
   "name": "python3"
  },
  "language_info": {
   "codemirror_mode": {
    "name": "ipython",
    "version": 3
   },
   "file_extension": ".py",
   "mimetype": "text/x-python",
   "name": "python",
   "nbconvert_exporter": "python",
   "pygments_lexer": "ipython3",
   "version": "3.12.4"
  }
 },
 "nbformat": 4,
 "nbformat_minor": 5
}
