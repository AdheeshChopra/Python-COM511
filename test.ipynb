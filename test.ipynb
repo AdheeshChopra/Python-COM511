{
 "cells": [
  {
   "cell_type": "code",
   "execution_count": 2,
   "id": "22d14425-e16b-485d-8c51-eae3b80b6644",
   "metadata": {},
   "outputs": [
    {
     "name": "stdout",
     "output_type": "stream",
     "text": [
      "This is the File Handling\n",
      "In the file handling we are getting to learn how to handle text file\n",
      "so the basic syntax of the file handling is variable_name = open('file_name','mode')\n",
      "Using mode we are allowed to handle the text.file in python\n",
      "Basic Mode are used in the file are 'w' , 'r' , 'a'\n",
      "u stand for write , r stand for read , a stand for append\n"
     ]
    }
   ],
   "source": [
    "file=open(\"test.txt\",\"r\")\n",
    "print(file.read())\n",
    "file.close()"
   ]
  },
  {
   "cell_type": "code",
   "execution_count": null,
   "id": "e9c2f82f-79cb-40f1-a6aa-f2c88e393546",
   "metadata": {},
   "outputs": [],
   "source": []
  }
 ],
 "metadata": {
  "kernelspec": {
   "display_name": "Python 3 (ipykernel)",
   "language": "python",
   "name": "python3"
  },
  "language_info": {
   "codemirror_mode": {
    "name": "ipython",
    "version": 3
   },
   "file_extension": ".py",
   "mimetype": "text/x-python",
   "name": "python",
   "nbconvert_exporter": "python",
   "pygments_lexer": "ipython3",
   "version": "3.12.4"
  }
 },
 "nbformat": 4,
 "nbformat_minor": 5
}
