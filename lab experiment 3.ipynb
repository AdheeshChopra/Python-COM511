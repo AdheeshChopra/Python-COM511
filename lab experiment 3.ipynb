{
 "cells": [
  {
   "cell_type": "code",
   "execution_count": 1,
   "id": "d5889a26-a1e4-4be1-83a5-8ae20e29d4a7",
   "metadata": {},
   "outputs": [
    {
     "name": "stdout",
     "output_type": "stream",
     "text": [
      "Number of alphabets in the string: 23\n",
      "Extracted substring (from index 3 to 10): 'come to'\n",
      "Is the string alphanumeric? False\n"
     ]
    }
   ],
   "source": [
    "# Input string\n",
    "input_string = \"welcome to the python world\"\n",
    "\n",
    "# 1. Count the number of alphabets in the string\n",
    "alphabet_count = sum(c.isalpha() for c in input_string)\n",
    "print(\"Number of alphabets in the string:\", alphabet_count)\n",
    "\n",
    "# 2. Extract characters from a given range in the string\n",
    "# Define the range (for example, from index 3 to 10)\n",
    "start_index = 3\n",
    "end_index = 10\n",
    "extracted_substring = input_string[start_index:end_index]\n",
    "print(f\"Extracted substring (from index {start_index} to {end_index}): '{extracted_substring}'\")\n",
    "\n",
    "# 3. Check if the string is alphanumeric\n",
    "is_alphanumeric = input_string.isalnum()\n",
    "print(\"Is the string alphanumeric?\", is_alphanumeric)"
   ]
  },
  {
   "cell_type": "code",
   "execution_count": null,
   "id": "474177c2-284e-446a-9725-a797d4d9b731",
   "metadata": {},
   "outputs": [],
   "source": []
  }
 ],
 "metadata": {
  "kernelspec": {
   "display_name": "Python 3 (ipykernel)",
   "language": "python",
   "name": "python3"
  },
  "language_info": {
   "codemirror_mode": {
    "name": "ipython",
    "version": 3
   },
   "file_extension": ".py",
   "mimetype": "text/x-python",
   "name": "python",
   "nbconvert_exporter": "python",
   "pygments_lexer": "ipython3",
   "version": "3.12.4"
  }
 },
 "nbformat": 4,
 "nbformat_minor": 5
}
