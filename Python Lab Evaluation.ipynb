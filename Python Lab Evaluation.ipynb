{
 "cells": [
  {
   "cell_type": "markdown",
   "id": "97ffeb0d-de32-46e5-a5ee-6deb1dabf3ff",
   "metadata": {},
   "source": [
    "a) Write a program to demostrate type checking of various data types and demonstrate the use of following built in function in python: abs(), len(), min(), round(), isalnum(), type()."
   ]
  },
  {
   "cell_type": "code",
   "execution_count": 9,
   "id": "a788916f-897c-49f1-9cfe-6b01cf18f5fe",
   "metadata": {},
   "outputs": [
    {
     "name": "stdout",
     "output_type": "stream",
     "text": [
      "Type of integer value: <class 'int'>\n",
      "Type of float value: <class 'float'>\n",
      "Type of string value: <class 'str'>\n",
      "Type of list value: <class 'list'>\n",
      "Type of dictionary value: <class 'dict'>\n",
      "Absolute value of negative number: 42\n",
      "Length of string value: 5\n",
      "Length of list value: 5\n",
      "Minimum value in list: 1\n",
      "Rounded value of float value: 10\n",
      "Is string value alphanumeric? True\n"
     ]
    }
   ],
   "source": [
    "integer_value=10\n",
    "float_value=10.5\n",
    "string_value=\"Hello\"\n",
    "list_value=[1,2,3,4,5]\n",
    "dict_value={'first_name':'Adheesh','last_name':'Chopra'}\n",
    "\n",
    "print(\"Type of integer value:\",type(integer_value))\n",
    "print(\"Type of float value:\",type(float_value))\n",
    "print(\"Type of string value:\",type(string_value))\n",
    "print(\"Type of list value:\",type(list_value))\n",
    "print(\"Type of dictionary value:\",type(dict_value))\n",
    "\n",
    "negative_number=-42\n",
    "print(\"Absolute value of negative number:\", abs(negative_number))\n",
    "print(\"Length of string value:\", len(string_value))\n",
    "print(\"Length of list value:\", len(list_value))\n",
    "print(\"Minimum value in list:\", min(list_value))\n",
    "print(\"Rounded value of float value:\", round(float_value))\n",
    "print(\"Is string value alphanumeric?\", string_value.isalnum())"
   ]
  },
  {
   "cell_type": "markdown",
   "id": "5350691e-1ab7-4533-8996-f57c02e2a818",
   "metadata": {},
   "source": [
    "b) Write a program to print all perfect square and perfect cube within the range of 1 to 200"
   ]
  },
  {
   "cell_type": "code",
   "execution_count": 10,
   "id": "62396b66-18f9-482b-bda8-3022105a3790",
   "metadata": {},
   "outputs": [
    {
     "name": "stdout",
     "output_type": "stream",
     "text": [
      "Perfect squares in the range 1 to 200:\n",
      "[1, 4, 9, 16, 25, 36, 49, 64, 81, 100, 121, 144, 169, 196]\n",
      "\n",
      "Perfect cubes in the range 1 to 200:\n",
      "[1, 8, 27]\n"
     ]
    }
   ],
   "source": [
    "def find_perfect_squares_and_cubes(start, end):\n",
    "    perfect_squares = []\n",
    "    perfect_cubes = []\n",
    "    for num in range(start, end + 1):\n",
    "        if int(num**0.5)**2 == num:\n",
    "            perfect_squares.append(num)\n",
    "        if int(num**(1/3))**3 == num:\n",
    "            perfect_cubes.append(num)\n",
    "    return perfect_squares, perfect_cubes\n",
    "start = 1\n",
    "end = 200\n",
    "squares, cubes = find_perfect_squares_and_cubes(start, end)\n",
    "print(f\"Perfect squares in the range {start} to {end}:\")\n",
    "print(squares)\n",
    "print(f\"\\nPerfect cubes in the range {start} to {end}:\")\n",
    "print(cubes)"
   ]
  }
 ],
 "metadata": {
  "kernelspec": {
   "display_name": "Python 3 (ipykernel)",
   "language": "python",
   "name": "python3"
  },
  "language_info": {
   "codemirror_mode": {
    "name": "ipython",
    "version": 3
   },
   "file_extension": ".py",
   "mimetype": "text/x-python",
   "name": "python",
   "nbconvert_exporter": "python",
   "pygments_lexer": "ipython3",
   "version": "3.12.4"
  }
 },
 "nbformat": 4,
 "nbformat_minor": 5
}
