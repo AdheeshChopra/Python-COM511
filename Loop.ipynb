{
 "cells": [
  {
   "cell_type": "code",
   "execution_count": 2,
   "id": "4d5fff38-e794-4623-b23d-86de8ee3e49d",
   "metadata": {},
   "outputs": [
    {
     "name": "stdout",
     "output_type": "stream",
     "text": [
      "9\n"
     ]
    }
   ],
   "source": [
    "# print the 2nd highest element from the list\n",
    "k=[1,4,7,8,9,5,4,6,3,2,5,3,10]\n",
    "index=-2\n",
    "k.sort()\n",
    "for i in k:\n",
    "    if k[index]==max(k):\n",
    "        index-=1\n",
    "print(k[index])"
   ]
  },
  {
   "cell_type": "code",
   "execution_count": 4,
   "id": "66c06713-e011-4598-b865-b3100b5e6269",
   "metadata": {},
   "outputs": [
    {
     "name": "stdout",
     "output_type": "stream",
     "text": [
      "4\n",
      "9\n",
      "16\n",
      "25\n",
      "36\n"
     ]
    }
   ],
   "source": [
    "# print those elements which are perfect square\n",
    "j=[4,9,16,25,36,7,8,10,11,12,13,14]\n",
    "for i in j:\n",
    "    if i**(1/2)==int(i**(1/2)):\n",
    "        print(i)"
   ]
  },
  {
   "cell_type": "code",
   "execution_count": 8,
   "id": "f01a7f36-2e7a-4dbe-924f-529e7798eb80",
   "metadata": {},
   "outputs": [
    {
     "name": "stdout",
     "output_type": "stream",
     "text": [
      "7\n",
      "7\n",
      "11\n",
      "11\n"
     ]
    }
   ],
   "source": [
    "# print duplicate elements from the list\n",
    "g=[1,2,3,4,5,6,7,7,11,11]\n",
    "g.count(i)\n",
    "for i in g:\n",
    "    if g.count(i)>1:\n",
    "        print(i)"
   ]
  },
  {
   "cell_type": "code",
   "execution_count": 9,
   "id": "dd3384c9-880f-4769-b655-b62eb8251559",
   "metadata": {},
   "outputs": [],
   "source": [
    "s=\"hello everyone i am teaching python in A2 where number of students are more than 50\""
   ]
  },
  {
   "cell_type": "code",
   "execution_count": 10,
   "id": "58c9a406-cb25-4f89-8fc7-d52c72b064fb",
   "metadata": {},
   "outputs": [
    {
     "name": "stdout",
     "output_type": "stream",
     "text": [
      "['hello', 'everyone', 'i', 'am', 'teaching', 'python', 'in', 'A2', 'where', 'number', 'of', 'students', 'are', 'more', 'than', '50']\n"
     ]
    }
   ],
   "source": [
    "print(s.split())"
   ]
  },
  {
   "cell_type": "code",
   "execution_count": 11,
   "id": "bb3c11d8-8aaa-4f5a-89b9-3f48f7470c57",
   "metadata": {},
   "outputs": [
    {
     "data": {
      "text/plain": [
       "list"
      ]
     },
     "execution_count": 11,
     "metadata": {},
     "output_type": "execute_result"
    }
   ],
   "source": [
    "type(s.split())"
   ]
  },
  {
   "cell_type": "code",
   "execution_count": 12,
   "id": "6dd94542-abe6-4f73-8201-7b3905b2a284",
   "metadata": {},
   "outputs": [
    {
     "name": "stdout",
     "output_type": "stream",
     "text": [
      "hello\n",
      "everyone\n",
      "i\n",
      "am\n",
      "teaching\n",
      "python\n",
      "in\n",
      "A2\n",
      "where\n",
      "number\n",
      "of\n",
      "students\n",
      "are\n",
      "more\n",
      "than\n",
      "50\n"
     ]
    }
   ],
   "source": [
    "for i in s.split():\n",
    "    print(i)"
   ]
  },
  {
   "cell_type": "code",
   "execution_count": 14,
   "id": "4d49b25d-b73e-4996-b1b9-049fd9256e99",
   "metadata": {},
   "outputs": [],
   "source": [
    "# count the number of spaces\n",
    "# print those words where letter is more than equals to 3\n",
    "# print the 1st letter of each word\n",
    "# convert all small letters into uppercase"
   ]
  },
  {
   "cell_type": "code",
   "execution_count": 15,
   "id": "0202f81e-c8bc-4ac7-9059-da0c744dfe2c",
   "metadata": {},
   "outputs": [
    {
     "data": {
      "text/plain": [
       "15"
      ]
     },
     "execution_count": 15,
     "metadata": {},
     "output_type": "execute_result"
    }
   ],
   "source": [
    "s.count(\" \")"
   ]
  },
  {
   "cell_type": "code",
   "execution_count": 16,
   "id": "dac780c6-5e8c-4e75-939b-2b83dd449d3d",
   "metadata": {},
   "outputs": [
    {
     "name": "stdout",
     "output_type": "stream",
     "text": [
      "hello\n",
      "everyone\n",
      "i\n",
      "am\n",
      "teaching\n",
      "python\n",
      "in\n",
      "A2\n",
      "where\n",
      "number\n",
      "of\n",
      "students\n",
      "are\n",
      "more\n",
      "than\n",
      "50\n"
     ]
    }
   ],
   "source": [
    "for i in s.split():\n",
    "    if len(i)>=1:\n",
    "        print(i)"
   ]
  },
  {
   "cell_type": "code",
   "execution_count": 17,
   "id": "44b7e6ad-9f25-4599-9de7-95a8b3179b69",
   "metadata": {},
   "outputs": [
    {
     "name": "stdout",
     "output_type": "stream",
     "text": [
      "h\n",
      "e\n",
      "i\n",
      "a\n",
      "t\n",
      "p\n",
      "i\n",
      "A\n",
      "w\n",
      "n\n",
      "o\n",
      "s\n",
      "a\n",
      "m\n",
      "t\n",
      "5\n"
     ]
    }
   ],
   "source": [
    "for i in s.split():\n",
    "    print(i[0])"
   ]
  },
  {
   "cell_type": "code",
   "execution_count": 18,
   "id": "c21b50c1-2236-4ea3-a280-403ac5394f85",
   "metadata": {},
   "outputs": [
    {
     "data": {
      "text/plain": [
       "'HELLO EVERYONE I AM TEACHING PYTHON IN A2 WHERE NUMBER OF STUDENTS ARE MORE THAN 50'"
      ]
     },
     "execution_count": 18,
     "metadata": {},
     "output_type": "execute_result"
    }
   ],
   "source": [
    "s.upper()"
   ]
  },
  {
   "cell_type": "code",
   "execution_count": null,
   "id": "a24f334a-6e33-4134-9a95-7c64535bef9f",
   "metadata": {},
   "outputs": [],
   "source": []
  }
 ],
 "metadata": {
  "kernelspec": {
   "display_name": "Python 3 (ipykernel)",
   "language": "python",
   "name": "python3"
  },
  "language_info": {
   "codemirror_mode": {
    "name": "ipython",
    "version": 3
   },
   "file_extension": ".py",
   "mimetype": "text/x-python",
   "name": "python",
   "nbconvert_exporter": "python",
   "pygments_lexer": "ipython3",
   "version": "3.12.4"
  }
 },
 "nbformat": 4,
 "nbformat_minor": 5
}
