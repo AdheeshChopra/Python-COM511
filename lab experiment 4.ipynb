{
 "cells": [
  {
   "cell_type": "code",
   "execution_count": 1,
   "id": "52b12118-065f-4cfc-a7f0-2d1178170a0c",
   "metadata": {},
   "outputs": [
    {
     "name": "stdout",
     "output_type": "stream",
     "text": [
      "Linear Search:\n",
      "Element found at index 8\n",
      "\n",
      "Binary Search:\n",
      "Element found at index 8\n"
     ]
    }
   ],
   "source": [
    "def linear_search(arr, target):\n",
    "    for i in range(len(arr)):\n",
    "        if arr[i] == target:\n",
    "            return i\n",
    "    return -1\n",
    "    \n",
    "def binary_search(arr, target):\n",
    "    low = 0\n",
    "    high = len(arr) - 1\n",
    "    while low <= high:\n",
    "        mid = (low + high) // 2\n",
    "        if arr[mid] == target:\n",
    "            return mid\n",
    "        elif arr[mid] > target:\n",
    "            high = mid - 1\n",
    "        else:\n",
    "            low = mid + 1\n",
    "    return -1\n",
    "    \n",
    "arr = [3, 6, 8, 12, 14, 17, 25, 29, 31, 36, 42, 47, 53, 55, 62]\n",
    "target = 31\n",
    "\n",
    "print(\"Linear Search:\")\n",
    "linear_result = linear_search(arr, target)\n",
    "if linear_result != -1:\n",
    "    print(f\"Element found at index {linear_result}\")\n",
    "else:\n",
    "    print(\"Element not found\")\n",
    "\n",
    "print(\"\\nBinary Search:\")\n",
    "binary_result = binary_search(arr, target)\n",
    "if binary_result != -1:\n",
    "    print(f\"Element found at index {binary_result}\")\n",
    "else:\n",
    "    print(\"Element not found\")"
   ]
  },
  {
   "cell_type": "code",
   "execution_count": null,
   "id": "06395a58-13a4-43d9-8a8d-6e37884e2a90",
   "metadata": {},
   "outputs": [],
   "source": []
  }
 ],
 "metadata": {
  "kernelspec": {
   "display_name": "Python 3 (ipykernel)",
   "language": "python",
   "name": "python3"
  },
  "language_info": {
   "codemirror_mode": {
    "name": "ipython",
    "version": 3
   },
   "file_extension": ".py",
   "mimetype": "text/x-python",
   "name": "python",
   "nbconvert_exporter": "python",
   "pygments_lexer": "ipython3",
   "version": "3.12.4"
  }
 },
 "nbformat": 4,
 "nbformat_minor": 5
}
