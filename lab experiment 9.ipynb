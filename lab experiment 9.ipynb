{
 "cells": [
  {
   "cell_type": "code",
   "execution_count": 1,
   "id": "053a04b7-c062-4037-881c-34e4422e5ddb",
   "metadata": {},
   "outputs": [],
   "source": [
    "class Employee:\n",
    "    def set_employee_details(self, employee_id, name, department, position, salary):\n",
    "        self.employee_id = employee_id\n",
    "        self.name = name\n",
    "        self.department = department\n",
    "        self.position = position\n",
    "        self.salary = salary\n",
    "\n",
    "    def display_employee_details(self):\n",
    "        print(f\"Employee ID: {self.employee_id}\")\n",
    "        print(f\"Name: {self.name}\")\n",
    "        print(f\"Department: {self.department}\")\n",
    "        print(f\"Position: {self.position}\")\n",
    "        print(f\"Salary: ${self.salary}\")"
   ]
  },
  {
   "cell_type": "code",
   "execution_count": 2,
   "id": "0f884596-99c5-4086-bd6c-490f56f2687f",
   "metadata": {},
   "outputs": [],
   "source": [
    "class FullTimeEmployee(Employee):\n",
    "    def set_benefits(self, health_insurance, vacation_days):\n",
    "        self.health_insurance = health_insurance\n",
    "        self.vacation_days = vacation_days\n",
    "\n",
    "    def display_benefits(self):\n",
    "        print(f\"Health Insurance: {self.health_insurance}\")\n",
    "        print(f\"Vacation Days: {self.vacation_days}\")"
   ]
  },
  {
   "cell_type": "code",
   "execution_count": 3,
   "id": "05fb213e-cf86-4e5d-b950-3f49ec320e3d",
   "metadata": {},
   "outputs": [],
   "source": [
    "class PartTimeEmployee(Employee):\n",
    "    def set_hourly_rate(self, hourly_rate):\n",
    "        self.hourly_rate = hourly_rate\n",
    "\n",
    "    def display_hourly_rate(self):\n",
    "        print(f\"Hourly Rate: ${self.hourly_rate}\")"
   ]
  },
  {
   "cell_type": "code",
   "execution_count": 4,
   "id": "31638860-302e-4db3-9cb5-532483eb1c87",
   "metadata": {},
   "outputs": [
    {
     "name": "stdout",
     "output_type": "stream",
     "text": [
      "\n",
      "Full-Time Employee Details:\n",
      "Employee ID: 1\n",
      "Name: John Doe\n",
      "Department: IT\n",
      "Position: Developer\n",
      "Salary: $75000\n",
      "Health Insurance: Yes\n",
      "Vacation Days: 20\n",
      "\n",
      "Part-Time Employee Details:\n",
      "Employee ID: 2\n",
      "Name: Jane Smith\n",
      "Department: HR\n",
      "Position: Recruiter\n",
      "Salary: $0\n",
      "Hourly Rate: $25\n"
     ]
    }
   ],
   "source": [
    "if __name__ == \"__main__\":\n",
    "    full_time_emp = FullTimeEmployee()\n",
    "    full_time_emp.set_employee_details(1, \"John Doe\", \"IT\", \"Developer\", 75000)\n",
    "    full_time_emp.set_benefits(\"Yes\", 20)\n",
    "    \n",
    "    print(\"\\nFull-Time Employee Details:\")\n",
    "    full_time_emp.display_employee_details()\n",
    "    full_time_emp.display_benefits()\n",
    "    \n",
    "    part_time_emp = PartTimeEmployee()\n",
    "    part_time_emp.set_employee_details(2, \"Jane Smith\", \"HR\", \"Recruiter\", 0)  # Salary not applicable\n",
    "    part_time_emp.set_hourly_rate(25)\n",
    "\n",
    "    print(\"\\nPart-Time Employee Details:\")\n",
    "    part_time_emp.display_employee_details()\n",
    "    part_time_emp.display_hourly_rate()"
   ]
  },
  {
   "cell_type": "code",
   "execution_count": 10,
   "id": "c1404142-9eec-43df-9471-e0669b4a3bf0",
   "metadata": {},
   "outputs": [],
   "source": [
    "class Database:\n",
    "    def row(self,id, name, age, salary):\n",
    "        self.data=[]\n",
    "        return self.data.append((id,name,age,salary))\n",
    "    def display_rows(self):\n",
    "        print(\"ID  |Name  |Age  |Salary\")\n",
    "        print(\"-------------------------\")\n",
    "        for i in self.data:\n",
    "            print(f\"{i[0]:<3} | {i[1]:<10} | {i[2]:<3} | {i[3]}\")\n",
    "    def add_row(self,id, name, age,salary):\n",
    "        self.data.append((id,name,age,salary))\n",
    "    def delete_row(self,id):\n",
    "        self.data.pop(id-1)"
   ]
  },
  {
   "cell_type": "code",
   "execution_count": 11,
   "id": "460ac47c-9f08-402c-8cb2-171379d41c49",
   "metadata": {},
   "outputs": [],
   "source": [
    "d=Database()"
   ]
  },
  {
   "cell_type": "code",
   "execution_count": 12,
   "id": "4ff91865-1f52-430f-9884-9b30c6d5fd9d",
   "metadata": {},
   "outputs": [],
   "source": [
    "d.row(1,\"a\",29,48000)"
   ]
  },
  {
   "cell_type": "code",
   "execution_count": 13,
   "id": "1fe39e40-d3ff-495a-a01b-cf353d8c0497",
   "metadata": {},
   "outputs": [
    {
     "name": "stdout",
     "output_type": "stream",
     "text": [
      "ID  |Name  |Age  |Salary\n",
      "-------------------------\n",
      "1   | a          | 29  | 48000\n"
     ]
    }
   ],
   "source": [
    "d.display_rows()"
   ]
  },
  {
   "cell_type": "code",
   "execution_count": 14,
   "id": "c1accf6e-c842-4753-ac51-149b3cb462e2",
   "metadata": {},
   "outputs": [],
   "source": [
    "d.add_row(2,\"aman\",30,75000)"
   ]
  },
  {
   "cell_type": "code",
   "execution_count": 15,
   "id": "d8a6f6fa-26b2-442f-9061-a7a979d83598",
   "metadata": {},
   "outputs": [
    {
     "name": "stdout",
     "output_type": "stream",
     "text": [
      "ID  |Name  |Age  |Salary\n",
      "-------------------------\n",
      "1   | a          | 29  | 48000\n",
      "2   | aman       | 30  | 75000\n"
     ]
    }
   ],
   "source": [
    "d.display_rows()"
   ]
  },
  {
   "cell_type": "code",
   "execution_count": 16,
   "id": "6c34aa07-d8e3-4419-a507-c1ef3e7a6f23",
   "metadata": {},
   "outputs": [],
   "source": [
    "d.delete_row(1)"
   ]
  },
  {
   "cell_type": "code",
   "execution_count": 17,
   "id": "6ea3b1cb-ba01-4ffa-a206-218603097d90",
   "metadata": {},
   "outputs": [
    {
     "name": "stdout",
     "output_type": "stream",
     "text": [
      "ID  |Name  |Age  |Salary\n",
      "-------------------------\n",
      "2   | aman       | 30  | 75000\n"
     ]
    }
   ],
   "source": [
    "d.display_rows()"
   ]
  },
  {
   "cell_type": "code",
   "execution_count": null,
   "id": "df66e723-d9a0-466e-8f67-d7bd0d400019",
   "metadata": {},
   "outputs": [],
   "source": []
  }
 ],
 "metadata": {
  "kernelspec": {
   "display_name": "Python 3 (ipykernel)",
   "language": "python",
   "name": "python3"
  },
  "language_info": {
   "codemirror_mode": {
    "name": "ipython",
    "version": 3
   },
   "file_extension": ".py",
   "mimetype": "text/x-python",
   "name": "python",
   "nbconvert_exporter": "python",
   "pygments_lexer": "ipython3",
   "version": "3.12.4"
  }
 },
 "nbformat": 4,
 "nbformat_minor": 5
}
