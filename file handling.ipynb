{
 "cells": [
  {
   "cell_type": "code",
   "execution_count": 1,
   "id": "3ceb6a89-2dc9-4685-a6aa-f1770fffc05f",
   "metadata": {},
   "outputs": [],
   "source": [
    "file = open(\"new_file.text\",\"w\")\n",
    "\n",
    "file.write(\"This is the file handling \\n\")\n",
    "\n",
    "file.close()"
   ]
  },
  {
   "cell_type": "code",
   "execution_count": 2,
   "id": "183955e2-1815-4f18-a76b-cd727d393e18",
   "metadata": {},
   "outputs": [
    {
     "name": "stdout",
     "output_type": "stream",
     "text": [
      "This is the file handling \n",
      "\n"
     ]
    }
   ],
   "source": [
    "file = open(\"new_file.text\",\"r\")\n",
    "\n",
    "print(file.read())\n",
    "\n",
    "file.close()"
   ]
  },
  {
   "cell_type": "code",
   "execution_count": 3,
   "id": "55aa6af3-4c23-4a8e-a68b-b8adcfc3ec04",
   "metadata": {},
   "outputs": [],
   "source": [
    "# to add line in the file\n",
    "\n",
    "# use mode =\"a\" append\n",
    "\n",
    "file = open(\"new file.txt\",\"a\")\n",
    "\n",
    "file.write(\"this is the new data\\n\")\n",
    "\n",
    "file.write(\"this is the line seprater at the end of setence\\n\")\n",
    "\n",
    "file.close()"
   ]
  },
  {
   "cell_type": "code",
   "execution_count": 4,
   "id": "c5e0bcc2-9ce9-4935-bc9e-17ceb2aa346c",
   "metadata": {},
   "outputs": [
    {
     "name": "stdout",
     "output_type": "stream",
     "text": [
      "this is the new data\n",
      "this is the line seprater at the end of setence\n",
      "\n"
     ]
    }
   ],
   "source": [
    "file = open(\"new file.txt\",\"r\")\n",
    "\n",
    "print(file.read())\n",
    "\n",
    "file.close()"
   ]
  },
  {
   "cell_type": "code",
   "execution_count": 5,
   "id": "61e50179-63da-4abb-94a1-847799e6dd35",
   "metadata": {},
   "outputs": [
    {
     "name": "stdout",
     "output_type": "stream",
     "text": [
      "this is the new data\n",
      "\n",
      "this is the line seprater at the end of setence\n",
      "\n",
      "\n",
      "\n"
     ]
    }
   ],
   "source": [
    "# return first line of the file\n",
    "\n",
    "file = open(\"new file.txt\",\"r\")\n",
    "\n",
    "print(file.readline())\n",
    "\n",
    "print(file.readline())\n",
    "\n",
    "print(file.readline())\n",
    "\n",
    "print(file.readline())\n",
    "\n",
    "file.close()"
   ]
  },
  {
   "cell_type": "code",
   "execution_count": 6,
   "id": "ddf89934-965f-42f0-b1a6-28194787697a",
   "metadata": {},
   "outputs": [
    {
     "name": "stdout",
     "output_type": "stream",
     "text": [
      "['this is the new data\\n', 'this is the line seprater at the end of setence\\n']\n"
     ]
    }
   ],
   "source": [
    "#print nth line of the file\n",
    "\n",
    "file = open(\"new file.txt\",\"r\")\n",
    "\n",
    "print(file.readlines())\n",
    "\n",
    "file.close()"
   ]
  },
  {
   "cell_type": "code",
   "execution_count": 7,
   "id": "f4b24085-c595-431c-b541-32617832f729",
   "metadata": {},
   "outputs": [],
   "source": [
    "file = open(\"new file.txt\",\"a\")\n",
    "\n",
    "file.write(\"this is the new data\\n\")\n",
    "\n",
    "file.write(\"this is the line seprater at the end of setence\\n\")\n",
    "\n",
    "file.close()"
   ]
  },
  {
   "cell_type": "code",
   "execution_count": 9,
   "id": "0b730aaf-1a20-4c0e-bbfd-89a77a4b4c87",
   "metadata": {},
   "outputs": [
    {
     "name": "stdout",
     "output_type": "stream",
     "text": [
      "this is the new data\n",
      "this is the line seprater at the end of setence\n",
      "this is the new data\n",
      "this is the line seprater at the end of setence\n",
      "\n"
     ]
    }
   ],
   "source": [
    "file = open(\"new file.txt\",\"r\")\n",
    "print(file.read())\n",
    "file.close()"
   ]
  },
  {
   "cell_type": "code",
   "execution_count": 13,
   "id": "e381220d-9fd2-4200-aafd-ee20d7534da8",
   "metadata": {},
   "outputs": [],
   "source": [
    "f=open(\"tt\",\"w\")\n",
    "f.writelines(\"this is\"\"now\")\n",
    "f.close()"
   ]
  },
  {
   "cell_type": "code",
   "execution_count": 14,
   "id": "c1c8b2a3-33e5-410f-95e8-6b1685050ce8",
   "metadata": {},
   "outputs": [
    {
     "name": "stdout",
     "output_type": "stream",
     "text": [
      "this is the new data\n",
      "this is the line seprater at the end of setence\n",
      "this is the new data\n",
      "this is the line seprater at the end of setence\n",
      "this is the new data\n",
      "this is the line seprater at the end of setence\n",
      "\n"
     ]
    }
   ],
   "source": [
    "file = open(\"new file.txt\",\"r\")\n",
    "\n",
    "print(file.read())\n",
    "\n",
    "file.close()"
   ]
  },
  {
   "cell_type": "code",
   "execution_count": 15,
   "id": "639a54c2-23f2-4683-8bbf-b0b927f3544c",
   "metadata": {},
   "outputs": [
    {
     "name": "stdout",
     "output_type": "stream",
     "text": [
      "this is the new data\n",
      "\n",
      "this is the new data\n",
      "\n"
     ]
    }
   ],
   "source": [
    "file = open(\"new file.txt\", \"r\")\n",
    "\n",
    "lines = file.readlines() \n",
    "\n",
    "print(lines[4])      \n",
    "\n",
    "print(lines[2])    \n",
    "\n",
    "file.close()"
   ]
  },
  {
   "cell_type": "code",
   "execution_count": 17,
   "id": "e4f09158-9752-4433-9d2e-d707084a7d3b",
   "metadata": {},
   "outputs": [
    {
     "name": "stdout",
     "output_type": "stream",
     "text": [
      "this is the line seprater at the end of setence\n",
      "\n",
      "this is the line seprater at the end of setence\n",
      "\n"
     ]
    }
   ],
   "source": [
    "file = open(\"new file.txt\",\"r\")\n",
    "\n",
    "l1= file.readlines()\n",
    "\n",
    "print(l1[5])\n",
    "\n",
    "print(l1[1])\n",
    "\n",
    "file.close()"
   ]
  },
  {
   "cell_type": "code",
   "execution_count": 1,
   "id": "70fb7e4c-ef5b-4bfd-80c8-d525fe69a2d9",
   "metadata": {},
   "outputs": [],
   "source": [
    "with open(\"a2\",\"w\") as file: #using (file) as variable\n",
    "\n",
    "  file.write(\"today's data is 3 Dec 2024\\n\")\n",
    "\n",
    "  file.write(\"and we are using 2nd method of file handling\\n\")\n",
    "\n",
    "file.close()"
   ]
  },
  {
   "cell_type": "code",
   "execution_count": 2,
   "id": "4c1b5ca9-2d32-47df-9dbb-1309af1ed36d",
   "metadata": {},
   "outputs": [
    {
     "name": "stdout",
     "output_type": "stream",
     "text": [
      "today's data is 3 Dec 2024\n",
      "and we are using 2nd method of file handling\n",
      "\n"
     ]
    }
   ],
   "source": [
    "with open(\"a2\" , \"r\") as file: #using (file) as variable\n",
    "\n",
    "  print(file.read())\n",
    "\n",
    "file.close()"
   ]
  },
  {
   "cell_type": "code",
   "execution_count": 6,
   "id": "1ef1866d-6b82-4cca-858b-72ba48bf4e06",
   "metadata": {},
   "outputs": [
    {
     "name": "stdout",
     "output_type": "stream",
     "text": [
      "today's data is 3 Dec 2024\n",
      "\n",
      "and we are using 2nd method of file handling\n",
      "\n"
     ]
    }
   ],
   "source": [
    "with open(\"a2\" , \"r\") as file: #using (file) as variable\n",
    "\n",
    "  f = file.readlines()\n",
    "\n",
    "  for i in f:\n",
    "\n",
    "    print(i)\n",
    "\n",
    "file.close()"
   ]
  },
  {
   "cell_type": "code",
   "execution_count": 7,
   "id": "2b3f8579-0ea0-4cdf-8111-7263d40f6cfb",
   "metadata": {},
   "outputs": [],
   "source": [
    "with open(\"a2\", \"w\") as file:  \n",
    "\n",
    "  file.write(\"today is 3 dec\\n\")\n",
    "\n",
    "  file.write(\"this is 2nd method\\n\")"
   ]
  },
  {
   "cell_type": "code",
   "execution_count": 8,
   "id": "10778fe9-efca-4569-8723-57959c766769",
   "metadata": {},
   "outputs": [
    {
     "name": "stdout",
     "output_type": "stream",
     "text": [
      "today is 3 dec\n",
      "this is 2nd method\n",
      "\n"
     ]
    }
   ],
   "source": [
    "with open(\"a2\", \"r\") as file: \n",
    "\n",
    "  print(file.read())  "
   ]
  },
  {
   "cell_type": "code",
   "execution_count": 9,
   "id": "2742029f-4874-476f-8dd4-d8a924745f4c",
   "metadata": {},
   "outputs": [
    {
     "name": "stdout",
     "output_type": "stream",
     "text": [
      "today\n",
      "is\n",
      "3\n",
      "dec\n",
      "this\n",
      "is\n",
      "2nd\n",
      "method\n"
     ]
    }
   ],
   "source": [
    "with open(\"a2\", \"r\") as file:\n",
    "\n",
    "  for line in file: \n",
    "\n",
    "    words = line.split()  \n",
    "\n",
    "    for word in words: \n",
    "\n",
    "      print(word)"
   ]
  },
  {
   "cell_type": "code",
   "execution_count": 10,
   "id": "a4867e5e-9ac8-41b2-8ab8-c4de4a3381fa",
   "metadata": {},
   "outputs": [],
   "source": [
    "old_word = \"sample\"  \n",
    "\n",
    "new_word = \"example\" "
   ]
  },
  {
   "cell_type": "code",
   "execution_count": 11,
   "id": "8c3a0005-7efe-4225-bf4e-04afe76fddab",
   "metadata": {},
   "outputs": [],
   "source": [
    "with open(\"a2\", \"r\") as file:\n",
    "\n",
    "  lines = []  \n",
    "\n",
    "  for line in file: \n",
    "\n",
    "    words = line.split()  \n",
    "\n",
    "    modified_line = \" \".join([new_word if word == old_word else word for word in words])\n",
    "\n",
    "    lines.append(modified_line)"
   ]
  },
  {
   "cell_type": "code",
   "execution_count": 12,
   "id": "fd63ca43-64d1-47a6-a0e9-5df7cf32b694",
   "metadata": {},
   "outputs": [],
   "source": [
    "with open(\"a2\", \"w\") as file:\n",
    "\n",
    "  for line in lines:\n",
    "\n",
    "    file.write(line + \"\\n\")"
   ]
  },
  {
   "cell_type": "code",
   "execution_count": 13,
   "id": "a12b6857-fed3-45e6-80c3-be88bb7fa977",
   "metadata": {},
   "outputs": [
    {
     "name": "stdout",
     "output_type": "stream",
     "text": [
      "Replaced 'sample' with 'example' in the file.\n"
     ]
    }
   ],
   "source": [
    "print(f\"Replaced '{old_word}' with '{new_word}' in the file.\")"
   ]
  },
  {
   "cell_type": "code",
   "execution_count": 14,
   "id": "06985787-4c84-4026-86a7-659f8fb1e4af",
   "metadata": {},
   "outputs": [],
   "source": [
    "import csv"
   ]
  },
  {
   "cell_type": "code",
   "execution_count": null,
   "id": "0808641d-efa3-4203-bef4-211495f9cef9",
   "metadata": {},
   "outputs": [],
   "source": [
    "file = open(\"file.csv\", \"r\")\n",
    "\n",
    "f = csv.reader(file, delimiter=\",\")\n",
    "\n",
    "l = list(f)\n",
    "\n",
    "\n",
    "\n",
    "# Loop through the rows\n",
    "\n",
    "for i in l:\n",
    "\n",
    "  q = int(i[1]) * int(i[2]) # Calculate product of column 2 and 3\n",
    "\n",
    "  i.append(str(q)) # Append the result to the row\n",
    "\n",
    "   \n",
    "\n",
    "  # Print 2nd, 3rd, and 4th columns (indexed as 1, 2, and 3)\n",
    "\n",
    "  print(i[1], i[2], i[3])  \n",
    "\n",
    "\n",
    "\n",
    "# Close the file\n",
    "\n",
    "file.close()"
   ]
  },
  {
   "cell_type": "code",
   "execution_count": 15,
   "id": "bc886757-5427-4e8d-9e6e-f91a88e88524",
   "metadata": {},
   "outputs": [
    {
     "name": "stdout",
     "output_type": "stream",
     "text": [
      "25000 5 125000\n",
      "48000 5 240000\n",
      "70000 2 140000\n",
      "82000 5 410000\n",
      "73000 10 730000\n",
      "99000 2 198000\n",
      "73000 10 730000\n",
      "99000 2 198000\n"
     ]
    }
   ],
   "source": [
    "file = open(\"file.csv\",\"r\")\n",
    "\n",
    "f = csv.reader(file,delimiter=\",\")\n",
    "\n",
    "l = list(f)\n",
    "\n",
    "for i in l:\n",
    "\n",
    "  q = int(i[1])*int(i[2])\n",
    "\n",
    "  i.append(str(q))\n",
    "\n",
    "  print(i[1],i[2],i[3])\n",
    "\n",
    "file.close()"
   ]
  },
  {
   "cell_type": "code",
   "execution_count": 1,
   "id": "7b6d75d6-a859-4369-acf9-c9b1a4a91322",
   "metadata": {},
   "outputs": [
    {
     "name": "stdout",
     "output_type": "stream",
     "text": [
      "1, 25000, 5\n",
      "2, 48000, 5\n",
      "3, 70000, 2\n",
      "4, 82000, 5\n",
      "5, 73000, 10\n",
      "6, 99000, 2\n"
     ]
    }
   ],
   "source": [
    "import csv\n",
    "file = open(\"file.csv\", \"r\")\n",
    "f = csv.reader(file, delimiter=',')\n",
    "l = list(f)\n",
    "for i in l:\n",
    "  print(\", \".join(i))\n",
    "file.close()"
   ]
  },
  {
   "cell_type": "code",
   "execution_count": 5,
   "id": "c27536bb-1902-4f94-ab5f-2b852442721c",
   "metadata": {},
   "outputs": [
    {
     "name": "stdout",
     "output_type": "stream",
     "text": [
      "1, 25000, 5\n",
      "2, 48000, 5\n",
      "3, 70000, 2\n",
      "4, 82000, 5\n",
      "5, 73000, 10\n",
      "6, 99000, 2\n"
     ]
    }
   ],
   "source": [
    "import csv\n",
    "file = open(\"file.csv\", \"r\")\n",
    "f = csv.reader(file, delimiter=',')\n",
    "l = list(f)\n",
    "for i in l:\n",
    " print(\", \".join(i))\n",
    "file.close()"
   ]
  },
  {
   "cell_type": "markdown",
   "id": "e66d4b49-739d-4596-b705-ce776fc6627f",
   "metadata": {},
   "source": [
    "**Exception Handling**"
   ]
  },
  {
   "cell_type": "code",
   "execution_count": 10,
   "id": "c7afd9d8-cc73-479f-ae15-c0221ef7dee8",
   "metadata": {},
   "outputs": [],
   "source": [
    "xx = 5\n",
    "del(xx)"
   ]
  },
  {
   "cell_type": "code",
   "execution_count": 11,
   "id": "3f9de2d7-7bd8-4abd-a373-96e0a89b4405",
   "metadata": {},
   "outputs": [
    {
     "name": "stdout",
     "output_type": "stream",
     "text": [
      "Assign the variable here \n"
     ]
    }
   ],
   "source": [
    "try:\n",
    "  print(xx)\n",
    "  print(c)\n",
    "except NameError as e:\n",
    "  print(\"Assign the variable here \")"
   ]
  },
  {
   "cell_type": "code",
   "execution_count": 12,
   "id": "e537ffda-3376-497d-ad39-6a608a0bcdcf",
   "metadata": {},
   "outputs": [
    {
     "name": "stdout",
     "output_type": "stream",
     "text": [
      "name 'xx' is not defined\n"
     ]
    }
   ],
   "source": [
    "try:\n",
    "  print(xx)\n",
    "  print(c)\n",
    "except NameError as e:\n",
    "  print(e)"
   ]
  },
  {
   "cell_type": "code",
   "execution_count": 17,
   "id": "ecfd7c77-41ea-4444-8372-4e6afefddd67",
   "metadata": {},
   "outputs": [
    {
     "name": "stdin",
     "output_type": "stream",
     "text": [
      "Enter the value of a:  0\n",
      "Enter the value of b:  0\n"
     ]
    },
    {
     "name": "stdout",
     "output_type": "stream",
     "text": [
      "Please use any number more than zero\n"
     ]
    }
   ],
   "source": [
    "try:\n",
    "    a=int(input(\"Enter the value of a: \"))\n",
    "    b=int(input(\"Enter the value of b: \"))\n",
    "    print(a/b)\n",
    "except NameError as e:\n",
    "    print(\"Assign the variable here\")\n",
    "except ZeroDivisionError:\n",
    "    print(\"Please use any number more than zero\")\n",
    "except Exception as e:\n",
    "    print(e)"
   ]
  },
  {
   "cell_type": "code",
   "execution_count": null,
   "id": "6cb87c0d-5080-4f39-9206-d6e8cba1e0d1",
   "metadata": {},
   "outputs": [],
   "source": [
    "s={1,2,3}\n",
    "s.append()"
   ]
  },
  {
   "cell_type": "code",
   "execution_count": null,
   "id": "6747bedc-811d-481f-9c15-1266a53bec16",
   "metadata": {},
   "outputs": [],
   "source": [
    "try:\n",
    "    s.append()\n",
    "except AttributeError as e:\n",
    "    print(\"Convert it to the list first\")"
   ]
  },
  {
   "cell_type": "code",
   "execution_count": null,
   "id": "90b61a39-dba7-4bfc-b54d-1710ba91a7a5",
   "metadata": {},
   "outputs": [],
   "source": [
    "try:\n",
    "    a1=int(input(\"Enter the value of a1: \"))\n",
    "    b1=int(input(\"Enter the value of b1: \"))\n",
    "    print()"
   ]
  }
 ],
 "metadata": {
  "kernelspec": {
   "display_name": "Python 3 (ipykernel)",
   "language": "python",
   "name": "python3"
  },
  "language_info": {
   "codemirror_mode": {
    "name": "ipython",
    "version": 3
   },
   "file_extension": ".py",
   "mimetype": "text/x-python",
   "name": "python",
   "nbconvert_exporter": "python",
   "pygments_lexer": "ipython3",
   "version": "3.12.4"
  }
 },
 "nbformat": 4,
 "nbformat_minor": 5
}
