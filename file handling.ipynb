{
 "cells": [
  {
   "cell_type": "code",
   "execution_count": 1,
   "id": "3ceb6a89-2dc9-4685-a6aa-f1770fffc05f",
   "metadata": {},
   "outputs": [],
   "source": [
    "file = open(\"new_file.text\",\"w\")\n",
    "\n",
    "file.write(\"This is the file handling \\n\")\n",
    "\n",
    "file.close()"
   ]
  },
  {
   "cell_type": "code",
   "execution_count": 2,
   "id": "183955e2-1815-4f18-a76b-cd727d393e18",
   "metadata": {},
   "outputs": [
    {
     "name": "stdout",
     "output_type": "stream",
     "text": [
      "This is the file handling \n",
      "\n"
     ]
    }
   ],
   "source": [
    "file = open(\"new_file.text\",\"r\")\n",
    "\n",
    "print(file.read())\n",
    "\n",
    "file.close()"
   ]
  },
  {
   "cell_type": "code",
   "execution_count": 3,
   "id": "55aa6af3-4c23-4a8e-a68b-b8adcfc3ec04",
   "metadata": {},
   "outputs": [],
   "source": [
    "# to add line in the file\n",
    "\n",
    "# use mode =\"a\" append\n",
    "\n",
    "file = open(\"new file.txt\",\"a\")\n",
    "\n",
    "file.write(\"this is the new data\\n\")\n",
    "\n",
    "file.write(\"this is the line seprater at the end of setence\\n\")\n",
    "\n",
    "file.close()"
   ]
  },
  {
   "cell_type": "code",
   "execution_count": 4,
   "id": "c5e0bcc2-9ce9-4935-bc9e-17ceb2aa346c",
   "metadata": {},
   "outputs": [
    {
     "name": "stdout",
     "output_type": "stream",
     "text": [
      "this is the new data\n",
      "this is the line seprater at the end of setence\n",
      "\n"
     ]
    }
   ],
   "source": [
    "file = open(\"new file.txt\",\"r\")\n",
    "\n",
    "print(file.read())\n",
    "\n",
    "file.close()"
   ]
  },
  {
   "cell_type": "code",
   "execution_count": 5,
   "id": "61e50179-63da-4abb-94a1-847799e6dd35",
   "metadata": {},
   "outputs": [
    {
     "name": "stdout",
     "output_type": "stream",
     "text": [
      "this is the new data\n",
      "\n",
      "this is the line seprater at the end of setence\n",
      "\n",
      "\n",
      "\n"
     ]
    }
   ],
   "source": [
    "# return first line of the file\n",
    "\n",
    "file = open(\"new file.txt\",\"r\")\n",
    "\n",
    "print(file.readline())\n",
    "\n",
    "print(file.readline())\n",
    "\n",
    "print(file.readline())\n",
    "\n",
    "print(file.readline())\n",
    "\n",
    "file.close()"
   ]
  },
  {
   "cell_type": "code",
   "execution_count": 6,
   "id": "ddf89934-965f-42f0-b1a6-28194787697a",
   "metadata": {},
   "outputs": [
    {
     "name": "stdout",
     "output_type": "stream",
     "text": [
      "['this is the new data\\n', 'this is the line seprater at the end of setence\\n']\n"
     ]
    }
   ],
   "source": [
    "#print nth line of the file\n",
    "\n",
    "file = open(\"new file.txt\",\"r\")\n",
    "\n",
    "print(file.readlines())\n",
    "\n",
    "file.close()"
   ]
  },
  {
   "cell_type": "code",
   "execution_count": 7,
   "id": "f4b24085-c595-431c-b541-32617832f729",
   "metadata": {},
   "outputs": [],
   "source": [
    "file = open(\"new file.txt\",\"a\")\n",
    "\n",
    "file.write(\"this is the new data\\n\")\n",
    "\n",
    "file.write(\"this is the line seprater at the end of setence\\n\")\n",
    "\n",
    "file.close()"
   ]
  },
  {
   "cell_type": "code",
   "execution_count": 9,
   "id": "0b730aaf-1a20-4c0e-bbfd-89a77a4b4c87",
   "metadata": {},
   "outputs": [
    {
     "name": "stdout",
     "output_type": "stream",
     "text": [
      "this is the new data\n",
      "this is the line seprater at the end of setence\n",
      "this is the new data\n",
      "this is the line seprater at the end of setence\n",
      "\n"
     ]
    }
   ],
   "source": [
    "file = open(\"new file.txt\",\"r\")\n",
    "print(file.read())\n",
    "file.close()"
   ]
  },
  {
   "cell_type": "code",
   "execution_count": 13,
   "id": "e381220d-9fd2-4200-aafd-ee20d7534da8",
   "metadata": {},
   "outputs": [],
   "source": [
    "f=open(\"tt\",\"w\")\n",
    "f.writelines(\"this is\"\"now\")\n",
    "f.close()"
   ]
  },
  {
   "cell_type": "code",
   "execution_count": 14,
   "id": "c1c8b2a3-33e5-410f-95e8-6b1685050ce8",
   "metadata": {},
   "outputs": [
    {
     "name": "stdout",
     "output_type": "stream",
     "text": [
      "this is the new data\n",
      "this is the line seprater at the end of setence\n",
      "this is the new data\n",
      "this is the line seprater at the end of setence\n",
      "this is the new data\n",
      "this is the line seprater at the end of setence\n",
      "\n"
     ]
    }
   ],
   "source": [
    "file = open(\"new file.txt\",\"r\")\n",
    "\n",
    "print(file.read())\n",
    "\n",
    "file.close()"
   ]
  },
  {
   "cell_type": "code",
   "execution_count": 15,
   "id": "639a54c2-23f2-4683-8bbf-b0b927f3544c",
   "metadata": {},
   "outputs": [
    {
     "name": "stdout",
     "output_type": "stream",
     "text": [
      "this is the new data\n",
      "\n",
      "this is the new data\n",
      "\n"
     ]
    }
   ],
   "source": [
    "file = open(\"new file.txt\", \"r\")\n",
    "\n",
    "lines = file.readlines() \n",
    "\n",
    "print(lines[4])      \n",
    "\n",
    "print(lines[2])    \n",
    "\n",
    "file.close()"
   ]
  },
  {
   "cell_type": "code",
   "execution_count": 17,
   "id": "e4f09158-9752-4433-9d2e-d707084a7d3b",
   "metadata": {},
   "outputs": [
    {
     "name": "stdout",
     "output_type": "stream",
     "text": [
      "this is the line seprater at the end of setence\n",
      "\n",
      "this is the line seprater at the end of setence\n",
      "\n"
     ]
    }
   ],
   "source": [
    "file = open(\"new file.txt\",\"r\")\n",
    "\n",
    "l1= file.readlines()\n",
    "\n",
    "print(l1[5])\n",
    "\n",
    "print(l1[1])\n",
    "\n",
    "file.close()"
   ]
  },
  {
   "cell_type": "code",
   "execution_count": null,
   "id": "70fb7e4c-ef5b-4bfd-80c8-d525fe69a2d9",
   "metadata": {},
   "outputs": [],
   "source": []
  }
 ],
 "metadata": {
  "kernelspec": {
   "display_name": "Python 3 (ipykernel)",
   "language": "python",
   "name": "python3"
  },
  "language_info": {
   "codemirror_mode": {
    "name": "ipython",
    "version": 3
   },
   "file_extension": ".py",
   "mimetype": "text/x-python",
   "name": "python",
   "nbconvert_exporter": "python",
   "pygments_lexer": "ipython3",
   "version": "3.12.4"
  }
 },
 "nbformat": 4,
 "nbformat_minor": 5
}
