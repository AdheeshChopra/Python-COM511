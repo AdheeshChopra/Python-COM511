{
 "cells": [
  {
   "cell_type": "code",
   "execution_count": 1,
   "id": "536b8669-ca4d-4745-9723-dbdda41b6709",
   "metadata": {},
   "outputs": [],
   "source": [
    "# if condition:\n",
    "#     print \"statement\"\n",
    "# elif condition:\n",
    "#     print \"statement\"\n",
    "# else:\n",
    "#     print \"statement\""
   ]
  },
  {
   "cell_type": "code",
   "execution_count": 2,
   "id": "b7afc021-8d86-41d6-9380-81b96917ab62",
   "metadata": {},
   "outputs": [],
   "source": [
    "# if condition1:\n",
    "#     print \"statement\"\n",
    "# elif condition2:\n",
    "#     print \"statement2\"\n",
    "# else:\n",
    "#     print \"statement3\""
   ]
  },
  {
   "cell_type": "code",
   "execution_count": 6,
   "id": "ccab683d-59a9-462b-92da-3aec1d5d756b",
   "metadata": {},
   "outputs": [
    {
     "name": "stdout",
     "output_type": "stream",
     "text": [
      "no less than zero\n"
     ]
    }
   ],
   "source": [
    "x=0\n",
    "if x>0:\n",
    "    print(\"yes more than zero\")\n",
    "else:\n",
    "    print(\"no less than zero\")"
   ]
  },
  {
   "cell_type": "code",
   "execution_count": 12,
   "id": "dfb534c9-c7b9-4ed2-8480-10d1a47e3de5",
   "metadata": {},
   "outputs": [
    {
     "name": "stdout",
     "output_type": "stream",
     "text": [
      "equal to zero\n"
     ]
    }
   ],
   "source": [
    "x=0\n",
    "if x>0:\n",
    "    print(\"yes more than zero\")\n",
    "elif x<0:\n",
    "    print(\"no less than zero\")\n",
    "else:\n",
    "    print(\"equal to zero\")"
   ]
  },
  {
   "cell_type": "code",
   "execution_count": 14,
   "id": "0f470205-0aba-4212-aa5c-c3e1ea2a26cf",
   "metadata": {},
   "outputs": [
    {
     "name": "stdin",
     "output_type": "stream",
     "text": [
      "Enter the number:  45\n"
     ]
    },
    {
     "name": "stdout",
     "output_type": "stream",
     "text": [
      "no less than 100\n"
     ]
    }
   ],
   "source": [
    "x=float(input(\"Enter the number: \"))\n",
    "if x>100:\n",
    "    print(\"yes more than 100\")\n",
    "elif x<100:\n",
    "    print(\"no less than 100\")\n",
    "else:\n",
    "    print(\"equal to 100\")"
   ]
  },
  {
   "cell_type": "code",
   "execution_count": 15,
   "id": "bb317ea1-7c69-4073-be40-bd08aaca14ee",
   "metadata": {},
   "outputs": [
    {
     "name": "stdin",
     "output_type": "stream",
     "text": [
      "Enter the number:  16\n"
     ]
    },
    {
     "name": "stdout",
     "output_type": "stream",
     "text": [
      "4096.0 cube cause x is mless than 100\n"
     ]
    }
   ],
   "source": [
    "x=float(input(\"Enter the number: \"))\n",
    "if x>100:\n",
    "    y=x**2\n",
    "    print(y,\"square cause x is more than 100\")\n",
    "elif x<100:\n",
    "    y=x**3\n",
    "    print(y,\"cube cause x is mless than 100\")\n",
    "else:\n",
    "    y=x**(1/2)\n",
    "    print(y,\"sqrt cause x is equal to 100\")"
   ]
  },
  {
   "cell_type": "code",
   "execution_count": 16,
   "id": "2f30f44e-fdb2-4c7c-ab01-dc6812f1db28",
   "metadata": {},
   "outputs": [
    {
     "name": "stdin",
     "output_type": "stream",
     "text": [
      " 5\n"
     ]
    },
    {
     "name": "stdout",
     "output_type": "stream",
     "text": [
      "5.0 is odd\n"
     ]
    }
   ],
   "source": [
    "x=float(input())\n",
    "if x%2==0:\n",
    "    print(x,\"is even\")\n",
    "else:\n",
    "    print(x,\"is odd\")"
   ]
  },
  {
   "cell_type": "code",
   "execution_count": null,
   "id": "5ca7fecf-1157-4fba-b922-c6c5c9c160a2",
   "metadata": {},
   "outputs": [],
   "source": []
  }
 ],
 "metadata": {
  "kernelspec": {
   "display_name": "Python 3 (ipykernel)",
   "language": "python",
   "name": "python3"
  },
  "language_info": {
   "codemirror_mode": {
    "name": "ipython",
    "version": 3
   },
   "file_extension": ".py",
   "mimetype": "text/x-python",
   "name": "python",
   "nbconvert_exporter": "python",
   "pygments_lexer": "ipython3",
   "version": "3.12.4"
  }
 },
 "nbformat": 4,
 "nbformat_minor": 5
}
