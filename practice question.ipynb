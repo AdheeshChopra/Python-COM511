{
 "cells": [
  {
   "cell_type": "code",
   "execution_count": null,
   "id": "4261c595-f951-45c2-978f-4954ac273f9c",
   "metadata": {},
   "outputs": [],
   "source": [
    "# check if the count of spaces is more than 5 or not"
   ]
  },
  {
   "cell_type": "code",
   "execution_count": null,
   "id": "66fb4afc-921e-4d78-969a-88521b9935c9",
   "metadata": {},
   "outputs": [],
   "source": [
    "# check if the length of string is more than 6 or not"
   ]
  },
  {
   "cell_type": "code",
   "execution_count": null,
   "id": "e8eafd9b-cf91-454a-a24d-b0c46ea5e972",
   "metadata": {},
   "outputs": [],
   "source": [
    "# check if string starts with a and ends with a\n",
    "# check if string starts with a and ends with r\n",
    "# check if string does not starts with a and ends with a\n",
    "# else: print there is no condition"
   ]
  },
  {
   "cell_type": "code",
   "execution_count": 4,
   "id": "fc51a6a0-3642-44b6-91f8-47af4b386974",
   "metadata": {},
   "outputs": [
    {
     "name": "stdin",
     "output_type": "stream",
     "text": [
      " hello my name is adheesh chopra\n"
     ]
    },
    {
     "name": "stdout",
     "output_type": "stream",
     "text": [
      "there are less than or equal to 5 spaces \n"
     ]
    }
   ],
   "source": [
    "s=input()\n",
    "if s.count(\" \")>5:\n",
    "    print(\"there are 5 spaces\")\n",
    "else:\n",
    "    print(\"there are less than or equal to 5 spaces \")"
   ]
  },
  {
   "cell_type": "code",
   "execution_count": 5,
   "id": "d7dee5b2-2398-4326-bf43-fd7f79424566",
   "metadata": {},
   "outputs": [
    {
     "name": "stdin",
     "output_type": "stream",
     "text": [
      "Enter the string:  hello my name is adheesh chopra\n"
     ]
    },
    {
     "name": "stdout",
     "output_type": "stream",
     "text": [
      "yes\n"
     ]
    }
   ],
   "source": [
    "s=input(\"Enter the string: \")\n",
    "if len(s)>6:\n",
    "    print(\"yes\")\n",
    "else:\n",
    "    print(\"no\")"
   ]
  },
  {
   "cell_type": "code",
   "execution_count": 6,
   "id": "4bdc5bd8-cd1c-484f-9ec9-e61d64beb0b7",
   "metadata": {},
   "outputs": [
    {
     "name": "stdin",
     "output_type": "stream",
     "text": [
      "Enter the string:  aghsha\n"
     ]
    },
    {
     "name": "stdout",
     "output_type": "stream",
     "text": [
      "string starts with a and ends with a\n"
     ]
    }
   ],
   "source": [
    "s=input(\"Enter the string: \")\n",
    "if s[0]==\"a\" and s[-1]==\"a\":\n",
    "    print(\"string starts with a and ends with a\")\n",
    "elif s[0]==\"a\" and s[-1]==\"r\":\n",
    "    print(\"string starts with a and ends with r\")\n",
    "elif s[0]!=\"a\" and s[-1]!=\"a\":\n",
    "    print(\"string does not starts with a and ends with a\")"
   ]
  },
  {
   "cell_type": "code",
   "execution_count": null,
   "id": "89e31ea5-ffb8-4dd6-b6b4-4babb961bb08",
   "metadata": {},
   "outputs": [],
   "source": [
    "# check if the given year is leap year or not"
   ]
  },
  {
   "cell_type": "code",
   "execution_count": 7,
   "id": "1ad9b03b-f387-4fa5-957f-2b767fd850ba",
   "metadata": {},
   "outputs": [
    {
     "name": "stdin",
     "output_type": "stream",
     "text": [
      "enter the year:  2030\n"
     ]
    },
    {
     "name": "stdout",
     "output_type": "stream",
     "text": [
      "not a leap year\n"
     ]
    }
   ],
   "source": [
    "year = int(input(\"enter the year: \"))\n",
    "if year%4==0 and year%100!=0 or year%400==0:\n",
    "    print(\"leap year\")\n",
    "else:\n",
    "    print(\"not a leap year\")"
   ]
  },
  {
   "cell_type": "code",
   "execution_count": null,
   "id": "8f305564-41aa-4194-b7f1-7555a7c01d02",
   "metadata": {},
   "outputs": [],
   "source": [
    "# s=\"hello\"\n",
    "# if x starts with \"f\" the merge "
   ]
  },
  {
   "cell_type": "code",
   "execution_count": 8,
   "id": "afc5ec1f-d398-46d3-b2cd-c626d484e12b",
   "metadata": {},
   "outputs": [
    {
     "name": "stdin",
     "output_type": "stream",
     "text": [
      "enter the string:  ssfdg\n"
     ]
    },
    {
     "name": "stdout",
     "output_type": "stream",
     "text": [
      "hello\n"
     ]
    }
   ],
   "source": [
    "s=\"hello\"\n",
    "x=input(\"enter the string: \")\n",
    "if x[0]==\"f\":\n",
    "    s=s+\" \"+x\n",
    "    print(s)\n",
    "else:\n",
    "    print(s)"
   ]
  },
  {
   "cell_type": "code",
   "execution_count": null,
   "id": "aee95932-b336-40ca-a9f6-b2db4e54bf25",
   "metadata": {},
   "outputs": [],
   "source": [
    "# write a program to demonstrate type checking of various data types\n",
    "# and demonstrate the use of following built in function in python\n",
    "# ex:- abs(), len(), min(), round(), isalnum(), type()"
   ]
  },
  {
   "cell_type": "code",
   "execution_count": 3,
   "id": "1a7d0cc5-0f26-4870-867c-aff798b5f833",
   "metadata": {},
   "outputs": [
    {
     "name": "stdout",
     "output_type": "stream",
     "text": [
      "Type of integer_value: <class 'int'>\n",
      "Type of float_value:  <class 'float'>\n",
      "Type of string_value:  <class 'str'>\n",
      "Type of list_value:  <class 'list'>\n",
      "Type of dict_value:  <class 'dict'>\n",
      "Absolute value of negative number: 42\n",
      "Length of string_value: 5\n",
      "Length of list_value: 5\n",
      "Minimum value in list_value: 1\n",
      "Rounded value of float_value: 10\n",
      "Is string_value alphanumeric? True\n"
     ]
    }
   ],
   "source": [
    "integer_value = 10\n",
    "float_value = 10.5\n",
    "string_value = \"Hello\"\n",
    "list_value = [1, 2, 3, 4, 5]\n",
    "dict_value = {'first_name': 'adheesh', 'last_name': 'chopra'}\n",
    "\n",
    "print(\"Type of integer_value:\", type(integer_value))\n",
    "print(\"Type of float_value: \", type(float_value))\n",
    "print(\"Type of string_value: \", type(string_value))\n",
    "print(\"Type of list_value: \", type(list_value))\n",
    "print(\"Type of dict_value: \", type(dict_value))\n",
    "\n",
    "negative_number = -42\n",
    "print(\"Absolute value of negative number:\", abs(negative_number))\n",
    "\n",
    "print(\"Length of string_value:\", len(string_value))\n",
    "\n",
    "print(\"Length of list_value:\", len(list_value))\n",
    "\n",
    "print(\"Minimum value in list_value:\", min(list_value))\n",
    "\n",
    "print(\"Rounded value of float_value:\", round(float_value))\n",
    "\n",
    "print(\"Is string_value alphanumeric?\", string_value.isalnum())"
   ]
  },
  {
   "cell_type": "markdown",
   "id": "f546a343-38b9-4fd8-a260-147e20b25940",
   "metadata": {},
   "source": [
    "**NESTED IF**"
   ]
  },
  {
   "cell_type": "code",
   "execution_count": 21,
   "id": "f251bcf0-1190-4cfc-b2a0-e978c4262b3a",
   "metadata": {},
   "outputs": [
    {
     "name": "stdin",
     "output_type": "stream",
     "text": [
      "age 456\n"
     ]
    },
    {
     "name": "stdout",
     "output_type": "stream",
     "text": [
      "adult\n"
     ]
    }
   ],
   "source": [
    "x=int(input(\"age\"))\n",
    "if x<=18:\n",
    "    print(\"minor\")\n",
    "    if x<16:\n",
    "        print(\"child\")\n",
    "    elif x<11:\n",
    "        print(\"small child\")\n",
    "else:\n",
    "    print(\"adult\")"
   ]
  },
  {
   "cell_type": "code",
   "execution_count": 3,
   "id": "adb8dfde-bf24-4778-91f9-d2b626971890",
   "metadata": {},
   "outputs": [
    {
     "name": "stdin",
     "output_type": "stream",
     "text": [
      "enter the name  cube\n",
      "enter what you want in cube volume\n"
     ]
    },
    {
     "name": "stdout",
     "output_type": "stream",
     "text": [
      "the formula of volume of cube is (side)**3\n"
     ]
    }
   ],
   "source": [
    "name = input(\"enter the name \")\n",
    "if name.lower() == \"triangle\":\n",
    "    g = input(\"enter what you want in triangle\")\n",
    "    if g.lower() == \"area\":\n",
    "        print(\"the formula of area of triangle is 1/2 * b *h \")\n",
    "    elif g.lower() == \"perimeter\":\n",
    "        print(\"the formula of perimeter of triangle is a+b+c\")\n",
    "    else:\n",
    "        print(\"u gave a wrong name\")\n",
    "elif name.lower()==\"cube\":\n",
    "    g = input(\"enter what you want in cube\")\n",
    "    if g.lower()==\"volume\":\n",
    "        print(\"the formula of volume of cube is (side)**3\")\n",
    "    elif g.lower() == \"perimeter\":\n",
    "        print(\"the formula of perimeter of cube is 12*side\")\n",
    "    else:\n",
    "        print(\"u gave a wrong name\")"
   ]
  },
  {
   "cell_type": "code",
   "execution_count": 8,
   "id": "add43cc3-0882-4581-80e4-1f96a770f6d1",
   "metadata": {},
   "outputs": [
    {
     "name": "stdin",
     "output_type": "stream",
     "text": [
      "enter the name of shape  cylinder\n",
      "Enter What You Want in Cylinder (area/volume):  area\n",
      "Enter The Radius:  23\n",
      "Enter The Height:  3\n"
     ]
    },
    {
     "name": "stdout",
     "output_type": "stream",
     "text": [
      "Surface Area of The Cylinder is:  3755.44\n",
      "Formula: Surface Area of Cylinder is ==> 2 * 3.14 * r * (r + h)\n"
     ]
    }
   ],
   "source": [
    "name=input(\"enter the name of shape \")\n",
    "if name.lower()==\"triangle\":\n",
    "    g = input(\"enter what you want in triangle \")\n",
    "    if g.lower()==\"area\":\n",
    "        b=float(input(\"enter the breath \"))\n",
    "        h=float(input(\"enter the heigth \"))\n",
    "        area=(1/2)*b*h\n",
    "        print(\"area of triangle is\", area)\n",
    "        print(\"area of triangle is  1/2*b*h\")\n",
    "    elif g.lower()==\"perimeter\":\n",
    "        a=float(input(\"enter the A \"))\n",
    "        b=float(input(\"enter the B \"))\n",
    "        c=float(input(\"enter the C \"))\n",
    "        perimeter = a+b+c\n",
    "        print(\"perimeter of triangle is \",perimeter)\n",
    "        print(\"perimeter of triangle is A+B+C\")\n",
    "        \n",
    "elif name.lower()==\"cube\":\n",
    "    g=input(\"what you want in cube \")\n",
    "    if g.lower() == \"area\":\n",
    "        side=float(input(\"enter the side \"))\n",
    "        area = 6 * (side** 2)\n",
    "        print(\"Surface Area of The Cube is: \", area)\n",
    "        print(\"Formula: Surface Area of Cube is ==> 6 * side**2\")\n",
    "    elif g.lower()==\"volume\":\n",
    "        volume=side**3\n",
    "        print(\"volume of cube is \", volume)\n",
    "        print(\"formula of volume of cube is side**3\")\n",
    "        \n",
    "elif name.lower() == \"cuboid\":\n",
    "    g = input(\"Enter What You Want in Cuboid (area/volume): \")\n",
    "    if g.lower() == \"area\":\n",
    "        l = float(input(\"Enter The Length: \"))\n",
    "        b = float(input(\"Enter The Breadth: \"))\n",
    "        h = float(input(\"Enter The Height: \"))\n",
    "        area = 2 * (l*b + b*h + l*h)\n",
    "        print(\"Area of The Cuboid is: \", area)\n",
    "        print(\"Formula: Area of Cuboid is ==> 2*(l*b + b*h + l*h)\")\n",
    "    elif g.lower() == \"volume\":\n",
    "        l = float(input(\"Enter The Length: \"))\n",
    "        b = float(input(\"Enter The Breadth: \"))\n",
    "        h = float(input(\"Enter The Height: \"))\n",
    "        volume = l * b * h\n",
    "        print(\"Volume of The Cuboid is: \", volume)\n",
    "        print(\"Formula: Volume of Cuboid is ==> l * b * h\")\n",
    "        \n",
    "elif name.lower() == \"cylinder\":\n",
    "    g = input(\"Enter What You Want in Cylinder (area/volume): \")\n",
    "    if g.lower() == \"area\":\n",
    "        r = float(input(\"Enter The Radius: \"))\n",
    "        h = float(input(\"Enter The Height: \"))\n",
    "        area = 2 * 3.14 * r * (r + h)\n",
    "        print(\"Surface Area of The Cylinder is: \", area)\n",
    "        print(\"Formula: Surface Area of Cylinder is ==> 2 * 3.14 * r * (r + h)\")\n",
    "    elif g.lower() == \"volume\":\n",
    "        r = float(input(\"Enter The Radius: \"))\n",
    "        h = float(input(\"Enter The Height: \"))\n",
    "        volume = 3.14 * (r ** 2) * h\n",
    "        print(\"Volume of The Cylinder is: \", volume)\n",
    "        print(\"Formula: Volume of Cylinder is ==> 3.14 * r**2 * h\")\n",
    "   \n",
    "else:\n",
    "    print(\"Unknown Shape\")"
   ]
  },
  {
   "cell_type": "code",
   "execution_count": null,
   "id": "7c8d0a9b-f7b7-4c25-bc62-aa5bee7a68b8",
   "metadata": {},
   "outputs": [],
   "source": []
  }
 ],
 "metadata": {
  "kernelspec": {
   "display_name": "Python 3 (ipykernel)",
   "language": "python",
   "name": "python3"
  },
  "language_info": {
   "codemirror_mode": {
    "name": "ipython",
    "version": 3
   },
   "file_extension": ".py",
   "mimetype": "text/x-python",
   "name": "python",
   "nbconvert_exporter": "python",
   "pygments_lexer": "ipython3",
   "version": "3.12.4"
  }
 },
 "nbformat": 4,
 "nbformat_minor": 5
}
