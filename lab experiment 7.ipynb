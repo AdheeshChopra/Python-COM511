{
 "cells": [
  {
   "cell_type": "code",
   "execution_count": 1,
   "id": "d83a1a57-b683-4f66-8eb5-ab844b7f61b6",
   "metadata": {},
   "outputs": [],
   "source": [
    "database = [\n",
    "  (1,\"abhiniza\",20,\"Maths\"),\n",
    "  (2,\"robin\",20,\"Maths\"),\n",
    "  (3,\"pankaj\",21,\"Maths\"),\n",
    "  (4,\"si joy\",22,\"Maths\")\n",
    "    ]"
   ]
  },
  {
   "cell_type": "code",
   "execution_count": 2,
   "id": "519019fd-3202-4efc-b395-6da312d9f360",
   "metadata": {},
   "outputs": [],
   "source": [
    "def display_data(data):\n",
    "  print(\"ID | NAME | AGE | SUBJECT\")\n",
    "  print(\"================================\")\n",
    "  for i in data:\n",
    "    print(f\"{i[0]:<3} | {i[1]:<10} | {i[2]:<3} | {i[3]}\")"
   ]
  },
  {
   "cell_type": "code",
   "execution_count": 3,
   "id": "5dc75d4f-b6b3-4151-bc34-36a86f5870f3",
   "metadata": {},
   "outputs": [
    {
     "name": "stdout",
     "output_type": "stream",
     "text": [
      "ID | NAME | AGE | SUBJECT\n",
      "================================\n",
      "1   | abhiniza   | 20  | Maths\n",
      "2   | robin      | 20  | Maths\n",
      "3   | pankaj     | 21  | Maths\n",
      "4   | si joy     | 22  | Maths\n"
     ]
    }
   ],
   "source": [
    "display_data(database)"
   ]
  },
  {
   "cell_type": "code",
   "execution_count": 4,
   "id": "2f0cd0f5-de55-4cc5-8fe5-bf629a322012",
   "metadata": {},
   "outputs": [],
   "source": [
    "def add_data(data, id, name, age, subject):\n",
    "    data.append((id, name, age, subject))"
   ]
  },
  {
   "cell_type": "code",
   "execution_count": 5,
   "id": "5c2ecfc3-1df5-4266-aca7-a40c9ba6b1ca",
   "metadata": {},
   "outputs": [],
   "source": [
    "add_data(database,5,\"Adheesh\",20,\"Hindi\")"
   ]
  },
  {
   "cell_type": "code",
   "execution_count": 6,
   "id": "ecdd1029-6feb-4f89-ab6f-a07468d4af15",
   "metadata": {},
   "outputs": [
    {
     "name": "stdout",
     "output_type": "stream",
     "text": [
      "ID | NAME | AGE | SUBJECT\n",
      "================================\n",
      "1   | abhiniza   | 20  | Maths\n",
      "2   | robin      | 20  | Maths\n",
      "3   | pankaj     | 21  | Maths\n",
      "4   | si joy     | 22  | Maths\n",
      "5   | Adheesh    | 20  | Hindi\n"
     ]
    }
   ],
   "source": [
    "display_data(database)"
   ]
  },
  {
   "cell_type": "code",
   "execution_count": 7,
   "id": "5b52017f-6c3a-4436-9b4d-b8da84394274",
   "metadata": {},
   "outputs": [],
   "source": [
    "def remove_row(data,id):\n",
    "    data.pop(id-1)"
   ]
  },
  {
   "cell_type": "code",
   "execution_count": 8,
   "id": "762a4f4b-819d-472b-9538-3512ef96e9a5",
   "metadata": {},
   "outputs": [],
   "source": [
    "remove_row(database,5)"
   ]
  },
  {
   "cell_type": "code",
   "execution_count": 9,
   "id": "d7132eb7-5bf4-4ddc-91c2-911930d05eed",
   "metadata": {},
   "outputs": [
    {
     "name": "stdout",
     "output_type": "stream",
     "text": [
      "ID | NAME | AGE | SUBJECT\n",
      "================================\n",
      "1   | abhiniza   | 20  | Maths\n",
      "2   | robin      | 20  | Maths\n",
      "3   | pankaj     | 21  | Maths\n",
      "4   | si joy     | 22  | Maths\n"
     ]
    }
   ],
   "source": [
    "display_data(database)"
   ]
  }
 ],
 "metadata": {
  "kernelspec": {
   "display_name": "Python 3 (ipykernel)",
   "language": "python",
   "name": "python3"
  },
  "language_info": {
   "codemirror_mode": {
    "name": "ipython",
    "version": 3
   },
   "file_extension": ".py",
   "mimetype": "text/x-python",
   "name": "python",
   "nbconvert_exporter": "python",
   "pygments_lexer": "ipython3",
   "version": "3.12.4"
  }
 },
 "nbformat": 4,
 "nbformat_minor": 5
}
