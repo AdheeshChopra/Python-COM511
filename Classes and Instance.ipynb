{
 "cells": [
  {
   "cell_type": "code",
   "execution_count": 1,
   "id": "08122ed7-04bb-4d19-b4d3-b80e22f2a24d",
   "metadata": {},
   "outputs": [],
   "source": [
    "class Room: \n",
    "\n",
    "  gate = 2\n",
    "\n",
    "  window = 4\n",
    "\n",
    "  walls = 4\n",
    "\n",
    "  ceiling = 1"
   ]
  },
  {
   "cell_type": "code",
   "execution_count": 3,
   "id": "191f975e-d624-4877-b888-bc8561fe82b6",
   "metadata": {},
   "outputs": [],
   "source": [
    "r=Room()"
   ]
  },
  {
   "cell_type": "code",
   "execution_count": 4,
   "id": "13b159e8-bea1-498a-b989-393493474108",
   "metadata": {},
   "outputs": [
    {
     "name": "stdout",
     "output_type": "stream",
     "text": [
      "2\n",
      "4\n",
      "4\n",
      "1\n"
     ]
    }
   ],
   "source": [
    "print(r.gate)\n",
    "\n",
    "print(r.walls)\n",
    "\n",
    "print(r.window)\n",
    "\n",
    "print(r.ceiling)"
   ]
  },
  {
   "cell_type": "code",
   "execution_count": 5,
   "id": "85073c69-c015-446b-b6ec-bfc4c0aa3195",
   "metadata": {},
   "outputs": [
    {
     "name": "stdout",
     "output_type": "stream",
     "text": [
      "Help on class Room in module __main__:\n",
      "\n",
      "class Room(builtins.object)\n",
      " |  Data descriptors defined here:\n",
      " |\n",
      " |  __dict__\n",
      " |      dictionary for instance variables\n",
      " |\n",
      " |  __weakref__\n",
      " |      list of weak references to the object\n",
      " |\n",
      " |  ----------------------------------------------------------------------\n",
      " |  Data and other attributes defined here:\n",
      " |\n",
      " |  ceiling = 1\n",
      " |\n",
      " |  gate = 2\n",
      " |\n",
      " |  walls = 4\n",
      " |\n",
      " |  window = 4\n",
      "\n"
     ]
    }
   ],
   "source": [
    "help(Room)"
   ]
  },
  {
   "cell_type": "code",
   "execution_count": 6,
   "id": "1e9337f9-f8ea-4a9c-93a8-2a27f4458110",
   "metadata": {},
   "outputs": [
    {
     "data": {
      "text/plain": [
       "6"
      ]
     },
     "execution_count": 6,
     "metadata": {},
     "output_type": "execute_result"
    }
   ],
   "source": [
    "r1 = Room()\n",
    "\n",
    "\n",
    "\n",
    "r1.walls = 6\n",
    "\n",
    "\n",
    "\n",
    "r1.walls"
   ]
  },
  {
   "cell_type": "code",
   "execution_count": 7,
   "id": "e2d515b3-162d-4a66-b036-a7cc454925d6",
   "metadata": {},
   "outputs": [
    {
     "name": "stdout",
     "output_type": "stream",
     "text": [
      "Help on class Room in module __main__:\n",
      "\n",
      "class Room(builtins.object)\n",
      " |  Data descriptors defined here:\n",
      " |\n",
      " |  __dict__\n",
      " |      dictionary for instance variables\n",
      " |\n",
      " |  __weakref__\n",
      " |      list of weak references to the object\n",
      " |\n",
      " |  ----------------------------------------------------------------------\n",
      " |  Data and other attributes defined here:\n",
      " |\n",
      " |  ceiling = 1\n",
      " |\n",
      " |  gate = 2\n",
      " |\n",
      " |  walls = 4\n",
      " |\n",
      " |  window = 4\n",
      "\n"
     ]
    }
   ],
   "source": [
    "help(Room)"
   ]
  },
  {
   "cell_type": "code",
   "execution_count": 28,
   "id": "6135d4ef-b9e3-4d5d-b248-bf9c1fec75bc",
   "metadata": {},
   "outputs": [],
   "source": [
    "class Student:\n",
    "    name=\"Adheesh\"\n",
    "    marks=99\n",
    "    age=20\n",
    "    fees=\"paid\"\n",
    "    def details(self):\n",
    "        print(\"name\",self.name)\n",
    "        print(\"marks\",self.marks)\n",
    "        print(\"age\",self.age)\n",
    "        print(\"fees\",self.fees)"
   ]
  },
  {
   "cell_type": "code",
   "execution_count": 29,
   "id": "3873d0ac-fcab-44d4-889a-32f97520d250",
   "metadata": {},
   "outputs": [],
   "source": [
    "s=Student()"
   ]
  },
  {
   "cell_type": "code",
   "execution_count": 30,
   "id": "64b1aa87-2190-462d-bb4c-a5099818900b",
   "metadata": {},
   "outputs": [
    {
     "data": {
      "text/plain": [
       "99"
      ]
     },
     "execution_count": 30,
     "metadata": {},
     "output_type": "execute_result"
    }
   ],
   "source": [
    "s.marks"
   ]
  },
  {
   "cell_type": "code",
   "execution_count": 31,
   "id": "89d62f99-9cd6-4e0a-ae03-8eb39339e8b9",
   "metadata": {},
   "outputs": [
    {
     "name": "stdout",
     "output_type": "stream",
     "text": [
      "name Adheesh\n",
      "marks 99\n",
      "age 20\n",
      "fees paid\n"
     ]
    }
   ],
   "source": [
    "s.details()"
   ]
  },
  {
   "cell_type": "code",
   "execution_count": 32,
   "id": "d5ab8707-5e7b-4fc5-bbf8-ad02af5b8e91",
   "metadata": {},
   "outputs": [],
   "source": [
    "class Student:\n",
    "    name=\"Adheesh\"\n",
    "    maths=95\n",
    "    english=98\n",
    "    science=90\n",
    "    hindi=92\n",
    "    def total_score(self):\n",
    "        return self.maths+self.english+self.science+self.hindi"
   ]
  },
  {
   "cell_type": "code",
   "execution_count": 33,
   "id": "ad4d2497-77df-4964-92e7-b27fc915f369",
   "metadata": {},
   "outputs": [],
   "source": [
    "s=Student()"
   ]
  },
  {
   "cell_type": "code",
   "execution_count": 34,
   "id": "3d37c110-79d5-4036-ad6c-f69602069d1b",
   "metadata": {},
   "outputs": [
    {
     "name": "stdout",
     "output_type": "stream",
     "text": [
      "Adheesh\n"
     ]
    },
    {
     "data": {
      "text/plain": [
       "375"
      ]
     },
     "execution_count": 34,
     "metadata": {},
     "output_type": "execute_result"
    }
   ],
   "source": [
    "print(s.name)\n",
    "s.total_score()"
   ]
  },
  {
   "cell_type": "code",
   "execution_count": 37,
   "id": "550950fc-ad94-41ed-b769-495c33528b72",
   "metadata": {},
   "outputs": [],
   "source": [
    "class School():\n",
    "    area = \"5 acr\"\n",
    "    room = 50\n",
    "    teachers=100\n",
    "    student = 2000\n",
    "    fees=6500\n",
    "    teachers_salary=25000\n",
    "    def total_exp(self):\n",
    "        return self.teachers_salary*self.teachers\n",
    "    def total_income(self):\n",
    "        return self.fees*self.students"
   ]
  },
  {
   "cell_type": "markdown",
   "id": "46c6edc2-4dd4-4836-aed3-90ec584f1add",
   "metadata": {},
   "source": [
    "**Banking System**"
   ]
  },
  {
   "cell_type": "code",
   "execution_count": 3,
   "id": "2faf7820-d474-4ff8-9006-db06c2069f15",
   "metadata": {},
   "outputs": [],
   "source": [
    "class Bank:\n",
    "    def __init__(self,name,account,balance):\n",
    "        self.name = name\n",
    "        self.account = account\n",
    "        self.balance = balance\n",
    "    def credit(self,amount):\n",
    "        self.amount = amount\n",
    "        self.balance = self.balance + self.amount\n",
    "        print(self.amount,\"Credit in Your Bank Account\")\n",
    "        print(\"Your Remaining Balance is\",self.balance)\n",
    "    def debit(self,amount):\n",
    "        self.amount=amount\n",
    "        self.balance=self.balance+self.amount\n",
    "        print(self.amount, \"Debited from your bank account\")\n",
    "        print(\"Your remaining balance is\", self.balance)"
   ]
  },
  {
   "cell_type": "code",
   "execution_count": 4,
   "id": "dd6a8076-3228-4f99-8bd9-514c9cb21048",
   "metadata": {},
   "outputs": [],
   "source": [
    "b = Bank(\"a\",458,500)"
   ]
  },
  {
   "cell_type": "markdown",
   "id": "514c94ea-3cca-449e-aa51-dd3b07b3aab6",
   "metadata": {},
   "source": [
    "CGPA Calculator"
   ]
  },
  {
   "cell_type": "code",
   "execution_count": null,
   "id": "5eaf7e8c-158e-423f-9927-6c751f1658c7",
   "metadata": {},
   "outputs": [],
   "source": [
    "class Marksheet:\n",
    "    def year1(self,m1):\n",
    "        self.m1=m1\n",
    "    def year2(self,m2):\n",
    "        self.m2=m2\n",
    "    def year3(self,m3):\n",
    "        self.m3=m3\n",
    "    def overall(self):\n",
    "        if self.m1>0 and self.m2==0 and self.m3==0:\n",
    "            print(self.m1)\n",
    "        elif self.m1>0 and self.m2>0 and self.m3==0:\n",
    "            print((self.m1+self.m2)/2)\n",
    "        elif self.m1>0 and self.m2>0 and self.m3>0:\n",
    "            print((self.m1+self.m2+self.m3)/3)"
   ]
  },
  {
   "cell_type": "code",
   "execution_count": 17,
   "id": "60fff232-ba01-4777-856a-cde0c7ebaf0e",
   "metadata": {},
   "outputs": [
    {
     "name": "stdout",
     "output_type": "stream",
     "text": [
      "8.0\n"
     ]
    }
   ],
   "source": [
    "class Student:\n",
    "  def __init__(self, a1, a2, a3):\n",
    "    self.a1 = a1\n",
    "    self.a2 = a2\n",
    "    self.a3 = a3\n",
    "  def overall(self):\n",
    "    if self.a1 > 0 and self.a2 is None and self.a3 is None:\n",
    "      print(self.a1)\n",
    "    elif self.a1 > 0 and self.a2 is not None and self.a3 is None:\n",
    "      print((self.a1 + self.a2) / 2)\n",
    "    elif self.a1 > 0 and self.a2 is not None and self.a3 is not None:\n",
    "      print((self.a1 + self.a2 + self.a3) / 3)\n",
    "        \n",
    "s1 = Student(10, None, None)\n",
    "s2 = Student(10, 8, None)\n",
    "s3 = Student(10, 8, 6) \n",
    "\n",
    "s3.overall()"
   ]
  },
  {
   "cell_type": "code",
   "execution_count": null,
   "id": "6dea80f0-248f-4f2d-9c1a-4c5436ea427c",
   "metadata": {},
   "outputs": [],
   "source": []
  }
 ],
 "metadata": {
  "kernelspec": {
   "display_name": "Python 3 (ipykernel)",
   "language": "python",
   "name": "python3"
  },
  "language_info": {
   "codemirror_mode": {
    "name": "ipython",
    "version": 3
   },
   "file_extension": ".py",
   "mimetype": "text/x-python",
   "name": "python",
   "nbconvert_exporter": "python",
   "pygments_lexer": "ipython3",
   "version": "3.12.4"
  }
 },
 "nbformat": 4,
 "nbformat_minor": 5
}
