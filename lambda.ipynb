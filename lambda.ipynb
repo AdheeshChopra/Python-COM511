{
 "cells": [
  {
   "cell_type": "markdown",
   "id": "88365fc2-1e0f-46ae-bb76-60068a832e27",
   "metadata": {},
   "source": [
    "lambda agr1, agr2....:calculation"
   ]
  },
  {
   "cell_type": "code",
   "execution_count": 1,
   "id": "cd5cee70-29c0-41dc-adc3-bbdc638882c5",
   "metadata": {},
   "outputs": [],
   "source": [
    "f=lambda x,y:x+y"
   ]
  },
  {
   "cell_type": "code",
   "execution_count": 2,
   "id": "36cee476-6fdb-46ab-81cf-75b3433e0ef3",
   "metadata": {},
   "outputs": [
    {
     "data": {
      "text/plain": [
       "30"
      ]
     },
     "execution_count": 2,
     "metadata": {},
     "output_type": "execute_result"
    }
   ],
   "source": [
    "f(10,20)"
   ]
  },
  {
   "cell_type": "code",
   "execution_count": 3,
   "id": "78a101cb-e1e9-4c90-8e48-553a27ec38aa",
   "metadata": {},
   "outputs": [],
   "source": [
    "sqrt=lambda x:x**2"
   ]
  },
  {
   "cell_type": "code",
   "execution_count": 4,
   "id": "bd9261d2-6fa7-4752-9757-ab25dc0f0e80",
   "metadata": {},
   "outputs": [],
   "source": [
    "cube=lambda x:x**3"
   ]
  },
  {
   "cell_type": "code",
   "execution_count": 5,
   "id": "e2d7ef34-8fb5-444a-a42d-f5fea9b9967f",
   "metadata": {},
   "outputs": [],
   "source": [
    "sqrt=lambda x:x**(1/2)"
   ]
  },
  {
   "cell_type": "code",
   "execution_count": 6,
   "id": "7617e10d-b1a0-46a5-849c-bc3d24e45bb9",
   "metadata": {},
   "outputs": [],
   "source": [
    "curt=lambda x:x**(1/3)"
   ]
  },
  {
   "cell_type": "code",
   "execution_count": 7,
   "id": "1149bc43-edf8-4eb1-a4a7-142b9b37c66d",
   "metadata": {},
   "outputs": [],
   "source": [
    "# area of circle, triangle\n",
    "area_circle= lambda r:3.14*(r**2)"
   ]
  },
  {
   "cell_type": "code",
   "execution_count": 8,
   "id": "d856bc13-fc05-459b-9203-a9dd9cb64e35",
   "metadata": {},
   "outputs": [
    {
     "data": {
      "text/plain": [
       "12.56"
      ]
     },
     "execution_count": 8,
     "metadata": {},
     "output_type": "execute_result"
    }
   ],
   "source": [
    "area_circle(2)"
   ]
  },
  {
   "cell_type": "code",
   "execution_count": 9,
   "id": "05086c8b-00bf-4935-8a7d-4722667524f6",
   "metadata": {},
   "outputs": [],
   "source": [
    "area_triangle= lambda b,h:(1/2)*b*h"
   ]
  },
  {
   "cell_type": "code",
   "execution_count": 10,
   "id": "8e20fb22-8e74-46db-9f48-8f78d5b70370",
   "metadata": {},
   "outputs": [
    {
     "data": {
      "text/plain": [
       "7.5"
      ]
     },
     "execution_count": 10,
     "metadata": {},
     "output_type": "execute_result"
    }
   ],
   "source": [
    "area_triangle(5,3)"
   ]
  },
  {
   "cell_type": "code",
   "execution_count": 15,
   "id": "58912b86-ac0b-46a2-97f3-d62e90a67246",
   "metadata": {},
   "outputs": [],
   "source": [
    "# use a list and calculate square of all element\n",
    "df=lambda x:[i**2 for i in x]"
   ]
  },
  {
   "cell_type": "code",
   "execution_count": 16,
   "id": "67e3bc75-4671-414a-995f-baf15388f192",
   "metadata": {},
   "outputs": [
    {
     "data": {
      "text/plain": [
       "[1, 4, 9, 16, 25]"
      ]
     },
     "execution_count": 16,
     "metadata": {},
     "output_type": "execute_result"
    }
   ],
   "source": [
    "df([1,2,3,4,5])"
   ]
  },
  {
   "cell_type": "code",
   "execution_count": null,
   "id": "11ed93e7-f5bc-4f15-9ec5-679055ea5870",
   "metadata": {},
   "outputs": [],
   "source": []
  }
 ],
 "metadata": {
  "kernelspec": {
   "display_name": "Python 3 (ipykernel)",
   "language": "python",
   "name": "python3"
  },
  "language_info": {
   "codemirror_mode": {
    "name": "ipython",
    "version": 3
   },
   "file_extension": ".py",
   "mimetype": "text/x-python",
   "name": "python",
   "nbconvert_exporter": "python",
   "pygments_lexer": "ipython3",
   "version": "3.12.4"
  }
 },
 "nbformat": 4,
 "nbformat_minor": 5
}
